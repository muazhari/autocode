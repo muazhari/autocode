{
 "cells": [
  {
   "metadata": {},
   "cell_type": "code",
   "source": [
    "import uuid\n",
    "\n",
    "from python_on_whales import DockerClient, docker\n",
    "\n",
    "docker_clients = []\n",
    "for i in range(1):\n",
    "    worker_id = uuid.uuid4().hex\n",
    "    docker_client = DockerClient(\n",
    "        compose_project_name=worker_id,\n",
    "        compose_files=[\"client-compose.yml\"],\n",
    "    )\n",
    "    docker_clients.append(docker_client)\n",
    "\n"
   ],
   "id": "8cfa79902bf4963a",
   "outputs": [],
   "execution_count": null
  },
  {
   "metadata": {},
   "cell_type": "code",
   "source": [
    "for docker_client in docker_clients:\n",
    "    docker_client.compose.up(\n",
    "        detach=True,\n",
    "        build=True,\n",
    "    )"
   ],
   "id": "50eabc9a50682b2a",
   "outputs": [],
   "execution_count": null
  },
  {
   "metadata": {},
   "cell_type": "code",
   "source": "docker.image.list()",
   "id": "f01d9c45d2aba040",
   "outputs": [],
   "execution_count": null
  },
  {
   "metadata": {},
   "cell_type": "code",
   "source": [
    "for docker_client in docker_clients:\n",
    "    docker_client.compose.down()"
   ],
   "id": "e1ce045645fccd25",
   "outputs": [],
   "execution_count": null
  },
  {
   "metadata": {},
   "cell_type": "code",
   "source": "list(docker_clients[0].compose.ps()[0].network_settings.networks.values())[0].ip_address",
   "id": "7de84698188aaeca",
   "outputs": [],
   "execution_count": null
  },
  {
   "metadata": {},
   "cell_type": "code",
   "source": [
    "for docker_client in docker_clients:\n",
    "    for container in docker_client.compose.ps():\n",
    "        A_WORKER_ID = docker_client.client_config.compose_project_name\n",
    "        B_WORKER_ID = [env for env in container.config.env if \"WORKER_ID\" in env][0].split(\"=\")[1]\n",
    "        print(A_WORKER_ID, B_WORKER_ID, A_WORKER_ID == B_WORKER_ID, container.name)"
   ],
   "id": "1fcd644a59b4caa8",
   "outputs": [],
   "execution_count": null
  },
  {
   "metadata": {},
   "cell_type": "code",
   "source": "container.name.removeprefix(\"f4425bc7e176405e89ca8af2954caa46-\")",
   "id": "53154861ee5c4004",
   "outputs": [],
   "execution_count": null
  },
  {
   "metadata": {},
   "cell_type": "code",
   "source": [
    "from httpx import Client\n",
    "\n",
    "http_client = Client(\n",
    "    base_url=\"http://172.31.0.3:11000/apis\",\n",
    ")\n",
    "http_client.get(\"/optimizations/evaluates/runs\")"
   ],
   "id": "1a7380e579ec5e38",
   "outputs": [],
   "execution_count": null
  },
  {
   "metadata": {},
   "cell_type": "code",
   "source": [
    "import autocode\n",
    "\n",
    "optimization = autocode.Optimization(\n",
    "    num_cpus=2,\n",
    "    server_host=\"0.0.0.0\",\n",
    "    server_port=10000,\n",
    "    dashboard_port=10001,\n",
    ")"
   ],
   "id": "fe6274905d54ad44",
   "outputs": [],
   "execution_count": null
  },
  {
   "metadata": {},
   "cell_type": "code",
   "source": "!python3 -m streamlit run ../autocode/dashboard.py --server.port 10001",
   "id": "abc8f044f5247176",
   "outputs": [],
   "execution_count": null
  },
  {
   "metadata": {
    "ExecuteTime": {
     "end_time": "2024-08-05T11:26:08.581945Z",
     "start_time": "2024-08-05T11:26:06.912430Z"
    }
   },
   "cell_type": "code",
   "source": [
    "from autocode import OptimizationUseCase, ApplicationSetting, OneDatastore\n",
    "from autocode.container import ApplicationContainer\n",
    "import os\n",
    "\n",
    "os.environ[\"LANGCHAIN_TRACING_V2\"] = \"true\"\n",
    "os.environ[\"LANGCHAIN_ENDPOINT\"] = \"https://api.smith.langchain.com\"\n",
    "os.environ[\"LANGCHAIN_API_KEY\"] = \"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\"\n",
    "os.environ[\"LANGCHAIN_PROJECT\"] = \"autocode\"\n",
    "\n",
    "application_container: ApplicationContainer = ApplicationContainer()\n",
    "application_setting: ApplicationSetting = application_container.settings.application()\n",
    "application_setting.num_cpus = 2\n",
    "application_setting.server_host = \"0.0.0.0\"\n",
    "application_setting.server_port = 10000\n",
    "application_setting.dashboard_port = 10001\n",
    "optimization: OptimizationUseCase = application_container.use_cases.optimization()\n",
    "optimization.reset()"
   ],
   "id": "e79f7e07e3b46f41",
   "outputs": [],
   "execution_count": 1
  },
  {
   "metadata": {
    "ExecuteTime": {
     "end_time": "2024-08-05T11:26:30.336354Z",
     "start_time": "2024-08-05T11:26:09.746633Z"
    }
   },
   "cell_type": "code",
   "source": [
    "docker_clients = optimization.deploy(\n",
    "    compose_files=[\"./client-compose.yml\"],\n",
    ")"
   ],
   "id": "303433e5ea06bdd4",
   "outputs": [
    {
     "name": "stdout",
     "output_type": "stream",
     "text": [
      "#0 building with \"default\" instance using docker driver\n",
      "\n",
      "#1 [app-product internal] load build definition from .Dockerfile\n",
      "#1 DONE 0.0s\n",
      "\n",
      "#1 [app-product internal] load build definition from .Dockerfile\n",
      "#1 transferring dockerfile: 119B 0.0s done\n",
      "#1 DONE 0.0s\n",
      "\n",
      "#2 [app-account internal] load build definition from .Dockerfile\n",
      "#2 transferring dockerfile: 119B 0.0s done\n",
      "#2 DONE 0.0s\n",
      "\n",
      "#3 [app-account internal] load metadata for docker.io/library/golang:latest\n",
      "#3 ERROR: failed to do request: Head \"https://registry-1.docker.io/v2/library/golang/manifests/latest\": dial tcp: lookup registry-1.docker.io on 1.0.0.1:53: read udp 172.25.4.192:53732->1.0.0.1:53: i/o timeout\n",
      "------\n",
      " > [app-account internal] load metadata for docker.io/library/golang:latest:\n",
      "------\n"
     ]
    },
    {
     "name": "stderr",
     "output_type": "stream",
     "text": [
      "failed to solve: golang:latest: failed to resolve source metadata for docker.io/library/golang:latest: failed to do request: Head \"https://registry-1.docker.io/v2/library/golang/manifests/latest\": dial tcp: lookup registry-1.docker.io on 1.0.0.1:53: read udp 172.25.4.192:53732->1.0.0.1:53: i/o timeout\n"
     ]
    },
    {
     "ename": "DockerException",
     "evalue": "The command executed was `/usr/bin/docker compose --file ./client-compose.yml --project-name 6efe7b677b3449879d77a38330404db1 up --build --detach`.\nIt returned with code 17\nThe content of stdout can be found above the stacktrace (it wasn't captured).\nThe content of stderr can be found above the stacktrace (it wasn't captured).",
     "output_type": "error",
     "traceback": [
      "\u001B[0;31m---------------------------------------------------------------------------\u001B[0m",
      "\u001B[0;31mDockerException\u001B[0m                           Traceback (most recent call last)",
      "Cell \u001B[0;32mIn[2], line 1\u001B[0m\n\u001B[0;32m----> 1\u001B[0m docker_clients \u001B[38;5;241m=\u001B[39m \u001B[43moptimization\u001B[49m\u001B[38;5;241;43m.\u001B[39;49m\u001B[43mdeploy\u001B[49m\u001B[43m(\u001B[49m\n\u001B[1;32m      2\u001B[0m \u001B[43m    \u001B[49m\u001B[43mcompose_files\u001B[49m\u001B[38;5;241;43m=\u001B[39;49m\u001B[43m[\u001B[49m\u001B[38;5;124;43m\"\u001B[39;49m\u001B[38;5;124;43m./client-compose.yml\u001B[39;49m\u001B[38;5;124;43m\"\u001B[39;49m\u001B[43m]\u001B[49m\u001B[43m,\u001B[49m\n\u001B[1;32m      3\u001B[0m \u001B[43m)\u001B[49m\n",
      "File \u001B[0;32m/mnt/c/Data/Apps/autocode/autocode/use_case.py:531\u001B[0m, in \u001B[0;36mOptimizationUseCase.deploy\u001B[0;34m(self, compose_files)\u001B[0m\n\u001B[1;32m    526\u001B[0m worker_id: \u001B[38;5;28mstr\u001B[39m \u001B[38;5;241m=\u001B[39m uuid\u001B[38;5;241m.\u001B[39muuid4()\u001B[38;5;241m.\u001B[39mhex\n\u001B[1;32m    527\u001B[0m docker_client \u001B[38;5;241m=\u001B[39m DockerClient(\n\u001B[1;32m    528\u001B[0m     compose_project_name\u001B[38;5;241m=\u001B[39mworker_id,\n\u001B[1;32m    529\u001B[0m     compose_files\u001B[38;5;241m=\u001B[39mcompose_files,\n\u001B[1;32m    530\u001B[0m )\n\u001B[0;32m--> 531\u001B[0m \u001B[43mdocker_client\u001B[49m\u001B[38;5;241;43m.\u001B[39;49m\u001B[43mcompose\u001B[49m\u001B[38;5;241;43m.\u001B[39;49m\u001B[43mup\u001B[49m\u001B[43m(\u001B[49m\n\u001B[1;32m    532\u001B[0m \u001B[43m    \u001B[49m\u001B[43mdetach\u001B[49m\u001B[38;5;241;43m=\u001B[39;49m\u001B[38;5;28;43;01mTrue\u001B[39;49;00m\u001B[43m,\u001B[49m\n\u001B[1;32m    533\u001B[0m \u001B[43m    \u001B[49m\u001B[43mbuild\u001B[49m\u001B[38;5;241;43m=\u001B[39;49m\u001B[38;5;28;43;01mTrue\u001B[39;49;00m\n\u001B[1;32m    534\u001B[0m \u001B[43m\u001B[49m\u001B[43m)\u001B[49m\n\u001B[1;32m    535\u001B[0m \u001B[38;5;28;01mfor\u001B[39;00m container \u001B[38;5;129;01min\u001B[39;00m docker_client\u001B[38;5;241m.\u001B[39mcompose\u001B[38;5;241m.\u001B[39mps():\n\u001B[1;32m    536\u001B[0m     networks: List[NetworkInspectResult] \u001B[38;5;241m=\u001B[39m \u001B[38;5;28mlist\u001B[39m(container\u001B[38;5;241m.\u001B[39mnetwork_settings\u001B[38;5;241m.\u001B[39mnetworks\u001B[38;5;241m.\u001B[39mvalues())\n",
      "File \u001B[0;32m~/miniconda3/lib/python3.11/site-packages/python_on_whales/components/compose/cli_wrapper.py:1046\u001B[0m, in \u001B[0;36mComposeCLI.up\u001B[0;34m(self, services, build, detach, abort_on_container_exit, scales, attach_dependencies, force_recreate, recreate, no_build, remove_orphans, renew_anon_volumes, color, log_prefix, start, quiet, wait, no_attach_services, pull, stream_logs, wait_timeout)\u001B[0m\n\u001B[1;32m   1043\u001B[0m     \u001B[38;5;28;01mreturn\u001B[39;00m stream_stdout_and_stderr(full_cmd)\n\u001B[1;32m   1044\u001B[0m \u001B[38;5;28;01melse\u001B[39;00m:\n\u001B[1;32m   1045\u001B[0m     \u001B[38;5;66;03m# important information is written to both stdout AND stderr.\u001B[39;00m\n\u001B[0;32m-> 1046\u001B[0m     \u001B[43mrun\u001B[49m\u001B[43m(\u001B[49m\u001B[43mfull_cmd\u001B[49m\u001B[43m,\u001B[49m\u001B[43m \u001B[49m\u001B[43mcapture_stdout\u001B[49m\u001B[38;5;241;43m=\u001B[39;49m\u001B[43mquiet\u001B[49m\u001B[43m,\u001B[49m\u001B[43m \u001B[49m\u001B[43mcapture_stderr\u001B[49m\u001B[38;5;241;43m=\u001B[39;49m\u001B[43mquiet\u001B[49m\u001B[43m)\u001B[49m\n",
      "File \u001B[0;32m~/miniconda3/lib/python3.11/site-packages/python_on_whales/utils.py:224\u001B[0m, in \u001B[0;36mrun\u001B[0;34m(args, capture_stdout, capture_stderr, input, return_stderr, env, tty, pass_fds)\u001B[0m\n\u001B[1;32m    216\u001B[0m         \u001B[38;5;28;01mif\u001B[39;00m \u001B[38;5;124m\"\u001B[39m\u001B[38;5;124mno such volume\u001B[39m\u001B[38;5;124m\"\u001B[39m \u001B[38;5;129;01min\u001B[39;00m decoded_stderr:\n\u001B[1;32m    217\u001B[0m             \u001B[38;5;28;01mraise\u001B[39;00m NoSuchVolume(\n\u001B[1;32m    218\u001B[0m                 args,\n\u001B[1;32m    219\u001B[0m                 completed_process\u001B[38;5;241m.\u001B[39mreturncode,\n\u001B[1;32m    220\u001B[0m                 completed_process\u001B[38;5;241m.\u001B[39mstdout,\n\u001B[1;32m    221\u001B[0m                 completed_process\u001B[38;5;241m.\u001B[39mstderr,\n\u001B[1;32m    222\u001B[0m             )\n\u001B[0;32m--> 224\u001B[0m     \u001B[38;5;28;01mraise\u001B[39;00m DockerException(\n\u001B[1;32m    225\u001B[0m         args,\n\u001B[1;32m    226\u001B[0m         completed_process\u001B[38;5;241m.\u001B[39mreturncode,\n\u001B[1;32m    227\u001B[0m         completed_process\u001B[38;5;241m.\u001B[39mstdout,\n\u001B[1;32m    228\u001B[0m         completed_process\u001B[38;5;241m.\u001B[39mstderr,\n\u001B[1;32m    229\u001B[0m     )\n\u001B[1;32m    231\u001B[0m \u001B[38;5;28;01mif\u001B[39;00m return_stderr:\n\u001B[1;32m    232\u001B[0m     \u001B[38;5;28;01mreturn\u001B[39;00m (\n\u001B[1;32m    233\u001B[0m         post_process_stream(completed_process\u001B[38;5;241m.\u001B[39mstdout),\n\u001B[1;32m    234\u001B[0m         post_process_stream(completed_process\u001B[38;5;241m.\u001B[39mstderr),\n\u001B[1;32m    235\u001B[0m     )\n",
      "\u001B[0;31mDockerException\u001B[0m: The command executed was `/usr/bin/docker compose --file ./client-compose.yml --project-name 6efe7b677b3449879d77a38330404db1 up --build --detach`.\nIt returned with code 17\nThe content of stdout can be found above the stacktrace (it wasn't captured).\nThe content of stderr can be found above the stacktrace (it wasn't captured)."
     ]
    }
   ],
   "execution_count": 2
  },
  {
   "metadata": {},
   "cell_type": "code",
   "source": [
    "from autocode import OptimizationObjective\n",
    "from typing import Dict, Any, List\n",
    "from autocode import OptimizationEvaluateRunResponse\n",
    "\n",
    "objectives: List[OptimizationObjective] = [\n",
    "    OptimizationObjective(\n",
    "        type=\"minimize\",\n",
    "    ),\n",
    "    OptimizationObjective(\n",
    "        type=\"maximize\",\n",
    "    ),\n",
    "    OptimizationObjective(\n",
    "        type=\"maximize\",\n",
    "    ),\n",
    "    OptimizationObjective(\n",
    "        type=\"minimize\",\n",
    "    ),\n",
    "    OptimizationObjective(\n",
    "        type=\"maximize\",\n",
    "    ),\n",
    "    OptimizationObjective(\n",
    "        type=\"minimize\",\n",
    "    ),\n",
    "    OptimizationObjective(\n",
    "        type=\"maximize\",\n",
    "    ),\n",
    "\n",
    "    OptimizationObjective(\n",
    "        type=\"minimize\",\n",
    "    ),\n",
    "    OptimizationObjective(\n",
    "        type=\"maximize\",\n",
    "    ),\n",
    "    OptimizationObjective(\n",
    "        type=\"maximize\",\n",
    "    ),\n",
    "    OptimizationObjective(\n",
    "        type=\"minimize\",\n",
    "    ),\n",
    "    OptimizationObjective(\n",
    "        type=\"maximize\",\n",
    "    ),\n",
    "    OptimizationObjective(\n",
    "        type=\"minimize\",\n",
    "    ),\n",
    "    OptimizationObjective(\n",
    "        type=\"maximize\",\n",
    "    ),\n",
    "]\n",
    "\n",
    "\n",
    "def evaluator(inputs: List[OptimizationEvaluateRunResponse]) -> Dict[str, Any]:\n",
    "    output: Dict[str, Any] = {\n",
    "        \"F\": inputs[0].objectives + inputs[1].objectives,\n",
    "    }\n",
    "\n",
    "    return output\n"
   ],
   "id": "5daf173cc5c82482",
   "outputs": [],
   "execution_count": null
  },
  {
   "metadata": {},
   "cell_type": "code",
   "source": [
    "result = optimization.run(\n",
    "    objectives=objectives,\n",
    "    num_inequality_constraints=0,\n",
    "    num_equality_constraints=0,\n",
    "    evaluator=evaluator\n",
    ")"
   ],
   "id": "38bf58746d0b5933",
   "outputs": [],
   "execution_count": null
  },
  {
   "metadata": {},
   "cell_type": "code",
   "source": [
    "\n",
    "from sqlmodel import Session, select\n",
    "from autocode.model import Cache\n",
    "from typing import List\n",
    "from autocode.model import OptimizationClient\n",
    "import dill\n",
    "import uuid\n",
    "\n",
    "one_datastore: OneDatastore = application_container.datastores.one()\n",
    "session: Session = one_datastore.get_session()\n",
    "client_caches: List[Cache] = list(session.exec(select(Cache).where(Cache.key.startswith(\"clients\"))))\n",
    "for client_cache in client_caches:\n",
    "    client: OptimizationClient = dill.loads(client_cache.value)\n",
    "    print(client.id, client.name, client.host, client.port, client.worker_id, client.is_ready)\n",
    "    for variable_id, variable in client.variables.items():\n",
    "        print(variable.get_client_id(), variable_id)"
   ],
   "id": "3e9047eda6e46720",
   "outputs": [],
   "execution_count": null
  },
  {
   "metadata": {},
   "cell_type": "code",
   "source": [
    "client: OptimizationClient = OptimizationClient(\n",
    "    name=\"app-product\",\n",
    "    host=\"127.0.0.1\",\n",
    "    port=0,\n",
    "    worker_id=uuid.uuid4().hex,\n",
    "    variables={}\n",
    ")\n",
    "\n",
    "client_cache: Cache = Cache(\n",
    "    key=f\"clients_{client.id}\",\n",
    "    value=dill.dumps(client),\n",
    ")\n",
    "\n",
    "session.add(client_cache)\n",
    "\n",
    "session.commit()\n",
    "session.close()"
   ],
   "id": "d1bee9a5d4548781",
   "outputs": [],
   "execution_count": null
  },
  {
   "metadata": {},
   "cell_type": "code",
   "source": "",
   "id": "eac35cb644dff9c0",
   "outputs": [],
   "execution_count": null
  }
 ],
 "metadata": {
  "kernelspec": {
   "display_name": "Python 3",
   "language": "python",
   "name": "python3"
  },
  "language_info": {
   "codemirror_mode": {
    "name": "ipython",
    "version": 2
   },
   "file_extension": ".py",
   "mimetype": "text/x-python",
   "name": "python",
   "nbconvert_exporter": "python",
   "pygments_lexer": "ipython2",
   "version": "2.7.6"
  }
 },
 "nbformat": 4,
 "nbformat_minor": 5
}
