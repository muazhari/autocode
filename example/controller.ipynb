{
 "cells": [
  {
   "metadata": {
    "ExecuteTime": {
     "end_time": "2024-08-03T07:21:13.199654Z",
     "start_time": "2024-08-03T07:21:12.936444Z"
    }
   },
   "cell_type": "code",
   "source": [
    "from python_on_whales import DockerClient, docker\n",
    "import uuid\n",
    "\n",
    "docker_clients = []\n",
    "for i in range(1):\n",
    "    worker_id = uuid.uuid4().hex\n",
    "    docker_client = DockerClient(\n",
    "        compose_project_name=worker_id,\n",
    "        compose_files=[\"client-compose.yml\"],\n",
    "    )\n",
    "    docker_clients.append(docker_client)\n",
    "\n"
   ],
   "id": "8cfa79902bf4963a",
   "outputs": [],
   "execution_count": 1
  },
  {
   "metadata": {
    "ExecuteTime": {
     "end_time": "2024-08-03T07:23:26.445778Z",
     "start_time": "2024-08-03T07:21:37.627703Z"
    }
   },
   "cell_type": "code",
   "source": [
    "for docker_client in docker_clients:\n",
    "    docker_client.compose.up(\n",
    "        detach=True,\n",
    "        build=True,\n",
    "    )"
   ],
   "id": "50eabc9a50682b2a",
   "outputs": [
    {
     "name": "stdout",
     "output_type": "stream",
     "text": [
      "#0 building with \"default\" instance using docker driver\n",
      "\n",
      "#1 [app-product internal] load build definition from .Dockerfile\n",
      "#1 transferring dockerfile: 121B 0.0s done\n",
      "#1 DONE 0.0s\n",
      "\n",
      "#2 [app-account internal] load build definition from .Dockerfile\n",
      "#2 transferring dockerfile: 121B done\n",
      "#2 WARN: LegacyKeyValueFormat: \"ENV key=value\" should be used instead of legacy \"ENV key value\" format (line 7)\n",
      "#2 DONE 0.0s\n",
      "\n",
      "#3 [app-account internal] load metadata for docker.io/library/golang:latest\n",
      "#3 DONE 0.0s\n",
      "\n",
      "#4 [app-product internal] load .dockerignore\n",
      "#4 transferring context: 2B done\n",
      "#4 DONE 0.0s\n",
      "\n",
      "#5 [app-account 1/4] FROM docker.io/library/golang:latest\n",
      "#5 DONE 0.0s\n",
      "\n",
      "#6 [app-account internal] load .dockerignore\n",
      "#6 transferring context: 2B 0.0s done\n",
      "#6 DONE 0.0s\n",
      "\n",
      "#7 [app-product internal] load build context\n",
      "#7 transferring context: 5.08kB 0.0s done\n",
      "#7 DONE 0.0s\n",
      "\n",
      "#8 [app-product 2/4] WORKDIR /workdir\n",
      "#8 CACHED\n",
      "\n",
      "#9 [app-account internal] load build context\n",
      "#9 transferring context: 335B 0.0s done\n",
      "#9 DONE 0.0s\n",
      "\n",
      "#10 [app-product 3/4] COPY . .\n",
      "#10 DONE 0.0s\n",
      "\n",
      "#11 [app-account 3/4] COPY . .\n",
      "#11 DONE 0.0s\n",
      "\n",
      "#12 [app-product 4/4] RUN go mod tidy\n",
      "#12 0.419 go: downloading github.com/muazhari/autocode-go v0.0.0-20240803054100-bb6787c47dd1\n",
      "#12 0.419 go: downloading github.com/gorilla/mux v1.8.1\n",
      "#12 0.419 go: downloading github.com/stretchr/testify v1.9.0\n",
      "#12 2.091 go: downloading github.com/valyala/fasthttp v1.55.0\n",
      "#12 2.091 go: downloading github.com/google/uuid v1.6.0\n",
      "#12 2.091 go: downloading github.com/muazhari/gomacro-custom v0.0.0-20240731093833-a6136ef7aaa6\n",
      "#12 2.736 go: downloading gopkg.in/yaml.v3 v3.0.1\n",
      "#12 2.736 go: downloading github.com/pmezard/go-difflib v1.0.0\n",
      "#12 2.736 go: downloading github.com/davecgh/go-spew v1.1.1\n",
      "#12 4.611 go: downloading github.com/andybalholm/brotli v1.1.0\n",
      "#12 4.611 go: downloading github.com/klauspost/compress v1.17.9\n",
      "#12 4.611 go: downloading github.com/valyala/bytebufferpool v1.0.0\n",
      "#12 ...\n",
      "\n",
      "#13 [app-account 4/4] RUN go mod tidy\n",
      "#13 0.415 go: downloading github.com/stretchr/testify v1.9.0\n",
      "#13 0.415 go: downloading github.com/muazhari/autocode-go v0.0.0-20240803054100-bb6787c47dd1\n",
      "#13 0.415 go: downloading github.com/gorilla/mux v1.8.1\n",
      "#13 2.094 go: downloading github.com/valyala/fasthttp v1.55.0\n",
      "#13 2.094 go: downloading github.com/muazhari/gomacro-custom v0.0.0-20240731093833-a6136ef7aaa6\n",
      "#13 2.094 go: downloading github.com/google/uuid v1.6.0\n",
      "#13 2.891 go: downloading gopkg.in/yaml.v3 v3.0.1\n",
      "#13 2.891 go: downloading github.com/pmezard/go-difflib v1.0.0\n",
      "#13 2.891 go: downloading github.com/davecgh/go-spew v1.1.1\n",
      "#13 5.682 go: downloading github.com/klauspost/compress v1.17.9\n",
      "#13 5.682 go: downloading github.com/andybalholm/brotli v1.1.0\n",
      "#13 5.682 go: downloading github.com/valyala/bytebufferpool v1.0.0\n",
      "#13 17.88 go: downloading github.com/peterh/liner v1.2.2\n",
      "#13 17.88 go: downloading golang.org/x/tools v0.14.0\n",
      "#13 17.89 go: downloading github.com/mattn/go-runewidth v0.0.15\n",
      "#13 17.90 go: downloading github.com/rivo/uniseg v0.2.0\n",
      "#13 17.90 go: downloading golang.org/x/sys v0.21.0\n",
      "#13 ...\n",
      "\n",
      "#12 [app-product 4/4] RUN go mod tidy\n",
      "#12 24.16 go: downloading github.com/peterh/liner v1.2.2\n",
      "#12 24.16 go: downloading golang.org/x/tools v0.14.0\n",
      "#12 24.16 go: downloading github.com/mattn/go-runewidth v0.0.15\n",
      "#12 24.17 go: downloading github.com/rivo/uniseg v0.2.0\n",
      "#12 24.17 go: downloading golang.org/x/sys v0.21.0\n",
      "#12 39.77 go: downloading golang.org/x/mod v0.13.0\n",
      "#12 ...\n",
      "\n",
      "#13 [app-account 4/4] RUN go mod tidy\n",
      "#13 42.44 go: downloading golang.org/x/mod v0.13.0\n"
     ]
    },
    {
     "ename": "KeyboardInterrupt",
     "evalue": "",
     "output_type": "error",
     "traceback": [
      "\u001B[0;31m---------------------------------------------------------------------------\u001B[0m",
      "\u001B[0;31mKeyboardInterrupt\u001B[0m                         Traceback (most recent call last)",
      "File \u001B[0;32m~/miniconda3/lib/python3.11/subprocess.py:1264\u001B[0m, in \u001B[0;36mPopen.wait\u001B[0;34m(self, timeout)\u001B[0m\n\u001B[1;32m   1263\u001B[0m \u001B[38;5;28;01mtry\u001B[39;00m:\n\u001B[0;32m-> 1264\u001B[0m     \u001B[38;5;28;01mreturn\u001B[39;00m \u001B[38;5;28;43mself\u001B[39;49m\u001B[38;5;241;43m.\u001B[39;49m\u001B[43m_wait\u001B[49m\u001B[43m(\u001B[49m\u001B[43mtimeout\u001B[49m\u001B[38;5;241;43m=\u001B[39;49m\u001B[43mtimeout\u001B[49m\u001B[43m)\u001B[49m\n\u001B[1;32m   1265\u001B[0m \u001B[38;5;28;01mexcept\u001B[39;00m \u001B[38;5;167;01mKeyboardInterrupt\u001B[39;00m:\n\u001B[1;32m   1266\u001B[0m     \u001B[38;5;66;03m# https://bugs.python.org/issue25942\u001B[39;00m\n\u001B[1;32m   1267\u001B[0m     \u001B[38;5;66;03m# The first keyboard interrupt waits briefly for the child to\u001B[39;00m\n\u001B[1;32m   1268\u001B[0m     \u001B[38;5;66;03m# exit under the common assumption that it also received the ^C\u001B[39;00m\n\u001B[1;32m   1269\u001B[0m     \u001B[38;5;66;03m# generated SIGINT and will exit rapidly.\u001B[39;00m\n",
      "File \u001B[0;32m~/miniconda3/lib/python3.11/subprocess.py:2046\u001B[0m, in \u001B[0;36mPopen._wait\u001B[0;34m(self, timeout)\u001B[0m\n\u001B[1;32m   2045\u001B[0m     \u001B[38;5;28;01mbreak\u001B[39;00m  \u001B[38;5;66;03m# Another thread waited.\u001B[39;00m\n\u001B[0;32m-> 2046\u001B[0m (pid, sts) \u001B[38;5;241m=\u001B[39m \u001B[38;5;28;43mself\u001B[39;49m\u001B[38;5;241;43m.\u001B[39;49m\u001B[43m_try_wait\u001B[49m\u001B[43m(\u001B[49m\u001B[38;5;241;43m0\u001B[39;49m\u001B[43m)\u001B[49m\n\u001B[1;32m   2047\u001B[0m \u001B[38;5;66;03m# Check the pid and loop as waitpid has been known to\u001B[39;00m\n\u001B[1;32m   2048\u001B[0m \u001B[38;5;66;03m# return 0 even without WNOHANG in odd situations.\u001B[39;00m\n\u001B[1;32m   2049\u001B[0m \u001B[38;5;66;03m# http://bugs.python.org/issue14396.\u001B[39;00m\n",
      "File \u001B[0;32m~/miniconda3/lib/python3.11/subprocess.py:2004\u001B[0m, in \u001B[0;36mPopen._try_wait\u001B[0;34m(self, wait_flags)\u001B[0m\n\u001B[1;32m   2003\u001B[0m \u001B[38;5;28;01mtry\u001B[39;00m:\n\u001B[0;32m-> 2004\u001B[0m     (pid, sts) \u001B[38;5;241m=\u001B[39m \u001B[43mos\u001B[49m\u001B[38;5;241;43m.\u001B[39;49m\u001B[43mwaitpid\u001B[49m\u001B[43m(\u001B[49m\u001B[38;5;28;43mself\u001B[39;49m\u001B[38;5;241;43m.\u001B[39;49m\u001B[43mpid\u001B[49m\u001B[43m,\u001B[49m\u001B[43m \u001B[49m\u001B[43mwait_flags\u001B[49m\u001B[43m)\u001B[49m\n\u001B[1;32m   2005\u001B[0m \u001B[38;5;28;01mexcept\u001B[39;00m \u001B[38;5;167;01mChildProcessError\u001B[39;00m:\n\u001B[1;32m   2006\u001B[0m     \u001B[38;5;66;03m# This happens if SIGCLD is set to be ignored or waiting\u001B[39;00m\n\u001B[1;32m   2007\u001B[0m     \u001B[38;5;66;03m# for child processes has otherwise been disabled for our\u001B[39;00m\n\u001B[1;32m   2008\u001B[0m     \u001B[38;5;66;03m# process.  This child is dead, we can't get the status.\u001B[39;00m\n",
      "\u001B[0;31mKeyboardInterrupt\u001B[0m: ",
      "\nDuring handling of the above exception, another exception occurred:\n",
      "\u001B[0;31mKeyboardInterrupt\u001B[0m                         Traceback (most recent call last)",
      "Cell \u001B[0;32mIn[3], line 4\u001B[0m\n\u001B[1;32m      1\u001B[0m \u001B[38;5;28;01mimport\u001B[39;00m \u001B[38;5;21;01mos\u001B[39;00m\n\u001B[1;32m      3\u001B[0m \u001B[38;5;28;01mfor\u001B[39;00m docker_client \u001B[38;5;129;01min\u001B[39;00m docker_clients:\n\u001B[0;32m----> 4\u001B[0m     \u001B[43mdocker_client\u001B[49m\u001B[38;5;241;43m.\u001B[39;49m\u001B[43mcompose\u001B[49m\u001B[38;5;241;43m.\u001B[39;49m\u001B[43mup\u001B[49m\u001B[43m(\u001B[49m\n\u001B[1;32m      5\u001B[0m \u001B[43m        \u001B[49m\u001B[43mdetach\u001B[49m\u001B[38;5;241;43m=\u001B[39;49m\u001B[38;5;28;43;01mTrue\u001B[39;49;00m\u001B[43m,\u001B[49m\n\u001B[1;32m      6\u001B[0m \u001B[43m        \u001B[49m\u001B[43mbuild\u001B[49m\u001B[38;5;241;43m=\u001B[39;49m\u001B[38;5;28;43;01mTrue\u001B[39;49;00m\u001B[43m,\u001B[49m\n\u001B[1;32m      7\u001B[0m \u001B[43m    \u001B[49m\u001B[43m)\u001B[49m\n",
      "File \u001B[0;32m~/miniconda3/lib/python3.11/site-packages/python_on_whales/components/compose/cli_wrapper.py:1046\u001B[0m, in \u001B[0;36mComposeCLI.up\u001B[0;34m(self, services, build, detach, abort_on_container_exit, scales, attach_dependencies, force_recreate, recreate, no_build, remove_orphans, renew_anon_volumes, color, log_prefix, start, quiet, wait, no_attach_services, pull, stream_logs, wait_timeout)\u001B[0m\n\u001B[1;32m   1043\u001B[0m     \u001B[38;5;28;01mreturn\u001B[39;00m stream_stdout_and_stderr(full_cmd)\n\u001B[1;32m   1044\u001B[0m \u001B[38;5;28;01melse\u001B[39;00m:\n\u001B[1;32m   1045\u001B[0m     \u001B[38;5;66;03m# important information is written to both stdout AND stderr.\u001B[39;00m\n\u001B[0;32m-> 1046\u001B[0m     \u001B[43mrun\u001B[49m\u001B[43m(\u001B[49m\u001B[43mfull_cmd\u001B[49m\u001B[43m,\u001B[49m\u001B[43m \u001B[49m\u001B[43mcapture_stdout\u001B[49m\u001B[38;5;241;43m=\u001B[39;49m\u001B[43mquiet\u001B[49m\u001B[43m,\u001B[49m\u001B[43m \u001B[49m\u001B[43mcapture_stderr\u001B[49m\u001B[38;5;241;43m=\u001B[39;49m\u001B[43mquiet\u001B[49m\u001B[43m)\u001B[49m\n",
      "File \u001B[0;32m~/miniconda3/lib/python3.11/site-packages/python_on_whales/utils.py:167\u001B[0m, in \u001B[0;36mrun\u001B[0;34m(args, capture_stdout, capture_stderr, input, return_stderr, env, tty, pass_fds)\u001B[0m\n\u001B[1;32m    165\u001B[0m     \u001B[38;5;28mprint\u001B[39m(\u001B[38;5;124mf\u001B[39m\u001B[38;5;124m\"\u001B[39m\u001B[38;5;124mEnv: \u001B[39m\u001B[38;5;132;01m{\u001B[39;00msubprocess_env\u001B[38;5;132;01m}\u001B[39;00m\u001B[38;5;124m\"\u001B[39m)\n\u001B[1;32m    166\u001B[0m     \u001B[38;5;28mprint\u001B[39m(\u001B[38;5;124m\"\u001B[39m\u001B[38;5;124m------------------------------\u001B[39m\u001B[38;5;124m\"\u001B[39m)\n\u001B[0;32m--> 167\u001B[0m completed_process \u001B[38;5;241m=\u001B[39m \u001B[43msubprocess\u001B[49m\u001B[38;5;241;43m.\u001B[39;49m\u001B[43mrun\u001B[49m\u001B[43m(\u001B[49m\n\u001B[1;32m    168\u001B[0m \u001B[43m    \u001B[49m\u001B[43margs\u001B[49m\u001B[43m,\u001B[49m\n\u001B[1;32m    169\u001B[0m \u001B[43m    \u001B[49m\u001B[38;5;28;43minput\u001B[39;49m\u001B[38;5;241;43m=\u001B[39;49m\u001B[38;5;28;43minput\u001B[39;49m\u001B[43m,\u001B[49m\n\u001B[1;32m    170\u001B[0m \u001B[43m    \u001B[49m\u001B[43mstdout\u001B[49m\u001B[38;5;241;43m=\u001B[39;49m\u001B[43mstdout_dest\u001B[49m\u001B[43m,\u001B[49m\n\u001B[1;32m    171\u001B[0m \u001B[43m    \u001B[49m\u001B[43mstderr\u001B[49m\u001B[38;5;241;43m=\u001B[39;49m\u001B[43mstderr_dest\u001B[49m\u001B[43m,\u001B[49m\n\u001B[1;32m    172\u001B[0m \u001B[43m    \u001B[49m\u001B[43menv\u001B[49m\u001B[38;5;241;43m=\u001B[39;49m\u001B[43msubprocess_env\u001B[49m\u001B[43m,\u001B[49m\n\u001B[1;32m    173\u001B[0m \u001B[43m    \u001B[49m\u001B[43mpass_fds\u001B[49m\u001B[38;5;241;43m=\u001B[39;49m\u001B[43mpass_fds\u001B[49m\u001B[43m,\u001B[49m\n\u001B[1;32m    174\u001B[0m \u001B[43m\u001B[49m\u001B[43m)\u001B[49m\n\u001B[1;32m    176\u001B[0m \u001B[38;5;28;01mif\u001B[39;00m completed_process\u001B[38;5;241m.\u001B[39mreturncode \u001B[38;5;241m!=\u001B[39m \u001B[38;5;241m0\u001B[39m:\n\u001B[1;32m    177\u001B[0m     \u001B[38;5;28;01mif\u001B[39;00m completed_process\u001B[38;5;241m.\u001B[39mstderr \u001B[38;5;129;01mis\u001B[39;00m \u001B[38;5;129;01mnot\u001B[39;00m \u001B[38;5;28;01mNone\u001B[39;00m:\n",
      "File \u001B[0;32m~/miniconda3/lib/python3.11/subprocess.py:550\u001B[0m, in \u001B[0;36mrun\u001B[0;34m(input, capture_output, timeout, check, *popenargs, **kwargs)\u001B[0m\n\u001B[1;32m    548\u001B[0m \u001B[38;5;28;01mwith\u001B[39;00m Popen(\u001B[38;5;241m*\u001B[39mpopenargs, \u001B[38;5;241m*\u001B[39m\u001B[38;5;241m*\u001B[39mkwargs) \u001B[38;5;28;01mas\u001B[39;00m process:\n\u001B[1;32m    549\u001B[0m     \u001B[38;5;28;01mtry\u001B[39;00m:\n\u001B[0;32m--> 550\u001B[0m         stdout, stderr \u001B[38;5;241m=\u001B[39m \u001B[43mprocess\u001B[49m\u001B[38;5;241;43m.\u001B[39;49m\u001B[43mcommunicate\u001B[49m\u001B[43m(\u001B[49m\u001B[38;5;28;43minput\u001B[39;49m\u001B[43m,\u001B[49m\u001B[43m \u001B[49m\u001B[43mtimeout\u001B[49m\u001B[38;5;241;43m=\u001B[39;49m\u001B[43mtimeout\u001B[49m\u001B[43m)\u001B[49m\n\u001B[1;32m    551\u001B[0m     \u001B[38;5;28;01mexcept\u001B[39;00m TimeoutExpired \u001B[38;5;28;01mas\u001B[39;00m exc:\n\u001B[1;32m    552\u001B[0m         process\u001B[38;5;241m.\u001B[39mkill()\n",
      "File \u001B[0;32m~/miniconda3/lib/python3.11/subprocess.py:1201\u001B[0m, in \u001B[0;36mPopen.communicate\u001B[0;34m(self, input, timeout)\u001B[0m\n\u001B[1;32m   1199\u001B[0m         stderr \u001B[38;5;241m=\u001B[39m \u001B[38;5;28mself\u001B[39m\u001B[38;5;241m.\u001B[39mstderr\u001B[38;5;241m.\u001B[39mread()\n\u001B[1;32m   1200\u001B[0m         \u001B[38;5;28mself\u001B[39m\u001B[38;5;241m.\u001B[39mstderr\u001B[38;5;241m.\u001B[39mclose()\n\u001B[0;32m-> 1201\u001B[0m     \u001B[38;5;28;43mself\u001B[39;49m\u001B[38;5;241;43m.\u001B[39;49m\u001B[43mwait\u001B[49m\u001B[43m(\u001B[49m\u001B[43m)\u001B[49m\n\u001B[1;32m   1202\u001B[0m \u001B[38;5;28;01melse\u001B[39;00m:\n\u001B[1;32m   1203\u001B[0m     \u001B[38;5;28;01mif\u001B[39;00m timeout \u001B[38;5;129;01mis\u001B[39;00m \u001B[38;5;129;01mnot\u001B[39;00m \u001B[38;5;28;01mNone\u001B[39;00m:\n",
      "File \u001B[0;32m~/miniconda3/lib/python3.11/subprocess.py:1277\u001B[0m, in \u001B[0;36mPopen.wait\u001B[0;34m(self, timeout)\u001B[0m\n\u001B[1;32m   1275\u001B[0m \u001B[38;5;28mself\u001B[39m\u001B[38;5;241m.\u001B[39m_sigint_wait_secs \u001B[38;5;241m=\u001B[39m \u001B[38;5;241m0\u001B[39m  \u001B[38;5;66;03m# nothing else should wait.\u001B[39;00m\n\u001B[1;32m   1276\u001B[0m \u001B[38;5;28;01mtry\u001B[39;00m:\n\u001B[0;32m-> 1277\u001B[0m     \u001B[38;5;28;43mself\u001B[39;49m\u001B[38;5;241;43m.\u001B[39;49m\u001B[43m_wait\u001B[49m\u001B[43m(\u001B[49m\u001B[43mtimeout\u001B[49m\u001B[38;5;241;43m=\u001B[39;49m\u001B[43msigint_timeout\u001B[49m\u001B[43m)\u001B[49m\n\u001B[1;32m   1278\u001B[0m \u001B[38;5;28;01mexcept\u001B[39;00m TimeoutExpired:\n\u001B[1;32m   1279\u001B[0m     \u001B[38;5;28;01mpass\u001B[39;00m\n",
      "File \u001B[0;32m~/miniconda3/lib/python3.11/subprocess.py:2040\u001B[0m, in \u001B[0;36mPopen._wait\u001B[0;34m(self, timeout)\u001B[0m\n\u001B[1;32m   2038\u001B[0m             \u001B[38;5;28;01mraise\u001B[39;00m TimeoutExpired(\u001B[38;5;28mself\u001B[39m\u001B[38;5;241m.\u001B[39margs, timeout)\n\u001B[1;32m   2039\u001B[0m         delay \u001B[38;5;241m=\u001B[39m \u001B[38;5;28mmin\u001B[39m(delay \u001B[38;5;241m*\u001B[39m \u001B[38;5;241m2\u001B[39m, remaining, \u001B[38;5;241m.05\u001B[39m)\n\u001B[0;32m-> 2040\u001B[0m         time\u001B[38;5;241m.\u001B[39msleep(delay)\n\u001B[1;32m   2041\u001B[0m \u001B[38;5;28;01melse\u001B[39;00m:\n\u001B[1;32m   2042\u001B[0m     \u001B[38;5;28;01mwhile\u001B[39;00m \u001B[38;5;28mself\u001B[39m\u001B[38;5;241m.\u001B[39mreturncode \u001B[38;5;129;01mis\u001B[39;00m \u001B[38;5;28;01mNone\u001B[39;00m:\n",
      "\u001B[0;31mKeyboardInterrupt\u001B[0m: "
     ]
    }
   ],
   "execution_count": 3
  },
  {
   "metadata": {
    "ExecuteTime": {
     "end_time": "2024-08-03T05:16:42.724017Z",
     "start_time": "2024-08-03T05:16:41.950863Z"
    }
   },
   "cell_type": "code",
   "source": "docker.image.list()",
   "id": "f01d9c45d2aba040",
   "outputs": [
    {
     "data": {
      "text/plain": [
       "[python_on_whales.Image(id='sha256:b4201f2066453', tags=['tiangolo/uvicorn-gunicorn-fastapi:latest']),\n",
       " python_on_whales.Image(id='sha256:0db8fd8d8896a', tags=[]),\n",
       " python_on_whales.Image(id='sha256:5f6fa28313b81', tags=[]),\n",
       " python_on_whales.Image(id='sha256:43283e931cec8', tags=[]),\n",
       " python_on_whales.Image(id='sha256:a61b645b609b7', tags=['golang:latest']),\n",
       " python_on_whales.Image(id='sha256:cf8d6ecc3574a', tags=['muazhari/autocode-example-app-account:latest']),\n",
       " python_on_whales.Image(id='sha256:1c0fd857deda9', tags=['muazhari/autocode-example-app-product:latest']),\n",
       " python_on_whales.Image(id='sha256:28e8ac7aafcf5', tags=[])]"
      ]
     },
     "execution_count": 3,
     "metadata": {},
     "output_type": "execute_result"
    }
   ],
   "execution_count": 3
  },
  {
   "metadata": {
    "ExecuteTime": {
     "end_time": "2024-08-02T17:52:23.299274Z",
     "start_time": "2024-08-02T17:52:20.690193Z"
    }
   },
   "cell_type": "code",
   "source": [
    "for docker_client in docker_clients:\n",
    "    docker_client.compose.down()"
   ],
   "id": "e1ce045645fccd25",
   "outputs": [
    {
     "name": "stderr",
     "output_type": "stream",
     "text": [
      " Container 577f83d86ebd46d59dcdd5c466efb96f-app-product-1  Stopping\n",
      " Container 577f83d86ebd46d59dcdd5c466efb96f-app-account-1  Stopping\n",
      " Container 577f83d86ebd46d59dcdd5c466efb96f-app-product-1  Stopped\n",
      " Container 577f83d86ebd46d59dcdd5c466efb96f-app-product-1  Removing\n",
      " Container 577f83d86ebd46d59dcdd5c466efb96f-app-account-1  Stopped\n",
      " Container 577f83d86ebd46d59dcdd5c466efb96f-app-account-1  Removing\n",
      " Container 577f83d86ebd46d59dcdd5c466efb96f-app-product-1  Removed\n",
      " Container 577f83d86ebd46d59dcdd5c466efb96f-app-account-1  Removed\n",
      " Network 577f83d86ebd46d59dcdd5c466efb96f_default  Removing\n",
      " Network 577f83d86ebd46d59dcdd5c466efb96f_default  Removed\n",
      " Container 9bae1087874f45d885f2d86ae6fe903f-app-product-1  Stopping\n",
      " Container 9bae1087874f45d885f2d86ae6fe903f-app-account-1  Stopping\n",
      " Container 9bae1087874f45d885f2d86ae6fe903f-app-product-1  Stopped\n",
      " Container 9bae1087874f45d885f2d86ae6fe903f-app-product-1  Removing\n",
      " Container 9bae1087874f45d885f2d86ae6fe903f-app-account-1  Stopped\n",
      " Container 9bae1087874f45d885f2d86ae6fe903f-app-account-1  Removing\n",
      " Container 9bae1087874f45d885f2d86ae6fe903f-app-product-1  Removed\n",
      " Container 9bae1087874f45d885f2d86ae6fe903f-app-account-1  Removed\n",
      " Network 9bae1087874f45d885f2d86ae6fe903f_default  Removing\n",
      " Network 9bae1087874f45d885f2d86ae6fe903f_default  Removed\n",
      " Container 6f3902f674c94783b793b6ca1ae280ec-app-account-1  Stopping\n",
      " Container 6f3902f674c94783b793b6ca1ae280ec-app-product-1  Stopping\n",
      " Container 6f3902f674c94783b793b6ca1ae280ec-app-account-1  Stopped\n",
      " Container 6f3902f674c94783b793b6ca1ae280ec-app-account-1  Removing\n",
      " Container 6f3902f674c94783b793b6ca1ae280ec-app-product-1  Stopped\n",
      " Container 6f3902f674c94783b793b6ca1ae280ec-app-product-1  Removing\n",
      " Container 6f3902f674c94783b793b6ca1ae280ec-app-product-1  Removed\n",
      " Container 6f3902f674c94783b793b6ca1ae280ec-app-account-1  Removed\n",
      " Network 6f3902f674c94783b793b6ca1ae280ec_default  Removing\n",
      " Network 6f3902f674c94783b793b6ca1ae280ec_default  Removed\n"
     ]
    }
   ],
   "execution_count": 5
  },
  {
   "metadata": {
    "ExecuteTime": {
     "end_time": "2024-08-03T05:18:22.900223Z",
     "start_time": "2024-08-03T05:18:22.251783Z"
    }
   },
   "cell_type": "code",
   "source": "list(docker_clients[0].compose.ps()[0].network_settings.networks.values())[0].ip_address",
   "id": "7de84698188aaeca",
   "outputs": [
    {
     "data": {
      "text/plain": [
       "[NetworkInspectResult(ipam_config=None, links=None, aliases=['f4425bc7e176405e89ca8af2954caa46-app-account-1', 'app-account'], network_id='00785bea842e5b3820f4f95902ec47281ceb44bba67df60dfdc6bdbfd20763b0', endpoint_id='', gateway='', ip_address='', ip_prefix_length=0, ipv6_gateway='', global_ipv6_address='', global_ipv6_prefix_length=0, mac_address='', driver_options=None)]"
      ]
     },
     "execution_count": 15,
     "metadata": {},
     "output_type": "execute_result"
    }
   ],
   "execution_count": 15
  },
  {
   "metadata": {
    "ExecuteTime": {
     "end_time": "2024-08-03T05:40:48.489945Z",
     "start_time": "2024-08-03T05:40:48.189167Z"
    }
   },
   "cell_type": "code",
   "source": [
    "for docker_client in docker_clients:\n",
    "    for container in docker_client.compose.ps():\n",
    "        A_WORKER_ID = docker_client.client_config.compose_project_name\n",
    "        B_WORKER_ID = [env for env in container.config.env if \"WORKER_ID\" in env][0].split(\"=\")[1]\n",
    "        print(A_WORKER_ID, B_WORKER_ID, A_WORKER_ID == B_WORKER_ID, container.name)"
   ],
   "id": "1fcd644a59b4caa8",
   "outputs": [
    {
     "name": "stdout",
     "output_type": "stream",
     "text": [
      "f4425bc7e176405e89ca8af2954caa46 f4425bc7e176405e89ca8af2954caa46 True f4425bc7e176405e89ca8af2954caa46-app-account-1\n",
      "f4425bc7e176405e89ca8af2954caa46 f4425bc7e176405e89ca8af2954caa46 True f4425bc7e176405e89ca8af2954caa46-app-product-1\n"
     ]
    }
   ],
   "execution_count": 17
  },
  {
   "metadata": {
    "ExecuteTime": {
     "end_time": "2024-08-03T06:16:56.990252Z",
     "start_time": "2024-08-03T06:16:56.912502Z"
    }
   },
   "cell_type": "code",
   "source": "container.name.removeprefix(\"f4425bc7e176405e89ca8af2954caa46-\")",
   "id": "53154861ee5c4004",
   "outputs": [
    {
     "data": {
      "text/plain": [
       "'app-product-1'"
      ]
     },
     "execution_count": 20,
     "metadata": {},
     "output_type": "execute_result"
    }
   ],
   "execution_count": 20
  },
  {
   "metadata": {
    "ExecuteTime": {
     "end_time": "2024-08-02T17:05:07.367086Z",
     "start_time": "2024-08-02T17:05:07.294545Z"
    }
   },
   "cell_type": "code",
   "source": [
    "from httpx import Client\n",
    "\n",
    "http_client = Client(\n",
    "    base_url=\"http://172.18.0.3:8000\",\n",
    ")\n",
    "http_client.get(\"/\").json()"
   ],
   "id": "1a7380e579ec5e38",
   "outputs": [
    {
     "data": {
      "text/plain": [
       "{'worker_id': 'd7d6146b1c2c4fb8ac4934277a567520', 'app_name': 'app-1'}"
      ]
     },
     "execution_count": 5,
     "metadata": {},
     "output_type": "execute_result"
    }
   ],
   "execution_count": 5
  },
  {
   "metadata": {
    "ExecuteTime": {
     "end_time": "2024-08-03T09:01:49.467498Z",
     "start_time": "2024-08-03T09:01:41.828576Z"
    }
   },
   "cell_type": "code",
   "source": [
    "import autocode\n",
    "\n",
    "optimization = autocode.Optimization(\n",
    "    num_cpus=2,\n",
    "    server_host=\"0.0.0.0\",\n",
    "    server_port=10000,\n",
    "    dashboard_port=10001,\n",
    ")"
   ],
   "id": "fe6274905d54ad44",
   "outputs": [
    {
     "name": "stderr",
     "output_type": "stream",
     "text": [
      "2024-08-03 16:01:46,045\tINFO worker.py:1743 -- Started a local Ray instance. View the dashboard at \u001B[1m\u001B[32mhttp://172.25.4.192:8265 \u001B[39m\u001B[22m\n"
     ]
    },
    {
     "name": "stdout",
     "output_type": "stream",
     "text": [
      "Available resources:  {'accelerator_type:G': 1.0, 'node:__internal_head__': 1.0, 'node:172.25.4.192': 1.0, 'CPU': 2.0, 'object_store_memory': 4503869030.0, 'memory': 9007738062.0, 'GPU': 1.0}\n"
     ]
    },
    {
     "name": "stderr",
     "output_type": "stream",
     "text": [
      " Container 6729c63409334f42936b79a350bb47ec-app-account-1  Stopping\n",
      " Container 6729c63409334f42936b79a350bb47ec-app-product-1  Stopping\n",
      " Container 6729c63409334f42936b79a350bb47ec-app-account-1  Stopped\n",
      " Container 6729c63409334f42936b79a350bb47ec-app-account-1  Removing\n",
      " Container 6729c63409334f42936b79a350bb47ec-app-account-1  Removed\n",
      " Container 6729c63409334f42936b79a350bb47ec-app-product-1  Stopped\n",
      " Container 6729c63409334f42936b79a350bb47ec-app-product-1  Removing\n",
      " Container 6729c63409334f42936b79a350bb47ec-app-product-1  Removed\n",
      " Network 6729c63409334f42936b79a350bb47ec_default  Removing\n",
      " Network 6729c63409334f42936b79a350bb47ec_default  Removed\n",
      " Container e0dd85ec075547f680ce8ce90e9bf193-app-product-1  Stopping\n",
      " Container e0dd85ec075547f680ce8ce90e9bf193-app-account-1  Stopping\n",
      " Container e0dd85ec075547f680ce8ce90e9bf193-app-product-1  Stopped\n",
      " Container e0dd85ec075547f680ce8ce90e9bf193-app-product-1  Removing\n",
      " Container e0dd85ec075547f680ce8ce90e9bf193-app-product-1  Removed\n",
      " Container e0dd85ec075547f680ce8ce90e9bf193-app-account-1  Stopped\n",
      " Container e0dd85ec075547f680ce8ce90e9bf193-app-account-1  Removing\n",
      " Container e0dd85ec075547f680ce8ce90e9bf193-app-account-1  Removed\n",
      " Network e0dd85ec075547f680ce8ce90e9bf193_default  Removing\n",
      " Network e0dd85ec075547f680ce8ce90e9bf193_default  Removed\n"
     ]
    },
    {
     "name": "stdout",
     "output_type": "stream",
     "text": [
      "Server is healthy.\n"
     ]
    }
   ],
   "execution_count": 1
  },
  {
   "metadata": {
    "ExecuteTime": {
     "end_time": "2024-08-03T09:01:52.463127Z",
     "start_time": "2024-08-03T09:01:49.470024Z"
    }
   },
   "cell_type": "code",
   "source": [
    "docker_clients = optimization.deploy(\n",
    "    compose_files=[\"./client-compose.yml\"],\n",
    ")"
   ],
   "id": "303433e5ea06bdd4",
   "outputs": [
    {
     "name": "stdout",
     "output_type": "stream",
     "text": [
      "#0 building with \"default\" instance using docker driver\n",
      "\n",
      "#1 [app-product internal] load build definition from .Dockerfile\n",
      "#1 transferring dockerfile: 101B 0.0s done\n",
      "#1 DONE 0.0s\n",
      "\n",
      "#2 [app-account internal] load build definition from .Dockerfile\n",
      "#2 transferring dockerfile: 101B 0.0s done\n",
      "#2 DONE 0.0s\n",
      "\n",
      "#3 [app-account internal] load metadata for docker.io/library/golang:latest\n",
      "#3 DONE 0.0s\n",
      "\n",
      "#4 [app-product internal] load .dockerignore\n",
      "#4 transferring context: 2B done\n",
      "#4 DONE 0.0s\n",
      "\n",
      "#5 [app-account internal] load .dockerignore\n",
      "#5 transferring context: 2B 0.0s done\n",
      "#5 DONE 0.0s\n",
      "\n",
      "#6 [app-account 1/4] FROM docker.io/library/golang:latest\n",
      "#6 DONE 0.0s\n",
      "\n",
      "#7 [app-product internal] load build context\n",
      "#7 transferring context: 335B 0.0s done\n",
      "#7 DONE 0.0s\n",
      "\n",
      "#8 [app-account internal] load build context\n",
      "#8 transferring context: 335B 0.0s done\n",
      "#8 DONE 0.0s\n",
      "\n",
      "#9 [app-account 3/4] COPY . .\n",
      "#9 CACHED\n",
      "\n",
      "#10 [app-account 4/4] RUN go mod tidy\n",
      "#10 CACHED\n",
      "\n",
      "#11 [app-product 3/4] COPY . .\n",
      "#11 CACHED\n",
      "\n",
      "#12 [app-account 2/4] WORKDIR /workdir\n",
      "#12 CACHED\n",
      "\n",
      "#13 [app-product 4/4] RUN go mod tidy\n",
      "#13 CACHED\n",
      "\n",
      "#14 [app-account] exporting to image\n",
      "#14 exporting layers done\n",
      "#14 writing image sha256:0b98df080766cccfe25ffc0a1aab7f4a625a7fe965deb8b1cf4ac3c193dad6d2 done\n",
      "#14 naming to docker.io/muazhari/autocode-example-app-account:latest done\n",
      "#14 DONE 0.0s\n",
      "\n",
      "#15 [app-product] exporting to image\n",
      "#15 exporting layers done\n",
      "#15 writing image sha256:12a7fa9dff4d046c7473d332958d8f85d47c8e0a62971356f165f15cc92dea6c done\n",
      "#15 naming to docker.io/muazhari/autocode-example-app-product:latest done\n",
      "#15 DONE 0.0s\n",
      "\n",
      "#16 [app-account] resolving provenance for metadata file\n",
      "#16 DONE 0.0s\n",
      "\n",
      "#17 [app-product] resolving provenance for metadata file\n",
      "#17 DONE 0.0s\n"
     ]
    },
    {
     "name": "stderr",
     "output_type": "stream",
     "text": [
      " Network 7ce1dc94ab5d4d5f9769b40e916e1984_default  Creating\n",
      " Network 7ce1dc94ab5d4d5f9769b40e916e1984_default  Created\n",
      " Container 7ce1dc94ab5d4d5f9769b40e916e1984-app-product-1  Creating\n",
      " Container 7ce1dc94ab5d4d5f9769b40e916e1984-app-account-1  Creating\n",
      " Container 7ce1dc94ab5d4d5f9769b40e916e1984-app-account-1  Created\n",
      " Container 7ce1dc94ab5d4d5f9769b40e916e1984-app-product-1  Created\n",
      " Container 7ce1dc94ab5d4d5f9769b40e916e1984-app-product-1  Starting\n",
      " Container 7ce1dc94ab5d4d5f9769b40e916e1984-app-account-1  Starting\n",
      " Container 7ce1dc94ab5d4d5f9769b40e916e1984-app-account-1  Started\n",
      " Container 7ce1dc94ab5d4d5f9769b40e916e1984-app-product-1  Started\n",
      "gio: http://localhost:10001: Operation not supported\n"
     ]
    },
    {
     "name": "stdout",
     "output_type": "stream",
     "text": [
      "#0 building with \"default\" instance using docker driver\n",
      "\n",
      "#1 [app-product internal] load build definition from .Dockerfile\n",
      "#1 transferring dockerfile: 101B 0.0s done\n",
      "#1 DONE 0.0s\n",
      "\n",
      "#2 [app-account internal] load build definition from .Dockerfile\n",
      "#2 transferring dockerfile: 101B 0.0s done\n",
      "#2 DONE 0.0s\n",
      "\n",
      "#3 [app-account internal] load metadata for docker.io/library/golang:latest\n",
      "#3 DONE 0.0s\n",
      "\n",
      "#4 [app-product internal] load .dockerignore\n",
      "#4 transferring context: 2B 0.0s done\n",
      "#4 DONE 0.0s\n",
      "\n",
      "#5 [app-account internal] load .dockerignore\n",
      "#5 transferring context: 2B 0.0s done\n",
      "#5 DONE 0.0s\n",
      "\n",
      "#6 [app-account 1/4] FROM docker.io/library/golang:latest\n",
      "#6 DONE 0.0s\n",
      "\n",
      "#7 [app-account internal] load build context\n",
      "#7 transferring context: 335B 0.0s done\n",
      "#7 DONE 0.0s\n",
      "\n",
      "#8 [app-product internal] load build context\n",
      "#8 transferring context: 335B 0.0s done\n",
      "#8 DONE 0.0s\n",
      "\n",
      "#9 [app-account 3/4] COPY . .\n",
      "#9 CACHED\n",
      "\n",
      "#10 [app-account 4/4] RUN go mod tidy\n",
      "#10 CACHED\n",
      "\n",
      "#11 [app-product 2/4] WORKDIR /workdir\n",
      "#11 CACHED\n",
      "\n",
      "#12 [app-product 3/4] COPY . .\n",
      "#12 CACHED\n",
      "\n",
      "#13 [app-product 4/4] RUN go mod tidy\n",
      "#13 CACHED\n",
      "\n",
      "#14 [app-product] exporting to image\n",
      "#14 exporting layers done\n",
      "#14 writing image sha256:1899a6761c531b84eb88faccc5f06a2f43feeaec53fff3f3c14e68742bd6adc4 done\n",
      "#14 naming to docker.io/muazhari/autocode-example-app-product:latest done\n",
      "#14 DONE 0.0s\n",
      "\n",
      "#15 [app-account] exporting to image\n",
      "#15 exporting layers done\n",
      "#15 writing image sha256:86418785246fae78551bf941fe769c3a7aab124d818a55d09a1efefefe6d102c done\n",
      "#15 naming to docker.io/muazhari/autocode-example-app-account:latest done\n",
      "#15 DONE 0.0s\n",
      "\n",
      "#16 [app-product] resolving provenance for metadata file\n",
      "#16 DONE 0.0s\n",
      "\n",
      "#17 [app-account] resolving provenance for metadata file\n",
      "#17 DONE 0.0s\n"
     ]
    },
    {
     "name": "stderr",
     "output_type": "stream",
     "text": [
      " Network d6fac759a2bc4f90ae36089aad84efec_default  Creating\n",
      " Network d6fac759a2bc4f90ae36089aad84efec_default  Created\n",
      " Container d6fac759a2bc4f90ae36089aad84efec-app-account-1  Creating\n",
      " Container d6fac759a2bc4f90ae36089aad84efec-app-product-1  Creating\n",
      " Container d6fac759a2bc4f90ae36089aad84efec-app-product-1  Created\n",
      " Container d6fac759a2bc4f90ae36089aad84efec-app-account-1  Created\n",
      " Container d6fac759a2bc4f90ae36089aad84efec-app-product-1  Starting\n",
      " Container d6fac759a2bc4f90ae36089aad84efec-app-account-1  Starting\n",
      " Container d6fac759a2bc4f90ae36089aad84efec-app-account-1  Started\n",
      " Container d6fac759a2bc4f90ae36089aad84efec-app-product-1  Started\n"
     ]
    }
   ],
   "execution_count": 2
  },
  {
   "metadata": {
    "ExecuteTime": {
     "end_time": "2024-08-03T08:52:07.814910Z",
     "start_time": "2024-08-03T08:52:07.668227Z"
    }
   },
   "cell_type": "code",
   "source": "docker_clients[0].container.list()[0].network_settings.networks",
   "id": "243ab73b86ce4af",
   "outputs": [
    {
     "data": {
      "text/plain": [
       "{'1495ece1976645b6b9cf6fa5dffeb511_default': NetworkInspectResult(ipam_config=None, links=None, aliases=['1495ece1976645b6b9cf6fa5dffeb511-app-account-1', 'app-account'], network_id='fa9f642d4782b36dbdc320732f6d02a231160ab35c5c9e1ec743d7994ed7d5fe', endpoint_id='0e2b0971791d338ef765c1f579332e929a86c487251cb1ee54c328c91cfb4fc3', gateway='192.168.160.1', ip_address='192.168.160.2', ip_prefix_length=20, ipv6_gateway='', global_ipv6_address='', global_ipv6_prefix_length=0, mac_address='02:42:c0:a8:a0:02', driver_options=None)}"
      ]
     },
     "execution_count": 8,
     "metadata": {},
     "output_type": "execute_result"
    }
   ],
   "execution_count": 8
  },
  {
   "metadata": {
    "ExecuteTime": {
     "end_time": "2024-08-03T09:01:57.358846Z",
     "start_time": "2024-08-03T09:01:57.355666Z"
    }
   },
   "cell_type": "code",
   "source": [
    "from autocode import OptimizationObjective\n",
    "from typing import Dict, Any, List\n",
    "from autocode import OptimizationEvaluateRunResponse\n",
    "\n",
    "objectives: List[OptimizationObjective] = [\n",
    "    OptimizationObjective(\n",
    "        type=\"minimize\",\n",
    "    ),\n",
    "    OptimizationObjective(\n",
    "        type=\"maximize\",\n",
    "    ),\n",
    "    OptimizationObjective(\n",
    "        type=\"maximize\",\n",
    "    ),\n",
    "    OptimizationObjective(\n",
    "        type=\"minimize\",\n",
    "    ),\n",
    "    OptimizationObjective(\n",
    "        type=\"maximize\",\n",
    "    ),\n",
    "    OptimizationObjective(\n",
    "        type=\"minimize\",\n",
    "    ),\n",
    "    OptimizationObjective(\n",
    "        type=\"maximize\",\n",
    "    ),\n",
    "\n",
    "    OptimizationObjective(\n",
    "        type=\"minimize\",\n",
    "    ),\n",
    "    OptimizationObjective(\n",
    "        type=\"maximize\",\n",
    "    ),\n",
    "    OptimizationObjective(\n",
    "        type=\"maximize\",\n",
    "    ),\n",
    "    OptimizationObjective(\n",
    "        type=\"minimize\",\n",
    "    ),\n",
    "    OptimizationObjective(\n",
    "        type=\"maximize\",\n",
    "    ),\n",
    "    OptimizationObjective(\n",
    "        type=\"minimize\",\n",
    "    ),\n",
    "    OptimizationObjective(\n",
    "        type=\"maximize\",\n",
    "    ),\n",
    "]\n",
    "\n",
    "\n",
    "def evaluator(input: List[OptimizationEvaluateRunResponse]) -> Dict[str, Any]:\n",
    "    output: Dict[str, Any] = {\n",
    "        \"F\": input[0].objectives + input[1].objectives,\n",
    "    }\n",
    "\n",
    "    return output\n"
   ],
   "id": "5daf173cc5c82482",
   "outputs": [],
   "execution_count": 3
  },
  {
   "metadata": {
    "ExecuteTime": {
     "end_time": "2024-08-03T09:02:00.012791Z",
     "start_time": "2024-08-03T09:01:59.968779Z"
    }
   },
   "cell_type": "code",
   "source": [
    "result = optimization.run(\n",
    "    objectives=objectives,\n",
    "    num_inequality_constraints=0,\n",
    "    num_equality_constraints=0,\n",
    "    evaluator=evaluator\n",
    ")"
   ],
   "id": "38bf58746d0b5933",
   "outputs": [
    {
     "ename": "AttributeError",
     "evalue": "'dict' object has no attribute 'id'",
     "output_type": "error",
     "traceback": [
      "\u001B[0;31m---------------------------------------------------------------------------\u001B[0m",
      "\u001B[0;31mAttributeError\u001B[0m                            Traceback (most recent call last)",
      "Cell \u001B[0;32mIn[4], line 1\u001B[0m\n\u001B[0;32m----> 1\u001B[0m result \u001B[38;5;241m=\u001B[39m \u001B[43moptimization\u001B[49m\u001B[38;5;241;43m.\u001B[39;49m\u001B[43mrun\u001B[49m\u001B[43m(\u001B[49m\n\u001B[1;32m      2\u001B[0m \u001B[43m    \u001B[49m\u001B[43mobjectives\u001B[49m\u001B[38;5;241;43m=\u001B[39;49m\u001B[43mobjectives\u001B[49m\u001B[43m,\u001B[49m\n\u001B[1;32m      3\u001B[0m \u001B[43m    \u001B[49m\u001B[43mnum_inequality_constraints\u001B[49m\u001B[38;5;241;43m=\u001B[39;49m\u001B[38;5;241;43m0\u001B[39;49m\u001B[43m,\u001B[49m\n\u001B[1;32m      4\u001B[0m \u001B[43m    \u001B[49m\u001B[43mnum_equality_constraints\u001B[49m\u001B[38;5;241;43m=\u001B[39;49m\u001B[38;5;241;43m0\u001B[39;49m\u001B[43m,\u001B[49m\n\u001B[1;32m      5\u001B[0m \u001B[43m    \u001B[49m\u001B[43mevaluator\u001B[49m\u001B[38;5;241;43m=\u001B[39;49m\u001B[43mevaluator\u001B[49m\n\u001B[1;32m      6\u001B[0m \u001B[43m)\u001B[49m\n",
      "File \u001B[0;32m/mnt/c/Data/Apps/autocode/autocode/__init__.py:128\u001B[0m, in \u001B[0;36mOptimization.run\u001B[0;34m(self, objectives, num_inequality_constraints, num_equality_constraints, evaluator)\u001B[0m\n\u001B[1;32m    120\u001B[0m \u001B[38;5;28;01mdef\u001B[39;00m \u001B[38;5;21mrun\u001B[39m(\n\u001B[1;32m    121\u001B[0m         \u001B[38;5;28mself\u001B[39m,\n\u001B[1;32m    122\u001B[0m         objectives: List[OptimizationObjective],\n\u001B[0;32m   (...)\u001B[0m\n\u001B[1;32m    125\u001B[0m         evaluator: Callable[[List[OptimizationEvaluateRunResponse]], Dict[\u001B[38;5;28mstr\u001B[39m, Any]]\n\u001B[1;32m    126\u001B[0m ) \u001B[38;5;241m-\u001B[39m\u001B[38;5;241m>\u001B[39m Result:\n\u001B[1;32m    127\u001B[0m     optimization_use_case: OptimizationUseCase \u001B[38;5;241m=\u001B[39m \u001B[38;5;28mself\u001B[39m\u001B[38;5;241m.\u001B[39mapplication_container\u001B[38;5;241m.\u001B[39muse_cases\u001B[38;5;241m.\u001B[39moptimization()\n\u001B[0;32m--> 128\u001B[0m     \u001B[38;5;28;01mreturn\u001B[39;00m \u001B[43moptimization_use_case\u001B[49m\u001B[38;5;241;43m.\u001B[39;49m\u001B[43mrun\u001B[49m\u001B[43m(\u001B[49m\n\u001B[1;32m    129\u001B[0m \u001B[43m        \u001B[49m\u001B[43mobjectives\u001B[49m\u001B[38;5;241;43m=\u001B[39;49m\u001B[43mobjectives\u001B[49m\u001B[43m,\u001B[49m\n\u001B[1;32m    130\u001B[0m \u001B[43m        \u001B[49m\u001B[43mnum_inequality_constraints\u001B[49m\u001B[38;5;241;43m=\u001B[39;49m\u001B[43mnum_inequality_constraints\u001B[49m\u001B[43m,\u001B[49m\n\u001B[1;32m    131\u001B[0m \u001B[43m        \u001B[49m\u001B[43mnum_equality_constraints\u001B[49m\u001B[38;5;241;43m=\u001B[39;49m\u001B[43mnum_equality_constraints\u001B[49m\u001B[43m,\u001B[49m\n\u001B[1;32m    132\u001B[0m \u001B[43m        \u001B[49m\u001B[43mevaluator\u001B[49m\u001B[38;5;241;43m=\u001B[39;49m\u001B[43mevaluator\u001B[49m\u001B[43m,\u001B[49m\n\u001B[1;32m    133\u001B[0m \u001B[43m    \u001B[49m\u001B[43m)\u001B[49m\n",
      "File \u001B[0;32m/mnt/c/Data/Apps/autocode/autocode/use_case.py:586\u001B[0m, in \u001B[0;36mOptimizationUseCase.run\u001B[0;34m(self, objectives, num_inequality_constraints, num_equality_constraints, evaluator)\u001B[0m\n\u001B[1;32m    584\u001B[0m \u001B[38;5;28;01mfor\u001B[39;00m client_cache \u001B[38;5;129;01min\u001B[39;00m client_caches:\n\u001B[1;32m    585\u001B[0m     client: OptimizationClient \u001B[38;5;241m=\u001B[39m dill\u001B[38;5;241m.\u001B[39mloads(client_cache\u001B[38;5;241m.\u001B[39mvalue)\n\u001B[0;32m--> 586\u001B[0m     clients[\u001B[43mclient\u001B[49m\u001B[38;5;241;43m.\u001B[39;49m\u001B[43mid\u001B[49m] \u001B[38;5;241m=\u001B[39m client\n\u001B[1;32m    587\u001B[0m     variables\u001B[38;5;241m.\u001B[39mupdate(client\u001B[38;5;241m.\u001B[39mvariables)\n\u001B[1;32m    589\u001B[0m \u001B[38;5;28;01mif\u001B[39;00m \u001B[38;5;28mlen\u001B[39m(objective_caches) \u001B[38;5;241m==\u001B[39m \u001B[38;5;241m0\u001B[39m:\n",
      "\u001B[0;31mAttributeError\u001B[0m: 'dict' object has no attribute 'id'"
     ]
    }
   ],
   "execution_count": 4
  },
  {
   "metadata": {},
   "cell_type": "code",
   "outputs": [],
   "execution_count": null,
   "source": "",
   "id": "3e9047eda6e46720"
  }
 ],
 "metadata": {
  "kernelspec": {
   "display_name": "Python 3",
   "language": "python",
   "name": "python3"
  },
  "language_info": {
   "codemirror_mode": {
    "name": "ipython",
    "version": 2
   },
   "file_extension": ".py",
   "mimetype": "text/x-python",
   "name": "python",
   "nbconvert_exporter": "python",
   "pygments_lexer": "ipython2",
   "version": "2.7.6"
  }
 },
 "nbformat": 4,
 "nbformat_minor": 5
}
