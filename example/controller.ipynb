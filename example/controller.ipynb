{
 "cells": [
  {
   "metadata": {
    "ExecuteTime": {
     "end_time": "2024-08-04T13:02:03.135372Z",
     "start_time": "2024-08-04T13:02:03.131940Z"
    }
   },
   "cell_type": "code",
   "source": [
    "import uuid\n",
    "\n",
    "from python_on_whales import DockerClient, docker\n",
    "\n",
    "docker_clients = []\n",
    "for i in range(1):\n",
    "    worker_id = uuid.uuid4().hex\n",
    "    docker_client = DockerClient(\n",
    "        compose_project_name=worker_id,\n",
    "        compose_files=[\"client-compose.yml\"],\n",
    "    )\n",
    "    docker_clients.append(docker_client)\n",
    "\n"
   ],
   "id": "8cfa79902bf4963a",
   "outputs": [],
   "execution_count": 3
  },
  {
   "metadata": {
    "ExecuteTime": {
     "start_time": "2024-08-04T13:02:03.136497Z"
    }
   },
   "cell_type": "code",
   "source": [
    "for docker_client in docker_clients:\n",
    "    docker_client.compose.up(\n",
    "        detach=True,\n",
    "        build=True,\n",
    "    )"
   ],
   "id": "50eabc9a50682b2a",
   "outputs": [],
   "execution_count": null
  },
  {
   "metadata": {},
   "cell_type": "code",
   "source": "docker.image.list()",
   "id": "f01d9c45d2aba040",
   "outputs": [],
   "execution_count": null
  },
  {
   "metadata": {},
   "cell_type": "code",
   "source": [
    "for docker_client in docker_clients:\n",
    "    docker_client.compose.down()"
   ],
   "id": "e1ce045645fccd25",
   "outputs": [],
   "execution_count": null
  },
  {
   "metadata": {},
   "cell_type": "code",
   "source": "list(docker_clients[0].compose.ps()[0].network_settings.networks.values())[0].ip_address",
   "id": "7de84698188aaeca",
   "outputs": [],
   "execution_count": null
  },
  {
   "metadata": {},
   "cell_type": "code",
   "source": [
    "for docker_client in docker_clients:\n",
    "    for container in docker_client.compose.ps():\n",
    "        A_WORKER_ID = docker_client.client_config.compose_project_name\n",
    "        B_WORKER_ID = [env for env in container.config.env if \"WORKER_ID\" in env][0].split(\"=\")[1]\n",
    "        print(A_WORKER_ID, B_WORKER_ID, A_WORKER_ID == B_WORKER_ID, container.name)"
   ],
   "id": "1fcd644a59b4caa8",
   "outputs": [],
   "execution_count": null
  },
  {
   "metadata": {},
   "cell_type": "code",
   "source": "container.name.removeprefix(\"f4425bc7e176405e89ca8af2954caa46-\")",
   "id": "53154861ee5c4004",
   "outputs": [],
   "execution_count": null
  },
  {
   "metadata": {},
   "cell_type": "code",
   "source": [
    "from httpx import Client\n",
    "\n",
    "http_client = Client(\n",
    "    base_url=\"http://172.18.0.3:8000\",\n",
    ")\n",
    "http_client.get(\"/\").json()"
   ],
   "id": "1a7380e579ec5e38",
   "outputs": [],
   "execution_count": null
  },
  {
   "metadata": {},
   "cell_type": "code",
   "source": [
    "import autocode\n",
    "\n",
    "optimization = autocode.Optimization(\n",
    "    num_cpus=2,\n",
    "    server_host=\"0.0.0.0\",\n",
    "    server_port=10000,\n",
    "    dashboard_port=10001,\n",
    ")"
   ],
   "id": "fe6274905d54ad44",
   "outputs": [],
   "execution_count": null
  },
  {
   "metadata": {},
   "cell_type": "code",
   "source": "!python3 -m streamlit run ../autocode/dashboard.py --server.port 10001",
   "id": "abc8f044f5247176",
   "outputs": [],
   "execution_count": null
  },
  {
   "metadata": {
    "ExecuteTime": {
     "end_time": "2024-08-04T16:43:36.186013Z",
     "start_time": "2024-08-04T16:43:32.196903Z"
    }
   },
   "cell_type": "code",
   "source": [
    "from autocode import OptimizationUseCase, ApplicationSetting, OneDatastore\n",
    "from autocode.container import ApplicationContainer\n",
    "import os\n",
    "\n",
    "os.environ[\"LANGCHAIN_TRACING_V2\"]=\"true\"\n",
    "os.environ[\"LANGCHAIN_ENDPOINT\"]=\"https://api.smith.langchain.com\"\n",
    "os.environ[\"LANGCHAIN_API_KEY\"]=\"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\"\n",
    "os.environ[\"LANGCHAIN_PROJECT\"]=\"autocode\"\n",
    "\n",
    "application_container: ApplicationContainer = ApplicationContainer()\n",
    "application_setting: ApplicationSetting = application_container.settings.application()\n",
    "application_setting.num_cpus = 2\n",
    "application_setting.server_host = \"0.0.0.0\"\n",
    "application_setting.server_port = 10000\n",
    "application_setting.dashboard_port = 10001\n",
    "optimization: OptimizationUseCase = application_container.use_cases.optimization()\n",
    "optimization.reset()"
   ],
   "id": "e79f7e07e3b46f41",
   "outputs": [
    {
     "name": "stderr",
     "output_type": "stream",
     "text": [
      " Container faf522eff0324f8bb3a1098cc81143cd-app-product-1  Stopping\n",
      " Container faf522eff0324f8bb3a1098cc81143cd-app-account-1  Stopping\n",
      " Container faf522eff0324f8bb3a1098cc81143cd-app-product-1  Stopped\n",
      " Container faf522eff0324f8bb3a1098cc81143cd-app-product-1  Removing\n",
      " Container faf522eff0324f8bb3a1098cc81143cd-app-product-1  Removed\n",
      " Container faf522eff0324f8bb3a1098cc81143cd-app-account-1  Stopped\n",
      " Container faf522eff0324f8bb3a1098cc81143cd-app-account-1  Removing\n",
      " Container faf522eff0324f8bb3a1098cc81143cd-app-account-1  Removed\n",
      " Network faf522eff0324f8bb3a1098cc81143cd_default  Removing\n",
      " Network faf522eff0324f8bb3a1098cc81143cd_default  Removed\n",
      " Container 3ba47c34cec84208885de54260b74388-app-product-1  Stopping\n",
      " Container 3ba47c34cec84208885de54260b74388-app-account-1  Stopping\n",
      " Container 3ba47c34cec84208885de54260b74388-app-product-1  Stopped\n",
      " Container 3ba47c34cec84208885de54260b74388-app-product-1  Removing\n",
      " Container 3ba47c34cec84208885de54260b74388-app-account-1  Stopped\n",
      " Container 3ba47c34cec84208885de54260b74388-app-account-1  Removing\n",
      " Container 3ba47c34cec84208885de54260b74388-app-product-1  Removed\n",
      " Container 3ba47c34cec84208885de54260b74388-app-account-1  Removed\n",
      " Network 3ba47c34cec84208885de54260b74388_default  Removing\n",
      " Network 3ba47c34cec84208885de54260b74388_default  Removed\n"
     ]
    }
   ],
   "execution_count": 1
  },
  {
   "metadata": {
    "ExecuteTime": {
     "end_time": "2024-08-04T16:43:42.132051Z",
     "start_time": "2024-08-04T16:43:36.187118Z"
    }
   },
   "cell_type": "code",
   "source": [
    "docker_clients = optimization.deploy(\n",
    "    compose_files=[\"./client-compose.yml\"],\n",
    ")"
   ],
   "id": "303433e5ea06bdd4",
   "outputs": [
    {
     "name": "stdout",
     "output_type": "stream",
     "text": [
      "#0 building with \"default\" instance using docker driver\n",
      "\n",
      "#1 [app-account internal] load build definition from .Dockerfile\n",
      "#1 transferring dockerfile: 101B 0.0s done\n",
      "#1 DONE 0.0s\n",
      "\n",
      "#2 [app-product internal] load build definition from .Dockerfile\n",
      "#2 transferring dockerfile: 101B 0.0s done\n",
      "#2 DONE 0.0s\n",
      "\n",
      "#3 [app-product internal] load metadata for docker.io/library/golang:latest\n",
      "#3 DONE 2.4s\n",
      "\n",
      "#4 [app-product internal] load .dockerignore\n",
      "#4 transferring context: 2B 0.0s done\n",
      "#4 DONE 0.0s\n",
      "\n",
      "#5 [app-account internal] load .dockerignore\n",
      "#5 transferring context: 2B 0.0s done\n",
      "#5 DONE 0.0s\n",
      "\n",
      "#6 [app-account 1/4] FROM docker.io/library/golang:latest@sha256:86a3c48a61915a8c62c0e1d7594730399caa3feb73655dfe96c7bc17710e96cf\n",
      "#6 DONE 0.0s\n",
      "\n",
      "#7 [app-product internal] load build context\n",
      "#7 transferring context: 335B 0.0s done\n",
      "#7 DONE 0.0s\n",
      "\n",
      "#8 [app-product 3/4] COPY . .\n",
      "#8 CACHED\n",
      "\n",
      "#9 [app-account internal] load build context\n",
      "#9 transferring context: 335B 0.0s done\n",
      "#9 DONE 0.0s\n",
      "\n",
      "#10 [app-product 4/4] RUN go mod tidy\n",
      "#10 CACHED\n",
      "\n",
      "#11 [app-account 3/4] COPY . .\n",
      "#11 CACHED\n",
      "\n",
      "#12 [app-account 2/4] WORKDIR /workdir\n",
      "#12 CACHED\n",
      "\n",
      "#13 [app-account 4/4] RUN go mod tidy\n",
      "#13 CACHED\n",
      "\n",
      "#14 [app-product] exporting to image\n",
      "#14 exporting layers done\n",
      "#14 writing image sha256:01c8b392a8be166bf9aee2444d7228a2b38786c5a01abf798225b5f5b63f34d7 done\n",
      "#14 naming to docker.io/muazhari/autocode-example-app-product:latest done\n",
      "#14 DONE 0.0s\n",
      "\n",
      "#15 [app-account] exporting to image\n",
      "#15 exporting layers done\n",
      "#15 writing image sha256:0bf4cc7b6f1bc8356f74c63967086035ae31f8b0f4049fd1e609348945e33151 done\n",
      "#15 naming to docker.io/muazhari/autocode-example-app-account:latest done\n",
      "#15 DONE 0.0s\n",
      "\n",
      "#16 [app-product] resolving provenance for metadata file\n",
      "#16 DONE 0.0s\n",
      "\n",
      "#17 [app-account] resolving provenance for metadata file\n",
      "#17 DONE 0.0s\n"
     ]
    },
    {
     "name": "stderr",
     "output_type": "stream",
     "text": [
      " Network 09e5829e42994757aa6998b44c8b9ac2_default  Creating\n",
      " Network 09e5829e42994757aa6998b44c8b9ac2_default  Created\n",
      " Container 09e5829e42994757aa6998b44c8b9ac2-app-product-1  Creating\n",
      " Container 09e5829e42994757aa6998b44c8b9ac2-app-account-1  Creating\n",
      " Container 09e5829e42994757aa6998b44c8b9ac2-app-account-1  Created\n",
      " Container 09e5829e42994757aa6998b44c8b9ac2-app-product-1  Created\n",
      " Container 09e5829e42994757aa6998b44c8b9ac2-app-product-1  Starting\n",
      " Container 09e5829e42994757aa6998b44c8b9ac2-app-account-1  Starting\n",
      " Container 09e5829e42994757aa6998b44c8b9ac2-app-account-1  Started\n",
      " Container 09e5829e42994757aa6998b44c8b9ac2-app-product-1  Started\n"
     ]
    },
    {
     "name": "stdout",
     "output_type": "stream",
     "text": [
      "#0 building with \"default\" instance using docker driver\n",
      "\n",
      "#1 [app-account internal] load build definition from .Dockerfile\n",
      "#1 transferring dockerfile: 101B 0.0s done\n",
      "#1 DONE 0.0s\n",
      "\n",
      "#2 [app-product internal] load build definition from .Dockerfile\n",
      "#2 transferring dockerfile: 101B 0.0s done\n",
      "#2 DONE 0.0s\n",
      "\n",
      "#3 [app-product internal] load metadata for docker.io/library/golang:latest\n",
      "#3 DONE 0.3s\n",
      "\n",
      "#4 [app-account internal] load .dockerignore\n",
      "#4 transferring context: 2B 0.0s done\n",
      "#4 DONE 0.0s\n",
      "\n",
      "#5 [app-product internal] load .dockerignore\n",
      "#5 transferring context: 2B 0.0s done\n",
      "#5 DONE 0.0s\n",
      "\n",
      "#6 [app-product 1/4] FROM docker.io/library/golang:latest@sha256:86a3c48a61915a8c62c0e1d7594730399caa3feb73655dfe96c7bc17710e96cf\n",
      "#6 DONE 0.0s\n",
      "\n",
      "#7 [app-product internal] load build context\n",
      "#7 transferring context: 335B 0.0s done\n",
      "#7 DONE 0.0s\n",
      "\n",
      "#8 [app-account internal] load build context\n",
      "#8 transferring context: 335B 0.0s done\n",
      "#8 DONE 0.0s\n",
      "\n",
      "#9 [app-account 3/4] COPY . .\n",
      "#9 CACHED\n",
      "\n",
      "#10 [app-account 2/4] WORKDIR /workdir\n",
      "#10 CACHED\n",
      "\n",
      "#11 [app-product 3/4] COPY . .\n",
      "#11 CACHED\n",
      "\n",
      "#12 [app-account 4/4] RUN go mod tidy\n",
      "#12 CACHED\n",
      "\n",
      "#13 [app-product 4/4] RUN go mod tidy\n",
      "#13 CACHED\n",
      "\n",
      "#14 [app-product] exporting to image\n",
      "#14 exporting layers done\n",
      "#14 writing image sha256:2c95b3bb67e8d3ec927ec7794a9034a33b53857bd8cd800caa1696d6a15718e8 done\n",
      "#14 naming to docker.io/muazhari/autocode-example-app-product:latest done\n",
      "#14 DONE 0.0s\n",
      "\n",
      "#15 [app-account] exporting to image\n",
      "#15 exporting layers done\n",
      "#15 writing image sha256:d963efa3b4dcbebb41e0cfc5459e470d5ae3ba0a39b898eb743c12d4624771d9 done\n",
      "#15 naming to docker.io/muazhari/autocode-example-app-account:latest done\n",
      "#15 DONE 0.0s\n",
      "\n",
      "#16 [app-product] resolving provenance for metadata file\n",
      "#16 DONE 0.0s\n",
      "\n",
      "#17 [app-account] resolving provenance for metadata file\n",
      "#17 DONE 0.0s\n"
     ]
    },
    {
     "name": "stderr",
     "output_type": "stream",
     "text": [
      " Network 5bfe4f5089ce4a8093b8474cd25d5dc9_default  Creating\n",
      " Network 5bfe4f5089ce4a8093b8474cd25d5dc9_default  Created\n",
      " Container 5bfe4f5089ce4a8093b8474cd25d5dc9-app-account-1  Creating\n",
      " Container 5bfe4f5089ce4a8093b8474cd25d5dc9-app-product-1  Creating\n",
      " Container 5bfe4f5089ce4a8093b8474cd25d5dc9-app-account-1  Created\n",
      " Container 5bfe4f5089ce4a8093b8474cd25d5dc9-app-product-1  Created\n",
      " Container 5bfe4f5089ce4a8093b8474cd25d5dc9-app-account-1  Starting\n",
      " Container 5bfe4f5089ce4a8093b8474cd25d5dc9-app-product-1  Starting\n",
      " Container 5bfe4f5089ce4a8093b8474cd25d5dc9-app-account-1  Started\n",
      " Container 5bfe4f5089ce4a8093b8474cd25d5dc9-app-product-1  Started\n"
     ]
    }
   ],
   "execution_count": 2
  },
  {
   "metadata": {
    "ExecuteTime": {
     "end_time": "2024-08-04T16:43:03.490308Z",
     "start_time": "2024-08-04T16:43:03.489905Z"
    }
   },
   "cell_type": "code",
   "source": [
    "from autocode import OptimizationObjective\n",
    "from typing import Dict, Any, List\n",
    "from autocode import OptimizationEvaluateRunResponse\n",
    "\n",
    "objectives: List[OptimizationObjective] = [\n",
    "    OptimizationObjective(\n",
    "        type=\"minimize\",\n",
    "    ),\n",
    "    OptimizationObjective(\n",
    "        type=\"maximize\",\n",
    "    ),\n",
    "    OptimizationObjective(\n",
    "        type=\"maximize\",\n",
    "    ),\n",
    "    OptimizationObjective(\n",
    "        type=\"minimize\",\n",
    "    ),\n",
    "    OptimizationObjective(\n",
    "        type=\"maximize\",\n",
    "    ),\n",
    "    OptimizationObjective(\n",
    "        type=\"minimize\",\n",
    "    ),\n",
    "    OptimizationObjective(\n",
    "        type=\"maximize\",\n",
    "    ),\n",
    "\n",
    "    OptimizationObjective(\n",
    "        type=\"minimize\",\n",
    "    ),\n",
    "    OptimizationObjective(\n",
    "        type=\"maximize\",\n",
    "    ),\n",
    "    OptimizationObjective(\n",
    "        type=\"maximize\",\n",
    "    ),\n",
    "    OptimizationObjective(\n",
    "        type=\"minimize\",\n",
    "    ),\n",
    "    OptimizationObjective(\n",
    "        type=\"maximize\",\n",
    "    ),\n",
    "    OptimizationObjective(\n",
    "        type=\"minimize\",\n",
    "    ),\n",
    "    OptimizationObjective(\n",
    "        type=\"maximize\",\n",
    "    ),\n",
    "]\n",
    "\n",
    "\n",
    "def evaluator(input: List[OptimizationEvaluateRunResponse]) -> Dict[str, Any]:\n",
    "    output: Dict[str, Any] = {\n",
    "        \"F\": input[0].objectives + input[1].objectives,\n",
    "    }\n",
    "\n",
    "    return output\n"
   ],
   "id": "5daf173cc5c82482",
   "outputs": [],
   "execution_count": null
  },
  {
   "metadata": {
    "ExecuteTime": {
     "end_time": "2024-08-04T16:14:08.235974Z",
     "start_time": "2024-08-04T16:13:25.037739Z"
    }
   },
   "cell_type": "code",
   "source": [
    "result = optimization.run(\n",
    "    objectives=objectives,\n",
    "    num_inequality_constraints=0,\n",
    "    num_equality_constraints=0,\n",
    "    evaluator=evaluator\n",
    ")"
   ],
   "id": "38bf58746d0b5933",
   "outputs": [
    {
     "name": "stderr",
     "output_type": "stream",
     "text": [
      "2024-08-04 23:13:26,840\tINFO worker.py:1743 -- Started a local Ray instance. View the dashboard at \u001B[1m\u001B[32mhttp://127.0.0.1:8265 \u001B[39m\u001B[22m\n",
      "Exception ignored in: <function WeakValueDictionary.__init__.<locals>.remove at 0x7fb209e77420>\n",
      "Traceback (most recent call last):\n",
      "  File \"/home/muazhari/miniconda3/lib/python3.11/weakref.py\", line 105, in remove\n",
      "    def remove(wr, selfref=ref(self), _atomic_removal=_remove_dead_weakref):\n",
      "\n",
      "KeyboardInterrupt: \n"
     ]
    },
    {
     "ename": "KeyboardInterrupt",
     "evalue": "",
     "output_type": "error",
     "traceback": [
      "\u001B[0;31m---------------------------------------------------------------------------\u001B[0m",
      "\u001B[0;31mKeyboardInterrupt\u001B[0m                         Traceback (most recent call last)",
      "Cell \u001B[0;32mIn[4], line 1\u001B[0m\n\u001B[0;32m----> 1\u001B[0m result \u001B[38;5;241m=\u001B[39m \u001B[43moptimization\u001B[49m\u001B[38;5;241;43m.\u001B[39;49m\u001B[43mrun\u001B[49m\u001B[43m(\u001B[49m\n\u001B[1;32m      2\u001B[0m \u001B[43m    \u001B[49m\u001B[43mobjectives\u001B[49m\u001B[38;5;241;43m=\u001B[39;49m\u001B[43mobjectives\u001B[49m\u001B[43m,\u001B[49m\n\u001B[1;32m      3\u001B[0m \u001B[43m    \u001B[49m\u001B[43mnum_inequality_constraints\u001B[49m\u001B[38;5;241;43m=\u001B[39;49m\u001B[38;5;241;43m0\u001B[39;49m\u001B[43m,\u001B[49m\n\u001B[1;32m      4\u001B[0m \u001B[43m    \u001B[49m\u001B[43mnum_equality_constraints\u001B[49m\u001B[38;5;241;43m=\u001B[39;49m\u001B[38;5;241;43m0\u001B[39;49m\u001B[43m,\u001B[49m\n\u001B[1;32m      5\u001B[0m \u001B[43m    \u001B[49m\u001B[43mevaluator\u001B[49m\u001B[38;5;241;43m=\u001B[39;49m\u001B[43mevaluator\u001B[49m\n\u001B[1;32m      6\u001B[0m \u001B[43m)\u001B[49m\n",
      "File \u001B[0;32m/mnt/c/Data/Apps/autocode/autocode/use_case.py:601\u001B[0m, in \u001B[0;36mOptimizationUseCase.run\u001B[0;34m(self, objectives, num_inequality_constraints, num_equality_constraints, evaluator)\u001B[0m\n\u001B[1;32m    598\u001B[0m session\u001B[38;5;241m.\u001B[39mcommit()\n\u001B[1;32m    599\u001B[0m session\u001B[38;5;241m.\u001B[39mclose()\n\u001B[0;32m--> 601\u001B[0m result: Result \u001B[38;5;241m=\u001B[39m \u001B[38;5;28;43mself\u001B[39;49m\u001B[38;5;241;43m.\u001B[39;49m\u001B[43mminimize\u001B[49m\u001B[43m(\u001B[49m\n\u001B[1;32m    602\u001B[0m \u001B[43m    \u001B[49m\u001B[43mobjectives\u001B[49m\u001B[38;5;241;43m=\u001B[39;49m\u001B[43mobjectives\u001B[49m\u001B[43m,\u001B[49m\n\u001B[1;32m    603\u001B[0m \u001B[43m    \u001B[49m\u001B[43mnum_inequality_constraints\u001B[49m\u001B[38;5;241;43m=\u001B[39;49m\u001B[43mnum_inequality_constraints\u001B[49m\u001B[43m,\u001B[49m\n\u001B[1;32m    604\u001B[0m \u001B[43m    \u001B[49m\u001B[43mnum_equality_constraints\u001B[49m\u001B[38;5;241;43m=\u001B[39;49m\u001B[43mnum_equality_constraints\u001B[49m\u001B[43m,\u001B[49m\n\u001B[1;32m    605\u001B[0m \u001B[43m    \u001B[49m\u001B[43mvariables\u001B[49m\u001B[38;5;241;43m=\u001B[39;49m\u001B[43mvariables\u001B[49m\u001B[43m,\u001B[49m\n\u001B[1;32m    606\u001B[0m \u001B[43m    \u001B[49m\u001B[43mevaluator\u001B[49m\u001B[38;5;241;43m=\u001B[39;49m\u001B[43mevaluator\u001B[49m\u001B[43m,\u001B[49m\n\u001B[1;32m    607\u001B[0m \u001B[43m    \u001B[49m\u001B[43mclients\u001B[49m\u001B[38;5;241;43m=\u001B[39;49m\u001B[43mclients\u001B[49m\n\u001B[1;32m    608\u001B[0m \u001B[43m\u001B[49m\u001B[43m)\u001B[49m\n\u001B[1;32m    610\u001B[0m \u001B[38;5;28;01mif\u001B[39;00m \u001B[38;5;28mtype\u001B[39m(result\u001B[38;5;241m.\u001B[39mF) \u001B[38;5;241m!=\u001B[39m np\u001B[38;5;241m.\u001B[39mndarray \u001B[38;5;129;01mor\u001B[39;00m result\u001B[38;5;241m.\u001B[39mF\u001B[38;5;241m.\u001B[39mndim \u001B[38;5;241m==\u001B[39m \u001B[38;5;241m1\u001B[39m:\n\u001B[1;32m    611\u001B[0m     result\u001B[38;5;241m.\u001B[39mF \u001B[38;5;241m=\u001B[39m np\u001B[38;5;241m.\u001B[39marray([result\u001B[38;5;241m.\u001B[39mF])\n",
      "File \u001B[0;32m/mnt/c/Data/Apps/autocode/autocode/use_case.py:665\u001B[0m, in \u001B[0;36mOptimizationUseCase.minimize\u001B[0;34m(self, objectives, num_inequality_constraints, num_equality_constraints, variables, evaluator, clients)\u001B[0m\n\u001B[1;32m    655\u001B[0m algorithm: SMSEMOA \u001B[38;5;241m=\u001B[39m SMSEMOA(\n\u001B[1;32m    656\u001B[0m     sampling\u001B[38;5;241m=\u001B[39mMixedVariableSampling(),\n\u001B[1;32m    657\u001B[0m     mating\u001B[38;5;241m=\u001B[39mMixedVariableMating(eliminate_duplicates\u001B[38;5;241m=\u001B[39mMixedVariableDuplicateElimination()),\n\u001B[1;32m    658\u001B[0m     eliminate_duplicates\u001B[38;5;241m=\u001B[39mMixedVariableDuplicateElimination(),\n\u001B[1;32m    659\u001B[0m )\n\u001B[1;32m    661\u001B[0m callback: OptimizationCallback \u001B[38;5;241m=\u001B[39m OptimizationCallback(\n\u001B[1;32m    662\u001B[0m     one_datastore\u001B[38;5;241m=\u001B[39m\u001B[38;5;28mself\u001B[39m\u001B[38;5;241m.\u001B[39mone_datastore\n\u001B[1;32m    663\u001B[0m )\n\u001B[0;32m--> 665\u001B[0m result: Result \u001B[38;5;241m=\u001B[39m \u001B[43mminimize\u001B[49m\u001B[43m(\u001B[49m\n\u001B[1;32m    666\u001B[0m \u001B[43m    \u001B[49m\u001B[43mproblem\u001B[49m\u001B[38;5;241;43m=\u001B[39;49m\u001B[43mproblem\u001B[49m\u001B[43m,\u001B[49m\n\u001B[1;32m    667\u001B[0m \u001B[43m    \u001B[49m\u001B[43malgorithm\u001B[49m\u001B[38;5;241;43m=\u001B[39;49m\u001B[43malgorithm\u001B[49m\u001B[43m,\u001B[49m\n\u001B[1;32m    668\u001B[0m \u001B[43m    \u001B[49m\u001B[43mcallback\u001B[49m\u001B[38;5;241;43m=\u001B[39;49m\u001B[43mcallback\u001B[49m\u001B[43m,\u001B[49m\n\u001B[1;32m    669\u001B[0m \u001B[43m    \u001B[49m\u001B[43mseed\u001B[49m\u001B[38;5;241;43m=\u001B[39;49m\u001B[38;5;241;43m1\u001B[39;49m\u001B[43m,\u001B[49m\n\u001B[1;32m    670\u001B[0m \u001B[43m    \u001B[49m\u001B[43mverbose\u001B[49m\u001B[38;5;241;43m=\u001B[39;49m\u001B[38;5;28;43;01mTrue\u001B[39;49;00m\n\u001B[1;32m    671\u001B[0m \u001B[43m\u001B[49m\u001B[43m)\u001B[49m\n\u001B[1;32m    673\u001B[0m \u001B[38;5;28;01mreturn\u001B[39;00m result\n",
      "File \u001B[0;32m~/miniconda3/lib/python3.11/site-packages/pymoo/optimize.py:67\u001B[0m, in \u001B[0;36mminimize\u001B[0;34m(problem, algorithm, termination, copy_algorithm, copy_termination, **kwargs)\u001B[0m\n\u001B[1;32m     64\u001B[0m     algorithm\u001B[38;5;241m.\u001B[39msetup(problem, \u001B[38;5;241m*\u001B[39m\u001B[38;5;241m*\u001B[39mkwargs)\n\u001B[1;32m     66\u001B[0m \u001B[38;5;66;03m# actually execute the algorithm\u001B[39;00m\n\u001B[0;32m---> 67\u001B[0m res \u001B[38;5;241m=\u001B[39m \u001B[43malgorithm\u001B[49m\u001B[38;5;241;43m.\u001B[39;49m\u001B[43mrun\u001B[49m\u001B[43m(\u001B[49m\u001B[43m)\u001B[49m\n\u001B[1;32m     69\u001B[0m \u001B[38;5;66;03m# store the deep copied algorithm in the result object\u001B[39;00m\n\u001B[1;32m     70\u001B[0m res\u001B[38;5;241m.\u001B[39malgorithm \u001B[38;5;241m=\u001B[39m algorithm\n",
      "File \u001B[0;32m~/miniconda3/lib/python3.11/site-packages/pymoo/core/algorithm.py:138\u001B[0m, in \u001B[0;36mAlgorithm.run\u001B[0;34m(self)\u001B[0m\n\u001B[1;32m    136\u001B[0m \u001B[38;5;28;01mdef\u001B[39;00m \u001B[38;5;21mrun\u001B[39m(\u001B[38;5;28mself\u001B[39m):\n\u001B[1;32m    137\u001B[0m     \u001B[38;5;28;01mwhile\u001B[39;00m \u001B[38;5;28mself\u001B[39m\u001B[38;5;241m.\u001B[39mhas_next():\n\u001B[0;32m--> 138\u001B[0m         \u001B[38;5;28;43mself\u001B[39;49m\u001B[38;5;241;43m.\u001B[39;49m\u001B[43mnext\u001B[49m\u001B[43m(\u001B[49m\u001B[43m)\u001B[49m\n\u001B[1;32m    139\u001B[0m     \u001B[38;5;28;01mreturn\u001B[39;00m \u001B[38;5;28mself\u001B[39m\u001B[38;5;241m.\u001B[39mresult()\n",
      "File \u001B[0;32m~/miniconda3/lib/python3.11/site-packages/pymoo/core/algorithm.py:158\u001B[0m, in \u001B[0;36mAlgorithm.next\u001B[0;34m(self)\u001B[0m\n\u001B[1;32m    156\u001B[0m \u001B[38;5;66;03m# call the advance with them after evaluation\u001B[39;00m\n\u001B[1;32m    157\u001B[0m \u001B[38;5;28;01mif\u001B[39;00m infills \u001B[38;5;129;01mis\u001B[39;00m \u001B[38;5;129;01mnot\u001B[39;00m \u001B[38;5;28;01mNone\u001B[39;00m:\n\u001B[0;32m--> 158\u001B[0m     \u001B[38;5;28;43mself\u001B[39;49m\u001B[38;5;241;43m.\u001B[39;49m\u001B[43mevaluator\u001B[49m\u001B[38;5;241;43m.\u001B[39;49m\u001B[43meval\u001B[49m\u001B[43m(\u001B[49m\u001B[38;5;28;43mself\u001B[39;49m\u001B[38;5;241;43m.\u001B[39;49m\u001B[43mproblem\u001B[49m\u001B[43m,\u001B[49m\u001B[43m \u001B[49m\u001B[43minfills\u001B[49m\u001B[43m,\u001B[49m\u001B[43m \u001B[49m\u001B[43malgorithm\u001B[49m\u001B[38;5;241;43m=\u001B[39;49m\u001B[38;5;28;43mself\u001B[39;49m\u001B[43m)\u001B[49m\n\u001B[1;32m    159\u001B[0m     \u001B[38;5;28mself\u001B[39m\u001B[38;5;241m.\u001B[39madvance(infills\u001B[38;5;241m=\u001B[39minfills)\n\u001B[1;32m    161\u001B[0m \u001B[38;5;66;03m# if the algorithm does not follow the infill-advance scheme just call advance\u001B[39;00m\n\u001B[1;32m    162\u001B[0m \u001B[38;5;28;01melse\u001B[39;00m:\n",
      "File \u001B[0;32m~/miniconda3/lib/python3.11/site-packages/pymoo/core/evaluator.py:69\u001B[0m, in \u001B[0;36mEvaluator.eval\u001B[0;34m(self, problem, pop, skip_already_evaluated, evaluate_values_of, count_evals, **kwargs)\u001B[0m\n\u001B[1;32m     65\u001B[0m \u001B[38;5;66;03m# evaluate the solutions (if there are any)\u001B[39;00m\n\u001B[1;32m     66\u001B[0m \u001B[38;5;28;01mif\u001B[39;00m \u001B[38;5;28mlen\u001B[39m(I) \u001B[38;5;241m>\u001B[39m \u001B[38;5;241m0\u001B[39m:\n\u001B[1;32m     67\u001B[0m \n\u001B[1;32m     68\u001B[0m     \u001B[38;5;66;03m# do the actual evaluation - call the sub-function to set the corresponding values to the population\u001B[39;00m\n\u001B[0;32m---> 69\u001B[0m     \u001B[38;5;28;43mself\u001B[39;49m\u001B[38;5;241;43m.\u001B[39;49m\u001B[43m_eval\u001B[49m\u001B[43m(\u001B[49m\u001B[43mproblem\u001B[49m\u001B[43m,\u001B[49m\u001B[43m \u001B[49m\u001B[43mpop\u001B[49m\u001B[43m[\u001B[49m\u001B[43mI\u001B[49m\u001B[43m]\u001B[49m\u001B[43m,\u001B[49m\u001B[43m \u001B[49m\u001B[43mevaluate_values_of\u001B[49m\u001B[43m,\u001B[49m\u001B[43m \u001B[49m\u001B[38;5;241;43m*\u001B[39;49m\u001B[38;5;241;43m*\u001B[39;49m\u001B[43mkwargs\u001B[49m\u001B[43m)\u001B[49m\n\u001B[1;32m     71\u001B[0m \u001B[38;5;66;03m# update the function evaluation counter\u001B[39;00m\n\u001B[1;32m     72\u001B[0m \u001B[38;5;28;01mif\u001B[39;00m count_evals:\n",
      "File \u001B[0;32m~/miniconda3/lib/python3.11/site-packages/pymoo/core/evaluator.py:90\u001B[0m, in \u001B[0;36mEvaluator._eval\u001B[0;34m(self, problem, pop, evaluate_values_of, **kwargs)\u001B[0m\n\u001B[1;32m     87\u001B[0m X \u001B[38;5;241m=\u001B[39m pop\u001B[38;5;241m.\u001B[39mget(\u001B[38;5;124m\"\u001B[39m\u001B[38;5;124mX\u001B[39m\u001B[38;5;124m\"\u001B[39m)\n\u001B[1;32m     89\u001B[0m \u001B[38;5;66;03m# call the problem to evaluate the solutions\u001B[39;00m\n\u001B[0;32m---> 90\u001B[0m out \u001B[38;5;241m=\u001B[39m \u001B[43mproblem\u001B[49m\u001B[38;5;241;43m.\u001B[39;49m\u001B[43mevaluate\u001B[49m\u001B[43m(\u001B[49m\u001B[43mX\u001B[49m\u001B[43m,\u001B[49m\u001B[43m \u001B[49m\u001B[43mreturn_values_of\u001B[49m\u001B[38;5;241;43m=\u001B[39;49m\u001B[43mevaluate_values_of\u001B[49m\u001B[43m,\u001B[49m\u001B[43m \u001B[49m\u001B[43mreturn_as_dictionary\u001B[49m\u001B[38;5;241;43m=\u001B[39;49m\u001B[38;5;28;43;01mTrue\u001B[39;49;00m\u001B[43m,\u001B[49m\u001B[43m \u001B[49m\u001B[38;5;241;43m*\u001B[39;49m\u001B[38;5;241;43m*\u001B[39;49m\u001B[43mkwargs\u001B[49m\u001B[43m)\u001B[49m\n\u001B[1;32m     92\u001B[0m \u001B[38;5;66;03m# for each of the attributes set it to the problem\u001B[39;00m\n\u001B[1;32m     93\u001B[0m \u001B[38;5;28;01mfor\u001B[39;00m key, val \u001B[38;5;129;01min\u001B[39;00m out\u001B[38;5;241m.\u001B[39mitems():\n",
      "File \u001B[0;32m~/miniconda3/lib/python3.11/site-packages/pymoo/core/problem.py:257\u001B[0m, in \u001B[0;36mProblem.evaluate\u001B[0;34m(self, X, return_values_of, return_as_dictionary, *args, **kwargs)\u001B[0m\n\u001B[1;32m    254\u001B[0m     only_single_value \u001B[38;5;241m=\u001B[39m \u001B[38;5;129;01mnot\u001B[39;00m (\u001B[38;5;28misinstance\u001B[39m(X, \u001B[38;5;28mlist\u001B[39m) \u001B[38;5;129;01mor\u001B[39;00m \u001B[38;5;28misinstance\u001B[39m(X, np\u001B[38;5;241m.\u001B[39mndarray))\n\u001B[1;32m    256\u001B[0m \u001B[38;5;66;03m# this is where the actual evaluation takes place\u001B[39;00m\n\u001B[0;32m--> 257\u001B[0m _out \u001B[38;5;241m=\u001B[39m \u001B[38;5;28;43mself\u001B[39;49m\u001B[38;5;241;43m.\u001B[39;49m\u001B[43mdo\u001B[49m\u001B[43m(\u001B[49m\u001B[43mX\u001B[49m\u001B[43m,\u001B[49m\u001B[43m \u001B[49m\u001B[43mreturn_values_of\u001B[49m\u001B[43m,\u001B[49m\u001B[43m \u001B[49m\u001B[38;5;241;43m*\u001B[39;49m\u001B[43margs\u001B[49m\u001B[43m,\u001B[49m\u001B[43m \u001B[49m\u001B[38;5;241;43m*\u001B[39;49m\u001B[38;5;241;43m*\u001B[39;49m\u001B[43mkwargs\u001B[49m\u001B[43m)\u001B[49m\n\u001B[1;32m    259\u001B[0m out \u001B[38;5;241m=\u001B[39m {}\n\u001B[1;32m    260\u001B[0m \u001B[38;5;28;01mfor\u001B[39;00m k, v \u001B[38;5;129;01min\u001B[39;00m _out\u001B[38;5;241m.\u001B[39mitems():\n\u001B[1;32m    261\u001B[0m \n\u001B[1;32m    262\u001B[0m     \u001B[38;5;66;03m# copy it to a numpy array (it might be one of jax at this point)\u001B[39;00m\n",
      "File \u001B[0;32m~/miniconda3/lib/python3.11/site-packages/pymoo/core/problem.py:297\u001B[0m, in \u001B[0;36mProblem.do\u001B[0;34m(self, X, return_values_of, *args, **kwargs)\u001B[0m\n\u001B[1;32m    295\u001B[0m \u001B[38;5;66;03m# do the function evaluation\u001B[39;00m\n\u001B[1;32m    296\u001B[0m \u001B[38;5;28;01mif\u001B[39;00m \u001B[38;5;28mself\u001B[39m\u001B[38;5;241m.\u001B[39melementwise:\n\u001B[0;32m--> 297\u001B[0m     \u001B[38;5;28;43mself\u001B[39;49m\u001B[38;5;241;43m.\u001B[39;49m\u001B[43m_evaluate_elementwise\u001B[49m\u001B[43m(\u001B[49m\u001B[43mX\u001B[49m\u001B[43m,\u001B[49m\u001B[43m \u001B[49m\u001B[43mout\u001B[49m\u001B[43m,\u001B[49m\u001B[43m \u001B[49m\u001B[38;5;241;43m*\u001B[39;49m\u001B[43margs\u001B[49m\u001B[43m,\u001B[49m\u001B[43m \u001B[49m\u001B[38;5;241;43m*\u001B[39;49m\u001B[38;5;241;43m*\u001B[39;49m\u001B[43mkwargs\u001B[49m\u001B[43m)\u001B[49m\n\u001B[1;32m    298\u001B[0m \u001B[38;5;28;01melse\u001B[39;00m:\n\u001B[1;32m    299\u001B[0m     \u001B[38;5;28mself\u001B[39m\u001B[38;5;241m.\u001B[39m_evaluate_vectorized(X, out, \u001B[38;5;241m*\u001B[39margs, \u001B[38;5;241m*\u001B[39m\u001B[38;5;241m*\u001B[39mkwargs)\n",
      "File \u001B[0;32m~/miniconda3/lib/python3.11/site-packages/pymoo/core/problem.py:315\u001B[0m, in \u001B[0;36mProblem._evaluate_elementwise\u001B[0;34m(self, X, out, *args, **kwargs)\u001B[0m\n\u001B[1;32m    312\u001B[0m f \u001B[38;5;241m=\u001B[39m \u001B[38;5;28mself\u001B[39m\u001B[38;5;241m.\u001B[39melementwise_func(\u001B[38;5;28mself\u001B[39m, args, kwargs)\n\u001B[1;32m    314\u001B[0m \u001B[38;5;66;03m# execute the runner\u001B[39;00m\n\u001B[0;32m--> 315\u001B[0m elems \u001B[38;5;241m=\u001B[39m \u001B[38;5;28;43mself\u001B[39;49m\u001B[38;5;241;43m.\u001B[39;49m\u001B[43melementwise_runner\u001B[49m\u001B[43m(\u001B[49m\u001B[43mf\u001B[49m\u001B[43m,\u001B[49m\u001B[43m \u001B[49m\u001B[43mX\u001B[49m\u001B[43m)\u001B[49m\n\u001B[1;32m    317\u001B[0m \u001B[38;5;66;03m# for each evaluation call\u001B[39;00m\n\u001B[1;32m    318\u001B[0m \u001B[38;5;28;01mfor\u001B[39;00m elem \u001B[38;5;129;01min\u001B[39;00m elems:\n\u001B[1;32m    319\u001B[0m \n\u001B[1;32m    320\u001B[0m     \u001B[38;5;66;03m# for each key stored for this evaluation\u001B[39;00m\n",
      "File \u001B[0;32m/mnt/c/Data/Apps/autocode/autocode/use_case.py:365\u001B[0m, in \u001B[0;36mOptimizationProblemRunner.__call__\u001B[0;34m(self, f, X)\u001B[0m\n\u001B[1;32m    363\u001B[0m runnable \u001B[38;5;241m=\u001B[39m ray\u001B[38;5;241m.\u001B[39mremote(f\u001B[38;5;241m.\u001B[39m\u001B[38;5;21m__call__\u001B[39m\u001B[38;5;241m.\u001B[39m\u001B[38;5;18m__func__\u001B[39m)\n\u001B[1;32m    364\u001B[0m futures \u001B[38;5;241m=\u001B[39m [runnable\u001B[38;5;241m.\u001B[39mremote(f, x) \u001B[38;5;28;01mfor\u001B[39;00m x \u001B[38;5;129;01min\u001B[39;00m X]\n\u001B[0;32m--> 365\u001B[0m \u001B[38;5;28;01mreturn\u001B[39;00m \u001B[43mray\u001B[49m\u001B[38;5;241;43m.\u001B[39;49m\u001B[43mget\u001B[49m\u001B[43m(\u001B[49m\u001B[43mfutures\u001B[49m\u001B[43m)\u001B[49m\n",
      "File \u001B[0;32m~/miniconda3/lib/python3.11/site-packages/ray/_private/auto_init_hook.py:21\u001B[0m, in \u001B[0;36mwrap_auto_init.<locals>.auto_init_wrapper\u001B[0;34m(*args, **kwargs)\u001B[0m\n\u001B[1;32m     18\u001B[0m \u001B[38;5;129m@wraps\u001B[39m(fn)\n\u001B[1;32m     19\u001B[0m \u001B[38;5;28;01mdef\u001B[39;00m \u001B[38;5;21mauto_init_wrapper\u001B[39m(\u001B[38;5;241m*\u001B[39margs, \u001B[38;5;241m*\u001B[39m\u001B[38;5;241m*\u001B[39mkwargs):\n\u001B[1;32m     20\u001B[0m     auto_init_ray()\n\u001B[0;32m---> 21\u001B[0m     \u001B[38;5;28;01mreturn\u001B[39;00m \u001B[43mfn\u001B[49m\u001B[43m(\u001B[49m\u001B[38;5;241;43m*\u001B[39;49m\u001B[43margs\u001B[49m\u001B[43m,\u001B[49m\u001B[43m \u001B[49m\u001B[38;5;241;43m*\u001B[39;49m\u001B[38;5;241;43m*\u001B[39;49m\u001B[43mkwargs\u001B[49m\u001B[43m)\u001B[49m\n",
      "File \u001B[0;32m~/miniconda3/lib/python3.11/site-packages/ray/_private/client_mode_hook.py:103\u001B[0m, in \u001B[0;36mclient_mode_hook.<locals>.wrapper\u001B[0;34m(*args, **kwargs)\u001B[0m\n\u001B[1;32m    101\u001B[0m     \u001B[38;5;28;01mif\u001B[39;00m func\u001B[38;5;241m.\u001B[39m\u001B[38;5;18m__name__\u001B[39m \u001B[38;5;241m!=\u001B[39m \u001B[38;5;124m\"\u001B[39m\u001B[38;5;124minit\u001B[39m\u001B[38;5;124m\"\u001B[39m \u001B[38;5;129;01mor\u001B[39;00m is_client_mode_enabled_by_default:\n\u001B[1;32m    102\u001B[0m         \u001B[38;5;28;01mreturn\u001B[39;00m \u001B[38;5;28mgetattr\u001B[39m(ray, func\u001B[38;5;241m.\u001B[39m\u001B[38;5;18m__name__\u001B[39m)(\u001B[38;5;241m*\u001B[39margs, \u001B[38;5;241m*\u001B[39m\u001B[38;5;241m*\u001B[39mkwargs)\n\u001B[0;32m--> 103\u001B[0m \u001B[38;5;28;01mreturn\u001B[39;00m \u001B[43mfunc\u001B[49m\u001B[43m(\u001B[49m\u001B[38;5;241;43m*\u001B[39;49m\u001B[43margs\u001B[49m\u001B[43m,\u001B[49m\u001B[43m \u001B[49m\u001B[38;5;241;43m*\u001B[39;49m\u001B[38;5;241;43m*\u001B[39;49m\u001B[43mkwargs\u001B[49m\u001B[43m)\u001B[49m\n",
      "File \u001B[0;32m~/miniconda3/lib/python3.11/site-packages/ray/_private/worker.py:2667\u001B[0m, in \u001B[0;36mget\u001B[0;34m(object_refs, timeout)\u001B[0m\n\u001B[1;32m   2661\u001B[0m     \u001B[38;5;28;01mraise\u001B[39;00m \u001B[38;5;167;01mValueError\u001B[39;00m(\n\u001B[1;32m   2662\u001B[0m         \u001B[38;5;124mf\u001B[39m\u001B[38;5;124m\"\u001B[39m\u001B[38;5;124mInvalid type of object refs, \u001B[39m\u001B[38;5;132;01m{\u001B[39;00m\u001B[38;5;28mtype\u001B[39m(object_refs)\u001B[38;5;132;01m}\u001B[39;00m\u001B[38;5;124m, is given. \u001B[39m\u001B[38;5;124m\"\u001B[39m\n\u001B[1;32m   2663\u001B[0m         \u001B[38;5;124m\"\u001B[39m\u001B[38;5;124m'\u001B[39m\u001B[38;5;124mobject_refs\u001B[39m\u001B[38;5;124m'\u001B[39m\u001B[38;5;124m must either be an ObjectRef or a list of ObjectRefs. \u001B[39m\u001B[38;5;124m\"\u001B[39m\n\u001B[1;32m   2664\u001B[0m     )\n\u001B[1;32m   2666\u001B[0m \u001B[38;5;66;03m# TODO(ujvl): Consider how to allow user to retrieve the ready objects.\u001B[39;00m\n\u001B[0;32m-> 2667\u001B[0m values, debugger_breakpoint \u001B[38;5;241m=\u001B[39m \u001B[43mworker\u001B[49m\u001B[38;5;241;43m.\u001B[39;49m\u001B[43mget_objects\u001B[49m\u001B[43m(\u001B[49m\u001B[43mobject_refs\u001B[49m\u001B[43m,\u001B[49m\u001B[43m \u001B[49m\u001B[43mtimeout\u001B[49m\u001B[38;5;241;43m=\u001B[39;49m\u001B[43mtimeout\u001B[49m\u001B[43m)\u001B[49m\n\u001B[1;32m   2668\u001B[0m \u001B[38;5;28;01mfor\u001B[39;00m i, value \u001B[38;5;129;01min\u001B[39;00m \u001B[38;5;28menumerate\u001B[39m(values):\n\u001B[1;32m   2669\u001B[0m     \u001B[38;5;28;01mif\u001B[39;00m \u001B[38;5;28misinstance\u001B[39m(value, RayError):\n",
      "File \u001B[0;32m~/miniconda3/lib/python3.11/site-packages/ray/_private/worker.py:843\u001B[0m, in \u001B[0;36mWorker.get_objects\u001B[0;34m(self, object_refs, timeout)\u001B[0m\n\u001B[1;32m    837\u001B[0m         \u001B[38;5;28;01mraise\u001B[39;00m \u001B[38;5;167;01mTypeError\u001B[39;00m(\n\u001B[1;32m    838\u001B[0m             \u001B[38;5;124mf\u001B[39m\u001B[38;5;124m\"\u001B[39m\u001B[38;5;124mAttempting to call `get` on the value \u001B[39m\u001B[38;5;132;01m{\u001B[39;00mobject_ref\u001B[38;5;132;01m}\u001B[39;00m\u001B[38;5;124m, \u001B[39m\u001B[38;5;124m\"\u001B[39m\n\u001B[1;32m    839\u001B[0m             \u001B[38;5;124m\"\u001B[39m\u001B[38;5;124mwhich is not an ray.ObjectRef.\u001B[39m\u001B[38;5;124m\"\u001B[39m\n\u001B[1;32m    840\u001B[0m         )\n\u001B[1;32m    842\u001B[0m timeout_ms \u001B[38;5;241m=\u001B[39m \u001B[38;5;28mint\u001B[39m(timeout \u001B[38;5;241m*\u001B[39m \u001B[38;5;241m1000\u001B[39m) \u001B[38;5;28;01mif\u001B[39;00m timeout \u001B[38;5;129;01mis\u001B[39;00m \u001B[38;5;129;01mnot\u001B[39;00m \u001B[38;5;28;01mNone\u001B[39;00m \u001B[38;5;28;01melse\u001B[39;00m \u001B[38;5;241m-\u001B[39m\u001B[38;5;241m1\u001B[39m\n\u001B[0;32m--> 843\u001B[0m data_metadata_pairs \u001B[38;5;241m=\u001B[39m \u001B[38;5;28;43mself\u001B[39;49m\u001B[38;5;241;43m.\u001B[39;49m\u001B[43mcore_worker\u001B[49m\u001B[38;5;241;43m.\u001B[39;49m\u001B[43mget_objects\u001B[49m\u001B[43m(\u001B[49m\n\u001B[1;32m    844\u001B[0m \u001B[43m    \u001B[49m\u001B[43mobject_refs\u001B[49m\u001B[43m,\u001B[49m\n\u001B[1;32m    845\u001B[0m \u001B[43m    \u001B[49m\u001B[38;5;28;43mself\u001B[39;49m\u001B[38;5;241;43m.\u001B[39;49m\u001B[43mcurrent_task_id\u001B[49m\u001B[43m,\u001B[49m\n\u001B[1;32m    846\u001B[0m \u001B[43m    \u001B[49m\u001B[43mtimeout_ms\u001B[49m\u001B[43m,\u001B[49m\n\u001B[1;32m    847\u001B[0m \u001B[43m\u001B[49m\u001B[43m)\u001B[49m\n\u001B[1;32m    848\u001B[0m debugger_breakpoint \u001B[38;5;241m=\u001B[39m \u001B[38;5;124mb\u001B[39m\u001B[38;5;124m\"\u001B[39m\u001B[38;5;124m\"\u001B[39m\n\u001B[1;32m    849\u001B[0m \u001B[38;5;28;01mfor\u001B[39;00m data, metadata \u001B[38;5;129;01min\u001B[39;00m data_metadata_pairs:\n",
      "File \u001B[0;32mpython/ray/_raylet.pyx:3483\u001B[0m, in \u001B[0;36mray._raylet.CoreWorker.get_objects\u001B[0;34m()\u001B[0m\n",
      "File \u001B[0;32mpython/ray/_raylet.pyx:570\u001B[0m, in \u001B[0;36mray._raylet.check_status\u001B[0;34m()\u001B[0m\n",
      "\u001B[0;31mKeyboardInterrupt\u001B[0m: "
     ]
    }
   ],
   "execution_count": 4
  },
  {
   "metadata": {},
   "cell_type": "code",
   "source": "",
   "id": "3e9047eda6e46720",
   "outputs": [],
   "execution_count": null
  }
 ],
 "metadata": {
  "kernelspec": {
   "display_name": "Python 3",
   "language": "python",
   "name": "python3"
  },
  "language_info": {
   "codemirror_mode": {
    "name": "ipython",
    "version": 2
   },
   "file_extension": ".py",
   "mimetype": "text/x-python",
   "name": "python",
   "nbconvert_exporter": "python",
   "pygments_lexer": "ipython2",
   "version": "2.7.6"
  }
 },
 "nbformat": 4,
 "nbformat_minor": 5
}
