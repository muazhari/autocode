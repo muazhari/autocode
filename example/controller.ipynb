{
 "cells": [
  {
   "metadata": {
    "ExecuteTime": {
     "end_time": "2024-08-03T07:21:13.199654Z",
     "start_time": "2024-08-03T07:21:12.936444Z"
    }
   },
   "cell_type": "code",
   "source": [
    "from python_on_whales import DockerClient, docker\n",
    "import uuid\n",
    "\n",
    "docker_clients = []\n",
    "for i in range(1):\n",
    "    worker_id = uuid.uuid4().hex\n",
    "    docker_client = DockerClient(\n",
    "        compose_project_name=worker_id,\n",
    "        compose_files=[\"client-compose.yml\"],\n",
    "    )\n",
    "    docker_clients.append(docker_client)\n",
    "\n"
   ],
   "id": "8cfa79902bf4963a",
   "outputs": [],
   "execution_count": 1
  },
  {
   "metadata": {
    "ExecuteTime": {
     "end_time": "2024-08-03T07:23:26.445778Z",
     "start_time": "2024-08-03T07:21:37.627703Z"
    }
   },
   "cell_type": "code",
   "source": [
    "for docker_client in docker_clients:\n",
    "    docker_client.compose.up(\n",
    "        detach=True,\n",
    "        build=True,\n",
    "    )"
   ],
   "id": "50eabc9a50682b2a",
   "outputs": [
    {
     "name": "stdout",
     "output_type": "stream",
     "text": [
      "#0 building with \"default\" instance using docker driver\n",
      "\n",
      "#1 [app-product internal] load build definition from .Dockerfile\n",
      "#1 transferring dockerfile: 121B 0.0s done\n",
      "#1 DONE 0.0s\n",
      "\n",
      "#2 [app-account internal] load build definition from .Dockerfile\n",
      "#2 transferring dockerfile: 121B done\n",
      "#2 WARN: LegacyKeyValueFormat: \"ENV key=value\" should be used instead of legacy \"ENV key value\" format (line 7)\n",
      "#2 DONE 0.0s\n",
      "\n",
      "#3 [app-account internal] load metadata for docker.io/library/golang:latest\n",
      "#3 DONE 0.0s\n",
      "\n",
      "#4 [app-product internal] load .dockerignore\n",
      "#4 transferring context: 2B done\n",
      "#4 DONE 0.0s\n",
      "\n",
      "#5 [app-account 1/4] FROM docker.io/library/golang:latest\n",
      "#5 DONE 0.0s\n",
      "\n",
      "#6 [app-account internal] load .dockerignore\n",
      "#6 transferring context: 2B 0.0s done\n",
      "#6 DONE 0.0s\n",
      "\n",
      "#7 [app-product internal] load build context\n",
      "#7 transferring context: 5.08kB 0.0s done\n",
      "#7 DONE 0.0s\n",
      "\n",
      "#8 [app-product 2/4] WORKDIR /workdir\n",
      "#8 CACHED\n",
      "\n",
      "#9 [app-account internal] load build context\n",
      "#9 transferring context: 335B 0.0s done\n",
      "#9 DONE 0.0s\n",
      "\n",
      "#10 [app-product 3/4] COPY . .\n",
      "#10 DONE 0.0s\n",
      "\n",
      "#11 [app-account 3/4] COPY . .\n",
      "#11 DONE 0.0s\n",
      "\n",
      "#12 [app-product 4/4] RUN go mod tidy\n",
      "#12 0.419 go: downloading github.com/muazhari/autocode-go v0.0.0-20240803054100-bb6787c47dd1\n",
      "#12 0.419 go: downloading github.com/gorilla/mux v1.8.1\n",
      "#12 0.419 go: downloading github.com/stretchr/testify v1.9.0\n",
      "#12 2.091 go: downloading github.com/valyala/fasthttp v1.55.0\n",
      "#12 2.091 go: downloading github.com/google/uuid v1.6.0\n",
      "#12 2.091 go: downloading github.com/muazhari/gomacro-custom v0.0.0-20240731093833-a6136ef7aaa6\n",
      "#12 2.736 go: downloading gopkg.in/yaml.v3 v3.0.1\n",
      "#12 2.736 go: downloading github.com/pmezard/go-difflib v1.0.0\n",
      "#12 2.736 go: downloading github.com/davecgh/go-spew v1.1.1\n",
      "#12 4.611 go: downloading github.com/andybalholm/brotli v1.1.0\n",
      "#12 4.611 go: downloading github.com/klauspost/compress v1.17.9\n",
      "#12 4.611 go: downloading github.com/valyala/bytebufferpool v1.0.0\n",
      "#12 ...\n",
      "\n",
      "#13 [app-account 4/4] RUN go mod tidy\n",
      "#13 0.415 go: downloading github.com/stretchr/testify v1.9.0\n",
      "#13 0.415 go: downloading github.com/muazhari/autocode-go v0.0.0-20240803054100-bb6787c47dd1\n",
      "#13 0.415 go: downloading github.com/gorilla/mux v1.8.1\n",
      "#13 2.094 go: downloading github.com/valyala/fasthttp v1.55.0\n",
      "#13 2.094 go: downloading github.com/muazhari/gomacro-custom v0.0.0-20240731093833-a6136ef7aaa6\n",
      "#13 2.094 go: downloading github.com/google/uuid v1.6.0\n",
      "#13 2.891 go: downloading gopkg.in/yaml.v3 v3.0.1\n",
      "#13 2.891 go: downloading github.com/pmezard/go-difflib v1.0.0\n",
      "#13 2.891 go: downloading github.com/davecgh/go-spew v1.1.1\n",
      "#13 5.682 go: downloading github.com/klauspost/compress v1.17.9\n",
      "#13 5.682 go: downloading github.com/andybalholm/brotli v1.1.0\n",
      "#13 5.682 go: downloading github.com/valyala/bytebufferpool v1.0.0\n",
      "#13 17.88 go: downloading github.com/peterh/liner v1.2.2\n",
      "#13 17.88 go: downloading golang.org/x/tools v0.14.0\n",
      "#13 17.89 go: downloading github.com/mattn/go-runewidth v0.0.15\n",
      "#13 17.90 go: downloading github.com/rivo/uniseg v0.2.0\n",
      "#13 17.90 go: downloading golang.org/x/sys v0.21.0\n",
      "#13 ...\n",
      "\n",
      "#12 [app-product 4/4] RUN go mod tidy\n",
      "#12 24.16 go: downloading github.com/peterh/liner v1.2.2\n",
      "#12 24.16 go: downloading golang.org/x/tools v0.14.0\n",
      "#12 24.16 go: downloading github.com/mattn/go-runewidth v0.0.15\n",
      "#12 24.17 go: downloading github.com/rivo/uniseg v0.2.0\n",
      "#12 24.17 go: downloading golang.org/x/sys v0.21.0\n",
      "#12 39.77 go: downloading golang.org/x/mod v0.13.0\n",
      "#12 ...\n",
      "\n",
      "#13 [app-account 4/4] RUN go mod tidy\n",
      "#13 42.44 go: downloading golang.org/x/mod v0.13.0\n"
     ]
    },
    {
     "ename": "KeyboardInterrupt",
     "evalue": "",
     "output_type": "error",
     "traceback": [
      "\u001B[0;31m---------------------------------------------------------------------------\u001B[0m",
      "\u001B[0;31mKeyboardInterrupt\u001B[0m                         Traceback (most recent call last)",
      "File \u001B[0;32m~/miniconda3/lib/python3.11/subprocess.py:1264\u001B[0m, in \u001B[0;36mPopen.wait\u001B[0;34m(self, timeout)\u001B[0m\n\u001B[1;32m   1263\u001B[0m \u001B[38;5;28;01mtry\u001B[39;00m:\n\u001B[0;32m-> 1264\u001B[0m     \u001B[38;5;28;01mreturn\u001B[39;00m \u001B[38;5;28;43mself\u001B[39;49m\u001B[38;5;241;43m.\u001B[39;49m\u001B[43m_wait\u001B[49m\u001B[43m(\u001B[49m\u001B[43mtimeout\u001B[49m\u001B[38;5;241;43m=\u001B[39;49m\u001B[43mtimeout\u001B[49m\u001B[43m)\u001B[49m\n\u001B[1;32m   1265\u001B[0m \u001B[38;5;28;01mexcept\u001B[39;00m \u001B[38;5;167;01mKeyboardInterrupt\u001B[39;00m:\n\u001B[1;32m   1266\u001B[0m     \u001B[38;5;66;03m# https://bugs.python.org/issue25942\u001B[39;00m\n\u001B[1;32m   1267\u001B[0m     \u001B[38;5;66;03m# The first keyboard interrupt waits briefly for the child to\u001B[39;00m\n\u001B[1;32m   1268\u001B[0m     \u001B[38;5;66;03m# exit under the common assumption that it also received the ^C\u001B[39;00m\n\u001B[1;32m   1269\u001B[0m     \u001B[38;5;66;03m# generated SIGINT and will exit rapidly.\u001B[39;00m\n",
      "File \u001B[0;32m~/miniconda3/lib/python3.11/subprocess.py:2046\u001B[0m, in \u001B[0;36mPopen._wait\u001B[0;34m(self, timeout)\u001B[0m\n\u001B[1;32m   2045\u001B[0m     \u001B[38;5;28;01mbreak\u001B[39;00m  \u001B[38;5;66;03m# Another thread waited.\u001B[39;00m\n\u001B[0;32m-> 2046\u001B[0m (pid, sts) \u001B[38;5;241m=\u001B[39m \u001B[38;5;28;43mself\u001B[39;49m\u001B[38;5;241;43m.\u001B[39;49m\u001B[43m_try_wait\u001B[49m\u001B[43m(\u001B[49m\u001B[38;5;241;43m0\u001B[39;49m\u001B[43m)\u001B[49m\n\u001B[1;32m   2047\u001B[0m \u001B[38;5;66;03m# Check the pid and loop as waitpid has been known to\u001B[39;00m\n\u001B[1;32m   2048\u001B[0m \u001B[38;5;66;03m# return 0 even without WNOHANG in odd situations.\u001B[39;00m\n\u001B[1;32m   2049\u001B[0m \u001B[38;5;66;03m# http://bugs.python.org/issue14396.\u001B[39;00m\n",
      "File \u001B[0;32m~/miniconda3/lib/python3.11/subprocess.py:2004\u001B[0m, in \u001B[0;36mPopen._try_wait\u001B[0;34m(self, wait_flags)\u001B[0m\n\u001B[1;32m   2003\u001B[0m \u001B[38;5;28;01mtry\u001B[39;00m:\n\u001B[0;32m-> 2004\u001B[0m     (pid, sts) \u001B[38;5;241m=\u001B[39m \u001B[43mos\u001B[49m\u001B[38;5;241;43m.\u001B[39;49m\u001B[43mwaitpid\u001B[49m\u001B[43m(\u001B[49m\u001B[38;5;28;43mself\u001B[39;49m\u001B[38;5;241;43m.\u001B[39;49m\u001B[43mpid\u001B[49m\u001B[43m,\u001B[49m\u001B[43m \u001B[49m\u001B[43mwait_flags\u001B[49m\u001B[43m)\u001B[49m\n\u001B[1;32m   2005\u001B[0m \u001B[38;5;28;01mexcept\u001B[39;00m \u001B[38;5;167;01mChildProcessError\u001B[39;00m:\n\u001B[1;32m   2006\u001B[0m     \u001B[38;5;66;03m# This happens if SIGCLD is set to be ignored or waiting\u001B[39;00m\n\u001B[1;32m   2007\u001B[0m     \u001B[38;5;66;03m# for child processes has otherwise been disabled for our\u001B[39;00m\n\u001B[1;32m   2008\u001B[0m     \u001B[38;5;66;03m# process.  This child is dead, we can't get the status.\u001B[39;00m\n",
      "\u001B[0;31mKeyboardInterrupt\u001B[0m: ",
      "\nDuring handling of the above exception, another exception occurred:\n",
      "\u001B[0;31mKeyboardInterrupt\u001B[0m                         Traceback (most recent call last)",
      "Cell \u001B[0;32mIn[3], line 4\u001B[0m\n\u001B[1;32m      1\u001B[0m \u001B[38;5;28;01mimport\u001B[39;00m \u001B[38;5;21;01mos\u001B[39;00m\n\u001B[1;32m      3\u001B[0m \u001B[38;5;28;01mfor\u001B[39;00m docker_client \u001B[38;5;129;01min\u001B[39;00m docker_clients:\n\u001B[0;32m----> 4\u001B[0m     \u001B[43mdocker_client\u001B[49m\u001B[38;5;241;43m.\u001B[39;49m\u001B[43mcompose\u001B[49m\u001B[38;5;241;43m.\u001B[39;49m\u001B[43mup\u001B[49m\u001B[43m(\u001B[49m\n\u001B[1;32m      5\u001B[0m \u001B[43m        \u001B[49m\u001B[43mdetach\u001B[49m\u001B[38;5;241;43m=\u001B[39;49m\u001B[38;5;28;43;01mTrue\u001B[39;49;00m\u001B[43m,\u001B[49m\n\u001B[1;32m      6\u001B[0m \u001B[43m        \u001B[49m\u001B[43mbuild\u001B[49m\u001B[38;5;241;43m=\u001B[39;49m\u001B[38;5;28;43;01mTrue\u001B[39;49;00m\u001B[43m,\u001B[49m\n\u001B[1;32m      7\u001B[0m \u001B[43m    \u001B[49m\u001B[43m)\u001B[49m\n",
      "File \u001B[0;32m~/miniconda3/lib/python3.11/site-packages/python_on_whales/components/compose/cli_wrapper.py:1046\u001B[0m, in \u001B[0;36mComposeCLI.up\u001B[0;34m(self, services, build, detach, abort_on_container_exit, scales, attach_dependencies, force_recreate, recreate, no_build, remove_orphans, renew_anon_volumes, color, log_prefix, start, quiet, wait, no_attach_services, pull, stream_logs, wait_timeout)\u001B[0m\n\u001B[1;32m   1043\u001B[0m     \u001B[38;5;28;01mreturn\u001B[39;00m stream_stdout_and_stderr(full_cmd)\n\u001B[1;32m   1044\u001B[0m \u001B[38;5;28;01melse\u001B[39;00m:\n\u001B[1;32m   1045\u001B[0m     \u001B[38;5;66;03m# important information is written to both stdout AND stderr.\u001B[39;00m\n\u001B[0;32m-> 1046\u001B[0m     \u001B[43mrun\u001B[49m\u001B[43m(\u001B[49m\u001B[43mfull_cmd\u001B[49m\u001B[43m,\u001B[49m\u001B[43m \u001B[49m\u001B[43mcapture_stdout\u001B[49m\u001B[38;5;241;43m=\u001B[39;49m\u001B[43mquiet\u001B[49m\u001B[43m,\u001B[49m\u001B[43m \u001B[49m\u001B[43mcapture_stderr\u001B[49m\u001B[38;5;241;43m=\u001B[39;49m\u001B[43mquiet\u001B[49m\u001B[43m)\u001B[49m\n",
      "File \u001B[0;32m~/miniconda3/lib/python3.11/site-packages/python_on_whales/utils.py:167\u001B[0m, in \u001B[0;36mrun\u001B[0;34m(args, capture_stdout, capture_stderr, input, return_stderr, env, tty, pass_fds)\u001B[0m\n\u001B[1;32m    165\u001B[0m     \u001B[38;5;28mprint\u001B[39m(\u001B[38;5;124mf\u001B[39m\u001B[38;5;124m\"\u001B[39m\u001B[38;5;124mEnv: \u001B[39m\u001B[38;5;132;01m{\u001B[39;00msubprocess_env\u001B[38;5;132;01m}\u001B[39;00m\u001B[38;5;124m\"\u001B[39m)\n\u001B[1;32m    166\u001B[0m     \u001B[38;5;28mprint\u001B[39m(\u001B[38;5;124m\"\u001B[39m\u001B[38;5;124m------------------------------\u001B[39m\u001B[38;5;124m\"\u001B[39m)\n\u001B[0;32m--> 167\u001B[0m completed_process \u001B[38;5;241m=\u001B[39m \u001B[43msubprocess\u001B[49m\u001B[38;5;241;43m.\u001B[39;49m\u001B[43mrun\u001B[49m\u001B[43m(\u001B[49m\n\u001B[1;32m    168\u001B[0m \u001B[43m    \u001B[49m\u001B[43margs\u001B[49m\u001B[43m,\u001B[49m\n\u001B[1;32m    169\u001B[0m \u001B[43m    \u001B[49m\u001B[38;5;28;43minput\u001B[39;49m\u001B[38;5;241;43m=\u001B[39;49m\u001B[38;5;28;43minput\u001B[39;49m\u001B[43m,\u001B[49m\n\u001B[1;32m    170\u001B[0m \u001B[43m    \u001B[49m\u001B[43mstdout\u001B[49m\u001B[38;5;241;43m=\u001B[39;49m\u001B[43mstdout_dest\u001B[49m\u001B[43m,\u001B[49m\n\u001B[1;32m    171\u001B[0m \u001B[43m    \u001B[49m\u001B[43mstderr\u001B[49m\u001B[38;5;241;43m=\u001B[39;49m\u001B[43mstderr_dest\u001B[49m\u001B[43m,\u001B[49m\n\u001B[1;32m    172\u001B[0m \u001B[43m    \u001B[49m\u001B[43menv\u001B[49m\u001B[38;5;241;43m=\u001B[39;49m\u001B[43msubprocess_env\u001B[49m\u001B[43m,\u001B[49m\n\u001B[1;32m    173\u001B[0m \u001B[43m    \u001B[49m\u001B[43mpass_fds\u001B[49m\u001B[38;5;241;43m=\u001B[39;49m\u001B[43mpass_fds\u001B[49m\u001B[43m,\u001B[49m\n\u001B[1;32m    174\u001B[0m \u001B[43m\u001B[49m\u001B[43m)\u001B[49m\n\u001B[1;32m    176\u001B[0m \u001B[38;5;28;01mif\u001B[39;00m completed_process\u001B[38;5;241m.\u001B[39mreturncode \u001B[38;5;241m!=\u001B[39m \u001B[38;5;241m0\u001B[39m:\n\u001B[1;32m    177\u001B[0m     \u001B[38;5;28;01mif\u001B[39;00m completed_process\u001B[38;5;241m.\u001B[39mstderr \u001B[38;5;129;01mis\u001B[39;00m \u001B[38;5;129;01mnot\u001B[39;00m \u001B[38;5;28;01mNone\u001B[39;00m:\n",
      "File \u001B[0;32m~/miniconda3/lib/python3.11/subprocess.py:550\u001B[0m, in \u001B[0;36mrun\u001B[0;34m(input, capture_output, timeout, check, *popenargs, **kwargs)\u001B[0m\n\u001B[1;32m    548\u001B[0m \u001B[38;5;28;01mwith\u001B[39;00m Popen(\u001B[38;5;241m*\u001B[39mpopenargs, \u001B[38;5;241m*\u001B[39m\u001B[38;5;241m*\u001B[39mkwargs) \u001B[38;5;28;01mas\u001B[39;00m process:\n\u001B[1;32m    549\u001B[0m     \u001B[38;5;28;01mtry\u001B[39;00m:\n\u001B[0;32m--> 550\u001B[0m         stdout, stderr \u001B[38;5;241m=\u001B[39m \u001B[43mprocess\u001B[49m\u001B[38;5;241;43m.\u001B[39;49m\u001B[43mcommunicate\u001B[49m\u001B[43m(\u001B[49m\u001B[38;5;28;43minput\u001B[39;49m\u001B[43m,\u001B[49m\u001B[43m \u001B[49m\u001B[43mtimeout\u001B[49m\u001B[38;5;241;43m=\u001B[39;49m\u001B[43mtimeout\u001B[49m\u001B[43m)\u001B[49m\n\u001B[1;32m    551\u001B[0m     \u001B[38;5;28;01mexcept\u001B[39;00m TimeoutExpired \u001B[38;5;28;01mas\u001B[39;00m exc:\n\u001B[1;32m    552\u001B[0m         process\u001B[38;5;241m.\u001B[39mkill()\n",
      "File \u001B[0;32m~/miniconda3/lib/python3.11/subprocess.py:1201\u001B[0m, in \u001B[0;36mPopen.communicate\u001B[0;34m(self, input, timeout)\u001B[0m\n\u001B[1;32m   1199\u001B[0m         stderr \u001B[38;5;241m=\u001B[39m \u001B[38;5;28mself\u001B[39m\u001B[38;5;241m.\u001B[39mstderr\u001B[38;5;241m.\u001B[39mread()\n\u001B[1;32m   1200\u001B[0m         \u001B[38;5;28mself\u001B[39m\u001B[38;5;241m.\u001B[39mstderr\u001B[38;5;241m.\u001B[39mclose()\n\u001B[0;32m-> 1201\u001B[0m     \u001B[38;5;28;43mself\u001B[39;49m\u001B[38;5;241;43m.\u001B[39;49m\u001B[43mwait\u001B[49m\u001B[43m(\u001B[49m\u001B[43m)\u001B[49m\n\u001B[1;32m   1202\u001B[0m \u001B[38;5;28;01melse\u001B[39;00m:\n\u001B[1;32m   1203\u001B[0m     \u001B[38;5;28;01mif\u001B[39;00m timeout \u001B[38;5;129;01mis\u001B[39;00m \u001B[38;5;129;01mnot\u001B[39;00m \u001B[38;5;28;01mNone\u001B[39;00m:\n",
      "File \u001B[0;32m~/miniconda3/lib/python3.11/subprocess.py:1277\u001B[0m, in \u001B[0;36mPopen.wait\u001B[0;34m(self, timeout)\u001B[0m\n\u001B[1;32m   1275\u001B[0m \u001B[38;5;28mself\u001B[39m\u001B[38;5;241m.\u001B[39m_sigint_wait_secs \u001B[38;5;241m=\u001B[39m \u001B[38;5;241m0\u001B[39m  \u001B[38;5;66;03m# nothing else should wait.\u001B[39;00m\n\u001B[1;32m   1276\u001B[0m \u001B[38;5;28;01mtry\u001B[39;00m:\n\u001B[0;32m-> 1277\u001B[0m     \u001B[38;5;28;43mself\u001B[39;49m\u001B[38;5;241;43m.\u001B[39;49m\u001B[43m_wait\u001B[49m\u001B[43m(\u001B[49m\u001B[43mtimeout\u001B[49m\u001B[38;5;241;43m=\u001B[39;49m\u001B[43msigint_timeout\u001B[49m\u001B[43m)\u001B[49m\n\u001B[1;32m   1278\u001B[0m \u001B[38;5;28;01mexcept\u001B[39;00m TimeoutExpired:\n\u001B[1;32m   1279\u001B[0m     \u001B[38;5;28;01mpass\u001B[39;00m\n",
      "File \u001B[0;32m~/miniconda3/lib/python3.11/subprocess.py:2040\u001B[0m, in \u001B[0;36mPopen._wait\u001B[0;34m(self, timeout)\u001B[0m\n\u001B[1;32m   2038\u001B[0m             \u001B[38;5;28;01mraise\u001B[39;00m TimeoutExpired(\u001B[38;5;28mself\u001B[39m\u001B[38;5;241m.\u001B[39margs, timeout)\n\u001B[1;32m   2039\u001B[0m         delay \u001B[38;5;241m=\u001B[39m \u001B[38;5;28mmin\u001B[39m(delay \u001B[38;5;241m*\u001B[39m \u001B[38;5;241m2\u001B[39m, remaining, \u001B[38;5;241m.05\u001B[39m)\n\u001B[0;32m-> 2040\u001B[0m         time\u001B[38;5;241m.\u001B[39msleep(delay)\n\u001B[1;32m   2041\u001B[0m \u001B[38;5;28;01melse\u001B[39;00m:\n\u001B[1;32m   2042\u001B[0m     \u001B[38;5;28;01mwhile\u001B[39;00m \u001B[38;5;28mself\u001B[39m\u001B[38;5;241m.\u001B[39mreturncode \u001B[38;5;129;01mis\u001B[39;00m \u001B[38;5;28;01mNone\u001B[39;00m:\n",
      "\u001B[0;31mKeyboardInterrupt\u001B[0m: "
     ]
    }
   ],
   "execution_count": 3
  },
  {
   "metadata": {
    "ExecuteTime": {
     "end_time": "2024-08-03T05:16:42.724017Z",
     "start_time": "2024-08-03T05:16:41.950863Z"
    }
   },
   "cell_type": "code",
   "source": "docker.image.list()",
   "id": "f01d9c45d2aba040",
   "outputs": [
    {
     "data": {
      "text/plain": [
       "[python_on_whales.Image(id='sha256:b4201f2066453', tags=['tiangolo/uvicorn-gunicorn-fastapi:latest']),\n",
       " python_on_whales.Image(id='sha256:0db8fd8d8896a', tags=[]),\n",
       " python_on_whales.Image(id='sha256:5f6fa28313b81', tags=[]),\n",
       " python_on_whales.Image(id='sha256:43283e931cec8', tags=[]),\n",
       " python_on_whales.Image(id='sha256:a61b645b609b7', tags=['golang:latest']),\n",
       " python_on_whales.Image(id='sha256:cf8d6ecc3574a', tags=['muazhari/autocode-example-app-account:latest']),\n",
       " python_on_whales.Image(id='sha256:1c0fd857deda9', tags=['muazhari/autocode-example-app-product:latest']),\n",
       " python_on_whales.Image(id='sha256:28e8ac7aafcf5', tags=[])]"
      ]
     },
     "execution_count": 3,
     "metadata": {},
     "output_type": "execute_result"
    }
   ],
   "execution_count": 3
  },
  {
   "metadata": {
    "ExecuteTime": {
     "end_time": "2024-08-02T17:52:23.299274Z",
     "start_time": "2024-08-02T17:52:20.690193Z"
    }
   },
   "cell_type": "code",
   "source": [
    "for docker_client in docker_clients:\n",
    "    docker_client.compose.down()"
   ],
   "id": "e1ce045645fccd25",
   "outputs": [
    {
     "name": "stderr",
     "output_type": "stream",
     "text": [
      " Container 577f83d86ebd46d59dcdd5c466efb96f-app-product-1  Stopping\n",
      " Container 577f83d86ebd46d59dcdd5c466efb96f-app-account-1  Stopping\n",
      " Container 577f83d86ebd46d59dcdd5c466efb96f-app-product-1  Stopped\n",
      " Container 577f83d86ebd46d59dcdd5c466efb96f-app-product-1  Removing\n",
      " Container 577f83d86ebd46d59dcdd5c466efb96f-app-account-1  Stopped\n",
      " Container 577f83d86ebd46d59dcdd5c466efb96f-app-account-1  Removing\n",
      " Container 577f83d86ebd46d59dcdd5c466efb96f-app-product-1  Removed\n",
      " Container 577f83d86ebd46d59dcdd5c466efb96f-app-account-1  Removed\n",
      " Network 577f83d86ebd46d59dcdd5c466efb96f_default  Removing\n",
      " Network 577f83d86ebd46d59dcdd5c466efb96f_default  Removed\n",
      " Container 9bae1087874f45d885f2d86ae6fe903f-app-product-1  Stopping\n",
      " Container 9bae1087874f45d885f2d86ae6fe903f-app-account-1  Stopping\n",
      " Container 9bae1087874f45d885f2d86ae6fe903f-app-product-1  Stopped\n",
      " Container 9bae1087874f45d885f2d86ae6fe903f-app-product-1  Removing\n",
      " Container 9bae1087874f45d885f2d86ae6fe903f-app-account-1  Stopped\n",
      " Container 9bae1087874f45d885f2d86ae6fe903f-app-account-1  Removing\n",
      " Container 9bae1087874f45d885f2d86ae6fe903f-app-product-1  Removed\n",
      " Container 9bae1087874f45d885f2d86ae6fe903f-app-account-1  Removed\n",
      " Network 9bae1087874f45d885f2d86ae6fe903f_default  Removing\n",
      " Network 9bae1087874f45d885f2d86ae6fe903f_default  Removed\n",
      " Container 6f3902f674c94783b793b6ca1ae280ec-app-account-1  Stopping\n",
      " Container 6f3902f674c94783b793b6ca1ae280ec-app-product-1  Stopping\n",
      " Container 6f3902f674c94783b793b6ca1ae280ec-app-account-1  Stopped\n",
      " Container 6f3902f674c94783b793b6ca1ae280ec-app-account-1  Removing\n",
      " Container 6f3902f674c94783b793b6ca1ae280ec-app-product-1  Stopped\n",
      " Container 6f3902f674c94783b793b6ca1ae280ec-app-product-1  Removing\n",
      " Container 6f3902f674c94783b793b6ca1ae280ec-app-product-1  Removed\n",
      " Container 6f3902f674c94783b793b6ca1ae280ec-app-account-1  Removed\n",
      " Network 6f3902f674c94783b793b6ca1ae280ec_default  Removing\n",
      " Network 6f3902f674c94783b793b6ca1ae280ec_default  Removed\n"
     ]
    }
   ],
   "execution_count": 5
  },
  {
   "metadata": {
    "ExecuteTime": {
     "end_time": "2024-08-03T05:18:22.900223Z",
     "start_time": "2024-08-03T05:18:22.251783Z"
    }
   },
   "cell_type": "code",
   "source": "list(docker_clients[0].compose.ps()[0].network_settings.networks.values())[0].ip_address",
   "id": "7de84698188aaeca",
   "outputs": [
    {
     "data": {
      "text/plain": [
       "[NetworkInspectResult(ipam_config=None, links=None, aliases=['f4425bc7e176405e89ca8af2954caa46-app-account-1', 'app-account'], network_id='00785bea842e5b3820f4f95902ec47281ceb44bba67df60dfdc6bdbfd20763b0', endpoint_id='', gateway='', ip_address='', ip_prefix_length=0, ipv6_gateway='', global_ipv6_address='', global_ipv6_prefix_length=0, mac_address='', driver_options=None)]"
      ]
     },
     "execution_count": 15,
     "metadata": {},
     "output_type": "execute_result"
    }
   ],
   "execution_count": 15
  },
  {
   "metadata": {
    "ExecuteTime": {
     "end_time": "2024-08-03T05:40:48.489945Z",
     "start_time": "2024-08-03T05:40:48.189167Z"
    }
   },
   "cell_type": "code",
   "source": [
    "for docker_client in docker_clients:\n",
    "    for container in docker_client.compose.ps():\n",
    "        A_WORKER_ID = docker_client.client_config.compose_project_name\n",
    "        B_WORKER_ID = [env for env in container.config.env if \"WORKER_ID\" in env][0].split(\"=\")[1]\n",
    "        print(A_WORKER_ID, B_WORKER_ID, A_WORKER_ID == B_WORKER_ID, container.name)"
   ],
   "id": "1fcd644a59b4caa8",
   "outputs": [
    {
     "name": "stdout",
     "output_type": "stream",
     "text": [
      "f4425bc7e176405e89ca8af2954caa46 f4425bc7e176405e89ca8af2954caa46 True f4425bc7e176405e89ca8af2954caa46-app-account-1\n",
      "f4425bc7e176405e89ca8af2954caa46 f4425bc7e176405e89ca8af2954caa46 True f4425bc7e176405e89ca8af2954caa46-app-product-1\n"
     ]
    }
   ],
   "execution_count": 17
  },
  {
   "metadata": {
    "ExecuteTime": {
     "end_time": "2024-08-03T06:16:56.990252Z",
     "start_time": "2024-08-03T06:16:56.912502Z"
    }
   },
   "cell_type": "code",
   "source": "container.name.removeprefix(\"f4425bc7e176405e89ca8af2954caa46-\")",
   "id": "53154861ee5c4004",
   "outputs": [
    {
     "data": {
      "text/plain": [
       "'app-product-1'"
      ]
     },
     "execution_count": 20,
     "metadata": {},
     "output_type": "execute_result"
    }
   ],
   "execution_count": 20
  },
  {
   "metadata": {
    "ExecuteTime": {
     "end_time": "2024-08-02T17:05:07.367086Z",
     "start_time": "2024-08-02T17:05:07.294545Z"
    }
   },
   "cell_type": "code",
   "source": [
    "from httpx import Client\n",
    "\n",
    "http_client = Client(\n",
    "    base_url=\"http://172.18.0.3:8000\",\n",
    ")\n",
    "http_client.get(\"/\").json()"
   ],
   "id": "1a7380e579ec5e38",
   "outputs": [
    {
     "data": {
      "text/plain": [
       "{'worker_id': 'd7d6146b1c2c4fb8ac4934277a567520', 'app_name': 'app-1'}"
      ]
     },
     "execution_count": 5,
     "metadata": {},
     "output_type": "execute_result"
    }
   ],
   "execution_count": 5
  },
  {
   "metadata": {
    "ExecuteTime": {
     "end_time": "2024-08-03T17:37:29.246913Z",
     "start_time": "2024-08-03T17:37:21.265597Z"
    }
   },
   "cell_type": "code",
   "source": [
    "import autocode\n",
    "\n",
    "optimization = autocode.Optimization(\n",
    "    num_cpus=2,\n",
    "    server_host=\"0.0.0.0\",\n",
    "    server_port=10000,\n",
    "    dashboard_port=10001,\n",
    ")"
   ],
   "id": "fe6274905d54ad44",
   "outputs": [
    {
     "name": "stderr",
     "output_type": "stream",
     "text": [
      "2024-08-04 00:37:26,361\tINFO worker.py:1743 -- Started a local Ray instance. View the dashboard at \u001B[1m\u001B[32mhttp://172.25.4.192:8265 \u001B[39m\u001B[22m\n"
     ]
    },
    {
     "name": "stdout",
     "output_type": "stream",
     "text": [
      "Available resources:  {'accelerator_type:G': 1.0, 'node:__internal_head__': 1.0, 'node:172.25.4.192': 1.0, 'CPU': 2.0, 'memory': 9101891175.0, 'object_store_memory': 4550945587.0, 'GPU': 1.0}\n"
     ]
    },
    {
     "name": "stderr",
     "output_type": "stream",
     "text": [
      " Container 939c8e5e58d64ea7a9bc86fbb7cbacaf-app-account-1  Stopping\n",
      " Container 939c8e5e58d64ea7a9bc86fbb7cbacaf-app-product-1  Stopping\n",
      " Container 939c8e5e58d64ea7a9bc86fbb7cbacaf-app-account-1  Stopped\n",
      " Container 939c8e5e58d64ea7a9bc86fbb7cbacaf-app-account-1  Removing\n",
      " Container 939c8e5e58d64ea7a9bc86fbb7cbacaf-app-product-1  Stopped\n",
      " Container 939c8e5e58d64ea7a9bc86fbb7cbacaf-app-product-1  Removing\n",
      " Container 939c8e5e58d64ea7a9bc86fbb7cbacaf-app-product-1  Removed\n",
      " Container 939c8e5e58d64ea7a9bc86fbb7cbacaf-app-account-1  Removed\n",
      " Network 939c8e5e58d64ea7a9bc86fbb7cbacaf_default  Removing\n",
      " Network 939c8e5e58d64ea7a9bc86fbb7cbacaf_default  Removed\n",
      " Container 906c929a33e64aa7af012952a8b4ca5e-app-product-1  Stopping\n",
      " Container 906c929a33e64aa7af012952a8b4ca5e-app-account-1  Stopping\n",
      " Container 906c929a33e64aa7af012952a8b4ca5e-app-product-1  Stopped\n",
      " Container 906c929a33e64aa7af012952a8b4ca5e-app-product-1  Removing\n",
      " Container 906c929a33e64aa7af012952a8b4ca5e-app-account-1  Stopped\n",
      " Container 906c929a33e64aa7af012952a8b4ca5e-app-account-1  Removing\n",
      " Container 906c929a33e64aa7af012952a8b4ca5e-app-account-1  Removed\n",
      " Container 906c929a33e64aa7af012952a8b4ca5e-app-product-1  Removed\n",
      " Network 906c929a33e64aa7af012952a8b4ca5e_default  Removing\n",
      " Network 906c929a33e64aa7af012952a8b4ca5e_default  Removed\n"
     ]
    },
    {
     "name": "stdout",
     "output_type": "stream",
     "text": [
      "Server is healthy.\n"
     ]
    }
   ],
   "execution_count": 1
  },
  {
   "metadata": {
    "ExecuteTime": {
     "end_time": "2024-08-03T17:37:32.722316Z",
     "start_time": "2024-08-03T17:37:29.250645Z"
    }
   },
   "cell_type": "code",
   "source": [
    "docker_clients = optimization.deploy(\n",
    "    compose_files=[\"./client-compose.yml\"],\n",
    ")"
   ],
   "id": "303433e5ea06bdd4",
   "outputs": [
    {
     "name": "stdout",
     "output_type": "stream",
     "text": [
      "#0 building with \"default\" instance using docker driver\n",
      "\n",
      "#1 [app-product internal] load build definition from .Dockerfile\n",
      "#1 transferring dockerfile: 101B 0.0s done\n",
      "#1 DONE 0.0s\n",
      "\n",
      "#2 [app-account internal] load build definition from .Dockerfile\n",
      "#2 transferring dockerfile: 101B 0.0s done\n",
      "#2 DONE 0.0s\n",
      "\n",
      "#3 [app-account internal] load metadata for docker.io/library/golang:latest\n",
      "#3 DONE 0.0s\n",
      "\n",
      "#4 [app-account internal] load .dockerignore\n",
      "#4 transferring context: 2B 0.0s done\n",
      "#4 DONE 0.0s\n",
      "\n",
      "#5 [app-product internal] load .dockerignore\n",
      "#5 transferring context: 2B 0.0s done\n",
      "#5 DONE 0.0s\n",
      "\n",
      "#6 [app-account 1/4] FROM docker.io/library/golang:latest\n",
      "#6 DONE 0.0s\n",
      "\n",
      "#7 [app-product internal] load build context\n",
      "#7 transferring context: 335B 0.0s done\n",
      "#7 DONE 0.0s\n",
      "\n",
      "#8 [app-account internal] load build context\n",
      "#8 transferring context: 335B 0.0s done\n",
      "#8 DONE 0.0s\n",
      "\n",
      "#9 [app-product 3/4] COPY . .\n",
      "#9 CACHED\n",
      "\n",
      "#10 [app-product 4/4] RUN go mod tidy\n",
      "#10 CACHED\n",
      "\n",
      "#11 [app-account 2/4] WORKDIR /workdir\n",
      "#11 CACHED\n",
      "\n",
      "#12 [app-account 3/4] COPY . .\n",
      "#12 CACHED\n",
      "\n",
      "#13 [app-account 4/4] RUN go mod tidy\n",
      "#13 CACHED\n",
      "\n",
      "#14 [app-account] exporting to image\n",
      "#14 exporting layers done\n",
      "#14 writing image sha256:d9ddd1a2ca90ca3d4c891f1a6189436b42b944bcd90ee517b3cc872e22ddd1ce done\n",
      "#14 naming to docker.io/muazhari/autocode-example-app-account:latest\n",
      "#14 naming to docker.io/muazhari/autocode-example-app-account:latest done\n",
      "#14 DONE 0.0s\n",
      "\n",
      "#15 [app-product] exporting to image\n",
      "#15 exporting layers done\n",
      "#15 writing image sha256:2027a0960eb2fdafd5d8f48b5a8063dbf58a2e416be21ceb3bf1c62c89663b59 done\n",
      "#15 naming to docker.io/muazhari/autocode-example-app-product:latest done\n",
      "#15 DONE 0.0s\n",
      "\n",
      "#16 [app-product] resolving provenance for metadata file\n",
      "#16 DONE 0.0s\n",
      "\n",
      "#17 [app-account] resolving provenance for metadata file\n",
      "#17 DONE 0.0s\n"
     ]
    },
    {
     "name": "stderr",
     "output_type": "stream",
     "text": [
      " Network beefe62c70404696b98cb0ff23f33af1_default  Creating\n",
      " Network beefe62c70404696b98cb0ff23f33af1_default  Created\n",
      " Container beefe62c70404696b98cb0ff23f33af1-app-account-1  Creating\n",
      " Container beefe62c70404696b98cb0ff23f33af1-app-product-1  Creating\n",
      " Container beefe62c70404696b98cb0ff23f33af1-app-account-1  Created\n",
      " Container beefe62c70404696b98cb0ff23f33af1-app-product-1  Created\n",
      " Container beefe62c70404696b98cb0ff23f33af1-app-account-1  Starting\n",
      " Container beefe62c70404696b98cb0ff23f33af1-app-product-1  Starting\n",
      " Container beefe62c70404696b98cb0ff23f33af1-app-account-1  Started\n",
      " Container beefe62c70404696b98cb0ff23f33af1-app-product-1  Started\n",
      "gio: http://localhost:10001: Operation not supported\n"
     ]
    },
    {
     "name": "stdout",
     "output_type": "stream",
     "text": [
      "#0 building with \"default\" instance using docker driver\n",
      "\n",
      "#1 [app-product internal] load build definition from .Dockerfile\n",
      "#1 transferring dockerfile: 101B 0.0s done\n",
      "#1 DONE 0.0s\n",
      "\n",
      "#2 [app-account internal] load build definition from .Dockerfile\n",
      "#2 transferring dockerfile: 101B 0.0s done\n",
      "#2 DONE 0.0s\n",
      "\n",
      "#3 [app-account internal] load metadata for docker.io/library/golang:latest\n",
      "#3 DONE 0.0s\n",
      "\n",
      "#4 [app-product internal] load .dockerignore\n",
      "#4 transferring context: 2B 0.0s done\n",
      "#4 DONE 0.0s\n",
      "\n",
      "#5 [app-account internal] load .dockerignore\n",
      "#5 transferring context: 2B 0.0s done\n",
      "#5 DONE 0.0s\n",
      "\n",
      "#6 [app-account 1/4] FROM docker.io/library/golang:latest\n",
      "#6 DONE 0.0s\n",
      "\n",
      "#7 [app-account internal] load build context\n",
      "#7 transferring context: 335B 0.0s done\n",
      "#7 DONE 0.0s\n",
      "\n",
      "#8 [app-product internal] load build context\n",
      "#8 transferring context: 335B 0.0s done\n",
      "#8 DONE 0.0s\n",
      "\n",
      "#9 [app-product 3/4] COPY . .\n",
      "#9 CACHED\n",
      "\n",
      "#10 [app-product 4/4] RUN go mod tidy\n",
      "#10 CACHED\n",
      "\n",
      "#11 [app-product 2/4] WORKDIR /workdir\n",
      "#11 CACHED\n",
      "\n",
      "#12 [app-account 3/4] COPY . .\n",
      "#12 CACHED\n",
      "\n",
      "#13 [app-account 4/4] RUN go mod tidy\n",
      "#13 CACHED\n",
      "\n",
      "#14 [app-account] exporting to image\n",
      "#14 exporting layers done\n",
      "#14 writing image sha256:ff21006d756125f88219153010a5e51855947c6060e85f0c376804e0d3454391 done\n",
      "#14 naming to docker.io/muazhari/autocode-example-app-account:latest done\n",
      "#14 DONE 0.0s\n",
      "\n",
      "#15 [app-product] exporting to image\n",
      "#15 exporting layers done\n",
      "#15 writing image sha256:534167f570a9c007afcb9fcd510bbb08ce29306106b1e007690f2f4e1966a04e done\n",
      "#15 naming to docker.io/muazhari/autocode-example-app-product:latest done\n",
      "#15 DONE 0.0s\n",
      "\n",
      "#16 [app-account] resolving provenance for metadata file\n",
      "#16 DONE 0.0s\n",
      "\n",
      "#17 [app-product] resolving provenance for metadata file\n",
      "#17 DONE 0.0s\n"
     ]
    },
    {
     "name": "stderr",
     "output_type": "stream",
     "text": [
      " Network 9177604a897b46c8bb17a3f6462b7980_default  Creating\n",
      " Network 9177604a897b46c8bb17a3f6462b7980_default  Created\n",
      " Container 9177604a897b46c8bb17a3f6462b7980-app-account-1  Creating\n",
      " Container 9177604a897b46c8bb17a3f6462b7980-app-product-1  Creating\n",
      " Container 9177604a897b46c8bb17a3f6462b7980-app-account-1  Created\n",
      " Container 9177604a897b46c8bb17a3f6462b7980-app-product-1  Created\n",
      " Container 9177604a897b46c8bb17a3f6462b7980-app-account-1  Starting\n",
      " Container 9177604a897b46c8bb17a3f6462b7980-app-product-1  Starting\n",
      " Container 9177604a897b46c8bb17a3f6462b7980-app-account-1  Started\n",
      " Container 9177604a897b46c8bb17a3f6462b7980-app-product-1  Started\n"
     ]
    }
   ],
   "execution_count": 2
  },
  {
   "metadata": {
    "ExecuteTime": {
     "end_time": "2024-08-03T17:37:32.875673Z",
     "start_time": "2024-08-03T17:37:32.723626Z"
    }
   },
   "cell_type": "code",
   "source": "docker_clients[0].container.list()[0].network_settings.networks",
   "id": "243ab73b86ce4af",
   "outputs": [
    {
     "data": {
      "text/plain": [
       "{'9177604a897b46c8bb17a3f6462b7980_default': NetworkInspectResult(ipam_config=None, links=None, aliases=['9177604a897b46c8bb17a3f6462b7980-app-product-1', 'app-product'], network_id='5711b357babdc25aaf14a60a997f54a8243c697cd3832890bfcf32b082f1f5c7', endpoint_id='ea6a2d4c25bbb8f681dc9a1ad2678ece740e48e3e925f9055d222923055b7515', gateway='192.168.160.1', ip_address='192.168.160.2', ip_prefix_length=20, ipv6_gateway='', global_ipv6_address='', global_ipv6_prefix_length=0, mac_address='02:42:c0:a8:a0:02', driver_options=None)}"
      ]
     },
     "execution_count": 3,
     "metadata": {},
     "output_type": "execute_result"
    }
   ],
   "execution_count": 3
  },
  {
   "metadata": {
    "ExecuteTime": {
     "end_time": "2024-08-03T17:37:32.880414Z",
     "start_time": "2024-08-03T17:37:32.876547Z"
    }
   },
   "cell_type": "code",
   "source": [
    "from autocode import OptimizationObjective\n",
    "from typing import Dict, Any, List\n",
    "from autocode import OptimizationEvaluateRunResponse\n",
    "\n",
    "objectives: List[OptimizationObjective] = [\n",
    "    OptimizationObjective(\n",
    "        type=\"minimize\",\n",
    "    ),\n",
    "    OptimizationObjective(\n",
    "        type=\"maximize\",\n",
    "    ),\n",
    "    OptimizationObjective(\n",
    "        type=\"maximize\",\n",
    "    ),\n",
    "    OptimizationObjective(\n",
    "        type=\"minimize\",\n",
    "    ),\n",
    "    OptimizationObjective(\n",
    "        type=\"maximize\",\n",
    "    ),\n",
    "    OptimizationObjective(\n",
    "        type=\"minimize\",\n",
    "    ),\n",
    "    OptimizationObjective(\n",
    "        type=\"maximize\",\n",
    "    ),\n",
    "\n",
    "    OptimizationObjective(\n",
    "        type=\"minimize\",\n",
    "    ),\n",
    "    OptimizationObjective(\n",
    "        type=\"maximize\",\n",
    "    ),\n",
    "    OptimizationObjective(\n",
    "        type=\"maximize\",\n",
    "    ),\n",
    "    OptimizationObjective(\n",
    "        type=\"minimize\",\n",
    "    ),\n",
    "    OptimizationObjective(\n",
    "        type=\"maximize\",\n",
    "    ),\n",
    "    OptimizationObjective(\n",
    "        type=\"minimize\",\n",
    "    ),\n",
    "    OptimizationObjective(\n",
    "        type=\"maximize\",\n",
    "    ),\n",
    "]\n",
    "\n",
    "\n",
    "def evaluator(input: List[OptimizationEvaluateRunResponse]) -> Dict[str, Any]:\n",
    "    output: Dict[str, Any] = {\n",
    "        \"F\": input[0].objectives + input[1].objectives,\n",
    "    }\n",
    "\n",
    "    return output\n"
   ],
   "id": "5daf173cc5c82482",
   "outputs": [],
   "execution_count": 4
  },
  {
   "metadata": {
    "ExecuteTime": {
     "end_time": "2024-08-03T17:39:42.695673Z",
     "start_time": "2024-08-03T17:37:32.881532Z"
    }
   },
   "cell_type": "code",
   "source": [
    "result = optimization.run(\n",
    "    objectives=objectives,\n",
    "    num_inequality_constraints=0,\n",
    "    num_equality_constraints=0,\n",
    "    evaluator=evaluator\n",
    ")"
   ],
   "id": "38bf58746d0b5933",
   "outputs": [
    {
     "ename": "RayTaskError(RemoteProtocolError)",
     "evalue": "\u001B[36mray::__call__()\u001B[39m (pid=7908, ip=172.25.4.192)\n  File \"/home/muazhari/miniconda3/lib/python3.11/site-packages/httpx/_transports/default.py\", line 373, in handle_async_request\n    resp = await self._pool.handle_async_request(req)\n           ^^^^^^^^^^^^^^^^^^^^^^^^^^^^^^^^^^^^^^^^^^\n  File \"/home/muazhari/miniconda3/lib/python3.11/site-packages/httpcore/_async/connection_pool.py\", line 216, in handle_async_request\n    raise exc from None\n  File \"/home/muazhari/miniconda3/lib/python3.11/site-packages/httpcore/_async/connection_pool.py\", line 196, in handle_async_request\n    response = await connection.handle_async_request(\n               ^^^^^^^^^^^^^^^^^^^^^^^^^^^^^^^^^^^^^^\n  File \"/home/muazhari/miniconda3/lib/python3.11/site-packages/httpcore/_async/connection.py\", line 101, in handle_async_request\n    return await self._connection.handle_async_request(request)\n           ^^^^^^^^^^^^^^^^^^^^^^^^^^^^^^^^^^^^^^^^^^^^^^^^^^^^\n  File \"/home/muazhari/miniconda3/lib/python3.11/site-packages/httpcore/_async/http11.py\", line 143, in handle_async_request\n    raise exc\n  File \"/home/muazhari/miniconda3/lib/python3.11/site-packages/httpcore/_async/http11.py\", line 113, in handle_async_request\n    ) = await self._receive_response_headers(**kwargs)\n        ^^^^^^^^^^^^^^^^^^^^^^^^^^^^^^^^^^^^^^^^^^^^^^\n  File \"/home/muazhari/miniconda3/lib/python3.11/site-packages/httpcore/_async/http11.py\", line 186, in _receive_response_headers\n    event = await self._receive_event(timeout=timeout)\n            ^^^^^^^^^^^^^^^^^^^^^^^^^^^^^^^^^^^^^^^^^^\n  File \"/home/muazhari/miniconda3/lib/python3.11/site-packages/httpcore/_async/http11.py\", line 238, in _receive_event\n    raise RemoteProtocolError(msg)\nhttpcore.RemoteProtocolError: Server disconnected without sending a response.\n\nThe above exception was the direct cause of the following exception:\n\n\u001B[36mray::__call__()\u001B[39m (pid=7908, ip=172.25.4.192)\n  File \"/home/muazhari/miniconda3/lib/python3.11/site-packages/pymoo/core/problem.py\", line 25, in __call__\n    self.problem._evaluate(x, out, *self.args, **self.kwargs)\n  File \"/mnt/c/Data/Apps/autocode/autocode/use_case.py\", line 165, in _evaluate\n    results: List[OptimizationEvaluateRunResponse] = asyncio.get_event_loop().run_until_complete(\n                                                     ^^^^^^^^^^^^^^^^^^^^^^^^^^^^^^^^^^^^^^^^^^^^\n  File \"uvloop/loop.pyx\", line 1517, in uvloop.loop.Loop.run_until_complete\n  File \"/mnt/c/Data/Apps/autocode/autocode/gateway.py\", line 31, in evaluate_run\n    response = await client.get(\n               ^^^^^^^^^^^^^^^^^\n  File \"/home/muazhari/miniconda3/lib/python3.11/site-packages/httpx/_client.py\", line 1801, in get\n    return await self.request(\n           ^^^^^^^^^^^^^^^^^^^\n  File \"/home/muazhari/miniconda3/lib/python3.11/site-packages/httpx/_client.py\", line 1574, in request\n    return await self.send(request, auth=auth, follow_redirects=follow_redirects)\n           ^^^^^^^^^^^^^^^^^^^^^^^^^^^^^^^^^^^^^^^^^^^^^^^^^^^^^^^^^^^^^^^^^^^^^^\n  File \"/home/muazhari/miniconda3/lib/python3.11/site-packages/httpx/_client.py\", line 1661, in send\n    response = await self._send_handling_auth(\n               ^^^^^^^^^^^^^^^^^^^^^^^^^^^^^^^\n  File \"/home/muazhari/miniconda3/lib/python3.11/site-packages/httpx/_client.py\", line 1689, in _send_handling_auth\n    response = await self._send_handling_redirects(\n               ^^^^^^^^^^^^^^^^^^^^^^^^^^^^^^^^^^^^\n  File \"/home/muazhari/miniconda3/lib/python3.11/site-packages/httpx/_client.py\", line 1726, in _send_handling_redirects\n    response = await self._send_single_request(request)\n               ^^^^^^^^^^^^^^^^^^^^^^^^^^^^^^^^^^^^^^^^\n  File \"/home/muazhari/miniconda3/lib/python3.11/site-packages/httpx/_client.py\", line 1763, in _send_single_request\n    response = await transport.handle_async_request(request)\n               ^^^^^^^^^^^^^^^^^^^^^^^^^^^^^^^^^^^^^^^^^^^^^\n  File \"/home/muazhari/miniconda3/lib/python3.11/site-packages/httpx/_transports/default.py\", line 372, in handle_async_request\n    with map_httpcore_exceptions():\n  File \"/home/muazhari/miniconda3/lib/python3.11/contextlib.py\", line 155, in __exit__\n    self.gen.throw(typ, value, traceback)\n  File \"/home/muazhari/miniconda3/lib/python3.11/site-packages/httpx/_transports/default.py\", line 86, in map_httpcore_exceptions\n    raise mapped_exc(message) from exc\nhttpx.RemoteProtocolError: Server disconnected without sending a response.",
     "output_type": "error",
     "traceback": [
      "\u001B[0;31m---------------------------------------------------------------------------\u001B[0m",
      "\u001B[0;31mRayTaskError(RemoteProtocolError)\u001B[0m         Traceback (most recent call last)",
      "Cell \u001B[0;32mIn[5], line 1\u001B[0m\n\u001B[0;32m----> 1\u001B[0m result \u001B[38;5;241m=\u001B[39m \u001B[43moptimization\u001B[49m\u001B[38;5;241;43m.\u001B[39;49m\u001B[43mrun\u001B[49m\u001B[43m(\u001B[49m\n\u001B[1;32m      2\u001B[0m \u001B[43m    \u001B[49m\u001B[43mobjectives\u001B[49m\u001B[38;5;241;43m=\u001B[39;49m\u001B[43mobjectives\u001B[49m\u001B[43m,\u001B[49m\n\u001B[1;32m      3\u001B[0m \u001B[43m    \u001B[49m\u001B[43mnum_inequality_constraints\u001B[49m\u001B[38;5;241;43m=\u001B[39;49m\u001B[38;5;241;43m0\u001B[39;49m\u001B[43m,\u001B[49m\n\u001B[1;32m      4\u001B[0m \u001B[43m    \u001B[49m\u001B[43mnum_equality_constraints\u001B[49m\u001B[38;5;241;43m=\u001B[39;49m\u001B[38;5;241;43m0\u001B[39;49m\u001B[43m,\u001B[49m\n\u001B[1;32m      5\u001B[0m \u001B[43m    \u001B[49m\u001B[43mevaluator\u001B[49m\u001B[38;5;241;43m=\u001B[39;49m\u001B[43mevaluator\u001B[49m\n\u001B[1;32m      6\u001B[0m \u001B[43m)\u001B[49m\n",
      "File \u001B[0;32m/mnt/c/Data/Apps/autocode/autocode/__init__.py:128\u001B[0m, in \u001B[0;36mOptimization.run\u001B[0;34m(self, objectives, num_inequality_constraints, num_equality_constraints, evaluator)\u001B[0m\n\u001B[1;32m    120\u001B[0m \u001B[38;5;28;01mdef\u001B[39;00m \u001B[38;5;21mrun\u001B[39m(\n\u001B[1;32m    121\u001B[0m         \u001B[38;5;28mself\u001B[39m,\n\u001B[1;32m    122\u001B[0m         objectives: List[OptimizationObjective],\n\u001B[0;32m   (...)\u001B[0m\n\u001B[1;32m    125\u001B[0m         evaluator: Callable[[List[OptimizationEvaluateRunResponse]], Dict[\u001B[38;5;28mstr\u001B[39m, Any]]\n\u001B[1;32m    126\u001B[0m ) \u001B[38;5;241m-\u001B[39m\u001B[38;5;241m>\u001B[39m Result:\n\u001B[1;32m    127\u001B[0m     optimization_use_case: OptimizationUseCase \u001B[38;5;241m=\u001B[39m \u001B[38;5;28mself\u001B[39m\u001B[38;5;241m.\u001B[39mapplication_container\u001B[38;5;241m.\u001B[39muse_cases\u001B[38;5;241m.\u001B[39moptimization()\n\u001B[0;32m--> 128\u001B[0m     \u001B[38;5;28;01mreturn\u001B[39;00m \u001B[43moptimization_use_case\u001B[49m\u001B[38;5;241;43m.\u001B[39;49m\u001B[43mrun\u001B[49m\u001B[43m(\u001B[49m\n\u001B[1;32m    129\u001B[0m \u001B[43m        \u001B[49m\u001B[43mobjectives\u001B[49m\u001B[38;5;241;43m=\u001B[39;49m\u001B[43mobjectives\u001B[49m\u001B[43m,\u001B[49m\n\u001B[1;32m    130\u001B[0m \u001B[43m        \u001B[49m\u001B[43mnum_inequality_constraints\u001B[49m\u001B[38;5;241;43m=\u001B[39;49m\u001B[43mnum_inequality_constraints\u001B[49m\u001B[43m,\u001B[49m\n\u001B[1;32m    131\u001B[0m \u001B[43m        \u001B[49m\u001B[43mnum_equality_constraints\u001B[49m\u001B[38;5;241;43m=\u001B[39;49m\u001B[43mnum_equality_constraints\u001B[49m\u001B[43m,\u001B[49m\n\u001B[1;32m    132\u001B[0m \u001B[43m        \u001B[49m\u001B[43mevaluator\u001B[49m\u001B[38;5;241;43m=\u001B[39;49m\u001B[43mevaluator\u001B[49m\u001B[43m,\u001B[49m\n\u001B[1;32m    133\u001B[0m \u001B[43m    \u001B[49m\u001B[43m)\u001B[49m\n",
      "File \u001B[0;32m/mnt/c/Data/Apps/autocode/autocode/use_case.py:606\u001B[0m, in \u001B[0;36mrun\u001B[0;34m(self, objectives, num_inequality_constraints, num_equality_constraints, evaluator)\u001B[0m\n\u001B[1;32m    602\u001B[0m session\u001B[38;5;241m.\u001B[39mcommit()\n\u001B[1;32m    603\u001B[0m session\u001B[38;5;241m.\u001B[39mclose()\n\u001B[1;32m    605\u001B[0m result: Result \u001B[38;5;241m=\u001B[39m \u001B[38;5;28mself\u001B[39m\u001B[38;5;241m.\u001B[39mminimize(\n\u001B[0;32m--> 606\u001B[0m     objectives\u001B[38;5;241m=\u001B[39mobjectives,\n\u001B[1;32m    607\u001B[0m     num_inequality_constraints\u001B[38;5;241m=\u001B[39mnum_inequality_constraints,\n\u001B[1;32m    608\u001B[0m     num_equality_constraints\u001B[38;5;241m=\u001B[39mnum_equality_constraints,\n\u001B[1;32m    609\u001B[0m     variables\u001B[38;5;241m=\u001B[39mvariables,\n\u001B[1;32m    610\u001B[0m     evaluator\u001B[38;5;241m=\u001B[39mevaluator,\n\u001B[1;32m    611\u001B[0m     clients\u001B[38;5;241m=\u001B[39mclients\n\u001B[1;32m    612\u001B[0m )\n\u001B[1;32m    614\u001B[0m \u001B[38;5;28;01mif\u001B[39;00m \u001B[38;5;28mtype\u001B[39m(result\u001B[38;5;241m.\u001B[39mF) \u001B[38;5;241m!=\u001B[39m np\u001B[38;5;241m.\u001B[39mndarray \u001B[38;5;129;01mor\u001B[39;00m result\u001B[38;5;241m.\u001B[39mF\u001B[38;5;241m.\u001B[39mndim \u001B[38;5;241m==\u001B[39m \u001B[38;5;241m1\u001B[39m:\n\u001B[1;32m    615\u001B[0m     result\u001B[38;5;241m.\u001B[39mF \u001B[38;5;241m=\u001B[39m np\u001B[38;5;241m.\u001B[39marray([result\u001B[38;5;241m.\u001B[39mF])\n",
      "File \u001B[0;32m/mnt/c/Data/Apps/autocode/autocode/use_case.py:670\u001B[0m, in \u001B[0;36mminimize\u001B[0;34m(self, objectives, num_inequality_constraints, num_equality_constraints, variables, evaluator, clients)\u001B[0m\n\u001B[1;32m    659\u001B[0m algorithm: SMSEMOA \u001B[38;5;241m=\u001B[39m SMSEMOA(\n\u001B[1;32m    660\u001B[0m     sampling\u001B[38;5;241m=\u001B[39mMixedVariableSampling(),\n\u001B[1;32m    661\u001B[0m     mating\u001B[38;5;241m=\u001B[39mMixedVariableMating(eliminate_duplicates\u001B[38;5;241m=\u001B[39mMixedVariableDuplicateElimination()),\n\u001B[1;32m    662\u001B[0m     eliminate_duplicates\u001B[38;5;241m=\u001B[39mMixedVariableDuplicateElimination(),\n\u001B[1;32m    663\u001B[0m )\n\u001B[1;32m    665\u001B[0m callback: OptimizationCallback \u001B[38;5;241m=\u001B[39m OptimizationCallback(\n\u001B[1;32m    666\u001B[0m     one_datastore\u001B[38;5;241m=\u001B[39m\u001B[38;5;28mself\u001B[39m\u001B[38;5;241m.\u001B[39mone_datastore\n\u001B[1;32m    667\u001B[0m )\n\u001B[1;32m    669\u001B[0m result: Result \u001B[38;5;241m=\u001B[39m minimize(\n\u001B[0;32m--> 670\u001B[0m     problem,\n\u001B[1;32m    671\u001B[0m     algorithm,\n\u001B[1;32m    672\u001B[0m     callback\u001B[38;5;241m=\u001B[39mcallback,\n\u001B[1;32m    673\u001B[0m     seed\u001B[38;5;241m=\u001B[39m\u001B[38;5;241m1\u001B[39m,\n\u001B[1;32m    674\u001B[0m     verbose\u001B[38;5;241m=\u001B[39m\u001B[38;5;28;01mTrue\u001B[39;00m\n\u001B[1;32m    675\u001B[0m )\n\u001B[1;32m    677\u001B[0m \u001B[38;5;28;01mreturn\u001B[39;00m result\n",
      "File \u001B[0;32m~/miniconda3/lib/python3.11/site-packages/pymoo/optimize.py:67\u001B[0m, in \u001B[0;36mminimize\u001B[0;34m(problem, algorithm, termination, copy_algorithm, copy_termination, **kwargs)\u001B[0m\n\u001B[1;32m     64\u001B[0m     algorithm\u001B[38;5;241m.\u001B[39msetup(problem, \u001B[38;5;241m*\u001B[39m\u001B[38;5;241m*\u001B[39mkwargs)\n\u001B[1;32m     66\u001B[0m \u001B[38;5;66;03m# actually execute the algorithm\u001B[39;00m\n\u001B[0;32m---> 67\u001B[0m res \u001B[38;5;241m=\u001B[39m \u001B[43malgorithm\u001B[49m\u001B[38;5;241;43m.\u001B[39;49m\u001B[43mrun\u001B[49m\u001B[43m(\u001B[49m\u001B[43m)\u001B[49m\n\u001B[1;32m     69\u001B[0m \u001B[38;5;66;03m# store the deep copied algorithm in the result object\u001B[39;00m\n\u001B[1;32m     70\u001B[0m res\u001B[38;5;241m.\u001B[39malgorithm \u001B[38;5;241m=\u001B[39m algorithm\n",
      "File \u001B[0;32m~/miniconda3/lib/python3.11/site-packages/pymoo/core/algorithm.py:138\u001B[0m, in \u001B[0;36mAlgorithm.run\u001B[0;34m(self)\u001B[0m\n\u001B[1;32m    136\u001B[0m \u001B[38;5;28;01mdef\u001B[39;00m \u001B[38;5;21mrun\u001B[39m(\u001B[38;5;28mself\u001B[39m):\n\u001B[1;32m    137\u001B[0m     \u001B[38;5;28;01mwhile\u001B[39;00m \u001B[38;5;28mself\u001B[39m\u001B[38;5;241m.\u001B[39mhas_next():\n\u001B[0;32m--> 138\u001B[0m         \u001B[38;5;28;43mself\u001B[39;49m\u001B[38;5;241;43m.\u001B[39;49m\u001B[43mnext\u001B[49m\u001B[43m(\u001B[49m\u001B[43m)\u001B[49m\n\u001B[1;32m    139\u001B[0m     \u001B[38;5;28;01mreturn\u001B[39;00m \u001B[38;5;28mself\u001B[39m\u001B[38;5;241m.\u001B[39mresult()\n",
      "File \u001B[0;32m~/miniconda3/lib/python3.11/site-packages/pymoo/core/algorithm.py:158\u001B[0m, in \u001B[0;36mAlgorithm.next\u001B[0;34m(self)\u001B[0m\n\u001B[1;32m    156\u001B[0m \u001B[38;5;66;03m# call the advance with them after evaluation\u001B[39;00m\n\u001B[1;32m    157\u001B[0m \u001B[38;5;28;01mif\u001B[39;00m infills \u001B[38;5;129;01mis\u001B[39;00m \u001B[38;5;129;01mnot\u001B[39;00m \u001B[38;5;28;01mNone\u001B[39;00m:\n\u001B[0;32m--> 158\u001B[0m     \u001B[38;5;28;43mself\u001B[39;49m\u001B[38;5;241;43m.\u001B[39;49m\u001B[43mevaluator\u001B[49m\u001B[38;5;241;43m.\u001B[39;49m\u001B[43meval\u001B[49m\u001B[43m(\u001B[49m\u001B[38;5;28;43mself\u001B[39;49m\u001B[38;5;241;43m.\u001B[39;49m\u001B[43mproblem\u001B[49m\u001B[43m,\u001B[49m\u001B[43m \u001B[49m\u001B[43minfills\u001B[49m\u001B[43m,\u001B[49m\u001B[43m \u001B[49m\u001B[43malgorithm\u001B[49m\u001B[38;5;241;43m=\u001B[39;49m\u001B[38;5;28;43mself\u001B[39;49m\u001B[43m)\u001B[49m\n\u001B[1;32m    159\u001B[0m     \u001B[38;5;28mself\u001B[39m\u001B[38;5;241m.\u001B[39madvance(infills\u001B[38;5;241m=\u001B[39minfills)\n\u001B[1;32m    161\u001B[0m \u001B[38;5;66;03m# if the algorithm does not follow the infill-advance scheme just call advance\u001B[39;00m\n\u001B[1;32m    162\u001B[0m \u001B[38;5;28;01melse\u001B[39;00m:\n",
      "File \u001B[0;32m~/miniconda3/lib/python3.11/site-packages/pymoo/core/evaluator.py:69\u001B[0m, in \u001B[0;36mEvaluator.eval\u001B[0;34m(self, problem, pop, skip_already_evaluated, evaluate_values_of, count_evals, **kwargs)\u001B[0m\n\u001B[1;32m     65\u001B[0m \u001B[38;5;66;03m# evaluate the solutions (if there are any)\u001B[39;00m\n\u001B[1;32m     66\u001B[0m \u001B[38;5;28;01mif\u001B[39;00m \u001B[38;5;28mlen\u001B[39m(I) \u001B[38;5;241m>\u001B[39m \u001B[38;5;241m0\u001B[39m:\n\u001B[1;32m     67\u001B[0m \n\u001B[1;32m     68\u001B[0m     \u001B[38;5;66;03m# do the actual evaluation - call the sub-function to set the corresponding values to the population\u001B[39;00m\n\u001B[0;32m---> 69\u001B[0m     \u001B[38;5;28;43mself\u001B[39;49m\u001B[38;5;241;43m.\u001B[39;49m\u001B[43m_eval\u001B[49m\u001B[43m(\u001B[49m\u001B[43mproblem\u001B[49m\u001B[43m,\u001B[49m\u001B[43m \u001B[49m\u001B[43mpop\u001B[49m\u001B[43m[\u001B[49m\u001B[43mI\u001B[49m\u001B[43m]\u001B[49m\u001B[43m,\u001B[49m\u001B[43m \u001B[49m\u001B[43mevaluate_values_of\u001B[49m\u001B[43m,\u001B[49m\u001B[43m \u001B[49m\u001B[38;5;241;43m*\u001B[39;49m\u001B[38;5;241;43m*\u001B[39;49m\u001B[43mkwargs\u001B[49m\u001B[43m)\u001B[49m\n\u001B[1;32m     71\u001B[0m \u001B[38;5;66;03m# update the function evaluation counter\u001B[39;00m\n\u001B[1;32m     72\u001B[0m \u001B[38;5;28;01mif\u001B[39;00m count_evals:\n",
      "File \u001B[0;32m~/miniconda3/lib/python3.11/site-packages/pymoo/core/evaluator.py:90\u001B[0m, in \u001B[0;36mEvaluator._eval\u001B[0;34m(self, problem, pop, evaluate_values_of, **kwargs)\u001B[0m\n\u001B[1;32m     87\u001B[0m X \u001B[38;5;241m=\u001B[39m pop\u001B[38;5;241m.\u001B[39mget(\u001B[38;5;124m\"\u001B[39m\u001B[38;5;124mX\u001B[39m\u001B[38;5;124m\"\u001B[39m)\n\u001B[1;32m     89\u001B[0m \u001B[38;5;66;03m# call the problem to evaluate the solutions\u001B[39;00m\n\u001B[0;32m---> 90\u001B[0m out \u001B[38;5;241m=\u001B[39m \u001B[43mproblem\u001B[49m\u001B[38;5;241;43m.\u001B[39;49m\u001B[43mevaluate\u001B[49m\u001B[43m(\u001B[49m\u001B[43mX\u001B[49m\u001B[43m,\u001B[49m\u001B[43m \u001B[49m\u001B[43mreturn_values_of\u001B[49m\u001B[38;5;241;43m=\u001B[39;49m\u001B[43mevaluate_values_of\u001B[49m\u001B[43m,\u001B[49m\u001B[43m \u001B[49m\u001B[43mreturn_as_dictionary\u001B[49m\u001B[38;5;241;43m=\u001B[39;49m\u001B[38;5;28;43;01mTrue\u001B[39;49;00m\u001B[43m,\u001B[49m\u001B[43m \u001B[49m\u001B[38;5;241;43m*\u001B[39;49m\u001B[38;5;241;43m*\u001B[39;49m\u001B[43mkwargs\u001B[49m\u001B[43m)\u001B[49m\n\u001B[1;32m     92\u001B[0m \u001B[38;5;66;03m# for each of the attributes set it to the problem\u001B[39;00m\n\u001B[1;32m     93\u001B[0m \u001B[38;5;28;01mfor\u001B[39;00m key, val \u001B[38;5;129;01min\u001B[39;00m out\u001B[38;5;241m.\u001B[39mitems():\n",
      "File \u001B[0;32m~/miniconda3/lib/python3.11/site-packages/pymoo/core/problem.py:257\u001B[0m, in \u001B[0;36mProblem.evaluate\u001B[0;34m(self, X, return_values_of, return_as_dictionary, *args, **kwargs)\u001B[0m\n\u001B[1;32m    254\u001B[0m     only_single_value \u001B[38;5;241m=\u001B[39m \u001B[38;5;129;01mnot\u001B[39;00m (\u001B[38;5;28misinstance\u001B[39m(X, \u001B[38;5;28mlist\u001B[39m) \u001B[38;5;129;01mor\u001B[39;00m \u001B[38;5;28misinstance\u001B[39m(X, np\u001B[38;5;241m.\u001B[39mndarray))\n\u001B[1;32m    256\u001B[0m \u001B[38;5;66;03m# this is where the actual evaluation takes place\u001B[39;00m\n\u001B[0;32m--> 257\u001B[0m _out \u001B[38;5;241m=\u001B[39m \u001B[38;5;28;43mself\u001B[39;49m\u001B[38;5;241;43m.\u001B[39;49m\u001B[43mdo\u001B[49m\u001B[43m(\u001B[49m\u001B[43mX\u001B[49m\u001B[43m,\u001B[49m\u001B[43m \u001B[49m\u001B[43mreturn_values_of\u001B[49m\u001B[43m,\u001B[49m\u001B[43m \u001B[49m\u001B[38;5;241;43m*\u001B[39;49m\u001B[43margs\u001B[49m\u001B[43m,\u001B[49m\u001B[43m \u001B[49m\u001B[38;5;241;43m*\u001B[39;49m\u001B[38;5;241;43m*\u001B[39;49m\u001B[43mkwargs\u001B[49m\u001B[43m)\u001B[49m\n\u001B[1;32m    259\u001B[0m out \u001B[38;5;241m=\u001B[39m {}\n\u001B[1;32m    260\u001B[0m \u001B[38;5;28;01mfor\u001B[39;00m k, v \u001B[38;5;129;01min\u001B[39;00m _out\u001B[38;5;241m.\u001B[39mitems():\n\u001B[1;32m    261\u001B[0m \n\u001B[1;32m    262\u001B[0m     \u001B[38;5;66;03m# copy it to a numpy array (it might be one of jax at this point)\u001B[39;00m\n",
      "File \u001B[0;32m~/miniconda3/lib/python3.11/site-packages/pymoo/core/problem.py:297\u001B[0m, in \u001B[0;36mProblem.do\u001B[0;34m(self, X, return_values_of, *args, **kwargs)\u001B[0m\n\u001B[1;32m    295\u001B[0m \u001B[38;5;66;03m# do the function evaluation\u001B[39;00m\n\u001B[1;32m    296\u001B[0m \u001B[38;5;28;01mif\u001B[39;00m \u001B[38;5;28mself\u001B[39m\u001B[38;5;241m.\u001B[39melementwise:\n\u001B[0;32m--> 297\u001B[0m     \u001B[38;5;28;43mself\u001B[39;49m\u001B[38;5;241;43m.\u001B[39;49m\u001B[43m_evaluate_elementwise\u001B[49m\u001B[43m(\u001B[49m\u001B[43mX\u001B[49m\u001B[43m,\u001B[49m\u001B[43m \u001B[49m\u001B[43mout\u001B[49m\u001B[43m,\u001B[49m\u001B[43m \u001B[49m\u001B[38;5;241;43m*\u001B[39;49m\u001B[43margs\u001B[49m\u001B[43m,\u001B[49m\u001B[43m \u001B[49m\u001B[38;5;241;43m*\u001B[39;49m\u001B[38;5;241;43m*\u001B[39;49m\u001B[43mkwargs\u001B[49m\u001B[43m)\u001B[49m\n\u001B[1;32m    298\u001B[0m \u001B[38;5;28;01melse\u001B[39;00m:\n\u001B[1;32m    299\u001B[0m     \u001B[38;5;28mself\u001B[39m\u001B[38;5;241m.\u001B[39m_evaluate_vectorized(X, out, \u001B[38;5;241m*\u001B[39margs, \u001B[38;5;241m*\u001B[39m\u001B[38;5;241m*\u001B[39mkwargs)\n",
      "File \u001B[0;32m~/miniconda3/lib/python3.11/site-packages/pymoo/core/problem.py:315\u001B[0m, in \u001B[0;36mProblem._evaluate_elementwise\u001B[0;34m(self, X, out, *args, **kwargs)\u001B[0m\n\u001B[1;32m    312\u001B[0m f \u001B[38;5;241m=\u001B[39m \u001B[38;5;28mself\u001B[39m\u001B[38;5;241m.\u001B[39melementwise_func(\u001B[38;5;28mself\u001B[39m, args, kwargs)\n\u001B[1;32m    314\u001B[0m \u001B[38;5;66;03m# execute the runner\u001B[39;00m\n\u001B[0;32m--> 315\u001B[0m elems \u001B[38;5;241m=\u001B[39m \u001B[38;5;28;43mself\u001B[39;49m\u001B[38;5;241;43m.\u001B[39;49m\u001B[43melementwise_runner\u001B[49m\u001B[43m(\u001B[49m\u001B[43mf\u001B[49m\u001B[43m,\u001B[49m\u001B[43m \u001B[49m\u001B[43mX\u001B[49m\u001B[43m)\u001B[49m\n\u001B[1;32m    317\u001B[0m \u001B[38;5;66;03m# for each evaluation call\u001B[39;00m\n\u001B[1;32m    318\u001B[0m \u001B[38;5;28;01mfor\u001B[39;00m elem \u001B[38;5;129;01min\u001B[39;00m elems:\n\u001B[1;32m    319\u001B[0m \n\u001B[1;32m    320\u001B[0m     \u001B[38;5;66;03m# for each key stored for this evaluation\u001B[39;00m\n",
      "File \u001B[0;32m/mnt/c/Data/Apps/autocode/autocode/use_case.py:363\u001B[0m, in \u001B[0;36mOptimizationProblemRunner.__call__\u001B[0;34m(self, f, X)\u001B[0m\n\u001B[1;32m    361\u001B[0m runnable \u001B[38;5;241m=\u001B[39m ray\u001B[38;5;241m.\u001B[39mremote(f\u001B[38;5;241m.\u001B[39m\u001B[38;5;21m__call__\u001B[39m\u001B[38;5;241m.\u001B[39m\u001B[38;5;18m__func__\u001B[39m)\n\u001B[1;32m    362\u001B[0m futures \u001B[38;5;241m=\u001B[39m [runnable\u001B[38;5;241m.\u001B[39mremote(f, x) \u001B[38;5;28;01mfor\u001B[39;00m x \u001B[38;5;129;01min\u001B[39;00m X]\n\u001B[0;32m--> 363\u001B[0m \u001B[38;5;28;01mreturn\u001B[39;00m \u001B[43mray\u001B[49m\u001B[38;5;241;43m.\u001B[39;49m\u001B[43mget\u001B[49m\u001B[43m(\u001B[49m\u001B[43mfutures\u001B[49m\u001B[43m)\u001B[49m\n",
      "File \u001B[0;32m~/miniconda3/lib/python3.11/site-packages/ray/_private/auto_init_hook.py:21\u001B[0m, in \u001B[0;36mwrap_auto_init.<locals>.auto_init_wrapper\u001B[0;34m(*args, **kwargs)\u001B[0m\n\u001B[1;32m     18\u001B[0m \u001B[38;5;129m@wraps\u001B[39m(fn)\n\u001B[1;32m     19\u001B[0m \u001B[38;5;28;01mdef\u001B[39;00m \u001B[38;5;21mauto_init_wrapper\u001B[39m(\u001B[38;5;241m*\u001B[39margs, \u001B[38;5;241m*\u001B[39m\u001B[38;5;241m*\u001B[39mkwargs):\n\u001B[1;32m     20\u001B[0m     auto_init_ray()\n\u001B[0;32m---> 21\u001B[0m     \u001B[38;5;28;01mreturn\u001B[39;00m \u001B[43mfn\u001B[49m\u001B[43m(\u001B[49m\u001B[38;5;241;43m*\u001B[39;49m\u001B[43margs\u001B[49m\u001B[43m,\u001B[49m\u001B[43m \u001B[49m\u001B[38;5;241;43m*\u001B[39;49m\u001B[38;5;241;43m*\u001B[39;49m\u001B[43mkwargs\u001B[49m\u001B[43m)\u001B[49m\n",
      "File \u001B[0;32m~/miniconda3/lib/python3.11/site-packages/ray/_private/client_mode_hook.py:103\u001B[0m, in \u001B[0;36mclient_mode_hook.<locals>.wrapper\u001B[0;34m(*args, **kwargs)\u001B[0m\n\u001B[1;32m    101\u001B[0m     \u001B[38;5;28;01mif\u001B[39;00m func\u001B[38;5;241m.\u001B[39m\u001B[38;5;18m__name__\u001B[39m \u001B[38;5;241m!=\u001B[39m \u001B[38;5;124m\"\u001B[39m\u001B[38;5;124minit\u001B[39m\u001B[38;5;124m\"\u001B[39m \u001B[38;5;129;01mor\u001B[39;00m is_client_mode_enabled_by_default:\n\u001B[1;32m    102\u001B[0m         \u001B[38;5;28;01mreturn\u001B[39;00m \u001B[38;5;28mgetattr\u001B[39m(ray, func\u001B[38;5;241m.\u001B[39m\u001B[38;5;18m__name__\u001B[39m)(\u001B[38;5;241m*\u001B[39margs, \u001B[38;5;241m*\u001B[39m\u001B[38;5;241m*\u001B[39mkwargs)\n\u001B[0;32m--> 103\u001B[0m \u001B[38;5;28;01mreturn\u001B[39;00m \u001B[43mfunc\u001B[49m\u001B[43m(\u001B[49m\u001B[38;5;241;43m*\u001B[39;49m\u001B[43margs\u001B[49m\u001B[43m,\u001B[49m\u001B[43m \u001B[49m\u001B[38;5;241;43m*\u001B[39;49m\u001B[38;5;241;43m*\u001B[39;49m\u001B[43mkwargs\u001B[49m\u001B[43m)\u001B[49m\n",
      "File \u001B[0;32m~/miniconda3/lib/python3.11/site-packages/ray/_private/worker.py:2667\u001B[0m, in \u001B[0;36mget\u001B[0;34m(object_refs, timeout)\u001B[0m\n\u001B[1;32m   2661\u001B[0m     \u001B[38;5;28;01mraise\u001B[39;00m \u001B[38;5;167;01mValueError\u001B[39;00m(\n\u001B[1;32m   2662\u001B[0m         \u001B[38;5;124mf\u001B[39m\u001B[38;5;124m\"\u001B[39m\u001B[38;5;124mInvalid type of object refs, \u001B[39m\u001B[38;5;132;01m{\u001B[39;00m\u001B[38;5;28mtype\u001B[39m(object_refs)\u001B[38;5;132;01m}\u001B[39;00m\u001B[38;5;124m, is given. \u001B[39m\u001B[38;5;124m\"\u001B[39m\n\u001B[1;32m   2663\u001B[0m         \u001B[38;5;124m\"\u001B[39m\u001B[38;5;124m'\u001B[39m\u001B[38;5;124mobject_refs\u001B[39m\u001B[38;5;124m'\u001B[39m\u001B[38;5;124m must either be an ObjectRef or a list of ObjectRefs. \u001B[39m\u001B[38;5;124m\"\u001B[39m\n\u001B[1;32m   2664\u001B[0m     )\n\u001B[1;32m   2666\u001B[0m \u001B[38;5;66;03m# TODO(ujvl): Consider how to allow user to retrieve the ready objects.\u001B[39;00m\n\u001B[0;32m-> 2667\u001B[0m values, debugger_breakpoint \u001B[38;5;241m=\u001B[39m \u001B[43mworker\u001B[49m\u001B[38;5;241;43m.\u001B[39;49m\u001B[43mget_objects\u001B[49m\u001B[43m(\u001B[49m\u001B[43mobject_refs\u001B[49m\u001B[43m,\u001B[49m\u001B[43m \u001B[49m\u001B[43mtimeout\u001B[49m\u001B[38;5;241;43m=\u001B[39;49m\u001B[43mtimeout\u001B[49m\u001B[43m)\u001B[49m\n\u001B[1;32m   2668\u001B[0m \u001B[38;5;28;01mfor\u001B[39;00m i, value \u001B[38;5;129;01min\u001B[39;00m \u001B[38;5;28menumerate\u001B[39m(values):\n\u001B[1;32m   2669\u001B[0m     \u001B[38;5;28;01mif\u001B[39;00m \u001B[38;5;28misinstance\u001B[39m(value, RayError):\n",
      "File \u001B[0;32m~/miniconda3/lib/python3.11/site-packages/ray/_private/worker.py:864\u001B[0m, in \u001B[0;36mWorker.get_objects\u001B[0;34m(self, object_refs, timeout)\u001B[0m\n\u001B[1;32m    862\u001B[0m     global_worker\u001B[38;5;241m.\u001B[39mcore_worker\u001B[38;5;241m.\u001B[39mdump_object_store_memory_usage()\n\u001B[1;32m    863\u001B[0m \u001B[38;5;28;01mif\u001B[39;00m \u001B[38;5;28misinstance\u001B[39m(value, RayTaskError):\n\u001B[0;32m--> 864\u001B[0m     \u001B[38;5;28;01mraise\u001B[39;00m value\u001B[38;5;241m.\u001B[39mas_instanceof_cause()\n\u001B[1;32m    865\u001B[0m \u001B[38;5;28;01melse\u001B[39;00m:\n\u001B[1;32m    866\u001B[0m     \u001B[38;5;28;01mraise\u001B[39;00m value\n",
      "\u001B[0;31mRayTaskError(RemoteProtocolError)\u001B[0m: \u001B[36mray::__call__()\u001B[39m (pid=7908, ip=172.25.4.192)\n  File \"/home/muazhari/miniconda3/lib/python3.11/site-packages/httpx/_transports/default.py\", line 373, in handle_async_request\n    resp = await self._pool.handle_async_request(req)\n           ^^^^^^^^^^^^^^^^^^^^^^^^^^^^^^^^^^^^^^^^^^\n  File \"/home/muazhari/miniconda3/lib/python3.11/site-packages/httpcore/_async/connection_pool.py\", line 216, in handle_async_request\n    raise exc from None\n  File \"/home/muazhari/miniconda3/lib/python3.11/site-packages/httpcore/_async/connection_pool.py\", line 196, in handle_async_request\n    response = await connection.handle_async_request(\n               ^^^^^^^^^^^^^^^^^^^^^^^^^^^^^^^^^^^^^^\n  File \"/home/muazhari/miniconda3/lib/python3.11/site-packages/httpcore/_async/connection.py\", line 101, in handle_async_request\n    return await self._connection.handle_async_request(request)\n           ^^^^^^^^^^^^^^^^^^^^^^^^^^^^^^^^^^^^^^^^^^^^^^^^^^^^\n  File \"/home/muazhari/miniconda3/lib/python3.11/site-packages/httpcore/_async/http11.py\", line 143, in handle_async_request\n    raise exc\n  File \"/home/muazhari/miniconda3/lib/python3.11/site-packages/httpcore/_async/http11.py\", line 113, in handle_async_request\n    ) = await self._receive_response_headers(**kwargs)\n        ^^^^^^^^^^^^^^^^^^^^^^^^^^^^^^^^^^^^^^^^^^^^^^\n  File \"/home/muazhari/miniconda3/lib/python3.11/site-packages/httpcore/_async/http11.py\", line 186, in _receive_response_headers\n    event = await self._receive_event(timeout=timeout)\n            ^^^^^^^^^^^^^^^^^^^^^^^^^^^^^^^^^^^^^^^^^^\n  File \"/home/muazhari/miniconda3/lib/python3.11/site-packages/httpcore/_async/http11.py\", line 238, in _receive_event\n    raise RemoteProtocolError(msg)\nhttpcore.RemoteProtocolError: Server disconnected without sending a response.\n\nThe above exception was the direct cause of the following exception:\n\n\u001B[36mray::__call__()\u001B[39m (pid=7908, ip=172.25.4.192)\n  File \"/home/muazhari/miniconda3/lib/python3.11/site-packages/pymoo/core/problem.py\", line 25, in __call__\n    self.problem._evaluate(x, out, *self.args, **self.kwargs)\n  File \"/mnt/c/Data/Apps/autocode/autocode/use_case.py\", line 165, in _evaluate\n    results: List[OptimizationEvaluateRunResponse] = asyncio.get_event_loop().run_until_complete(\n                                                     ^^^^^^^^^^^^^^^^^^^^^^^^^^^^^^^^^^^^^^^^^^^^\n  File \"uvloop/loop.pyx\", line 1517, in uvloop.loop.Loop.run_until_complete\n  File \"/mnt/c/Data/Apps/autocode/autocode/gateway.py\", line 31, in evaluate_run\n    response = await client.get(\n               ^^^^^^^^^^^^^^^^^\n  File \"/home/muazhari/miniconda3/lib/python3.11/site-packages/httpx/_client.py\", line 1801, in get\n    return await self.request(\n           ^^^^^^^^^^^^^^^^^^^\n  File \"/home/muazhari/miniconda3/lib/python3.11/site-packages/httpx/_client.py\", line 1574, in request\n    return await self.send(request, auth=auth, follow_redirects=follow_redirects)\n           ^^^^^^^^^^^^^^^^^^^^^^^^^^^^^^^^^^^^^^^^^^^^^^^^^^^^^^^^^^^^^^^^^^^^^^\n  File \"/home/muazhari/miniconda3/lib/python3.11/site-packages/httpx/_client.py\", line 1661, in send\n    response = await self._send_handling_auth(\n               ^^^^^^^^^^^^^^^^^^^^^^^^^^^^^^^\n  File \"/home/muazhari/miniconda3/lib/python3.11/site-packages/httpx/_client.py\", line 1689, in _send_handling_auth\n    response = await self._send_handling_redirects(\n               ^^^^^^^^^^^^^^^^^^^^^^^^^^^^^^^^^^^^\n  File \"/home/muazhari/miniconda3/lib/python3.11/site-packages/httpx/_client.py\", line 1726, in _send_handling_redirects\n    response = await self._send_single_request(request)\n               ^^^^^^^^^^^^^^^^^^^^^^^^^^^^^^^^^^^^^^^^\n  File \"/home/muazhari/miniconda3/lib/python3.11/site-packages/httpx/_client.py\", line 1763, in _send_single_request\n    response = await transport.handle_async_request(request)\n               ^^^^^^^^^^^^^^^^^^^^^^^^^^^^^^^^^^^^^^^^^^^^^\n  File \"/home/muazhari/miniconda3/lib/python3.11/site-packages/httpx/_transports/default.py\", line 372, in handle_async_request\n    with map_httpcore_exceptions():\n  File \"/home/muazhari/miniconda3/lib/python3.11/contextlib.py\", line 155, in __exit__\n    self.gen.throw(typ, value, traceback)\n  File \"/home/muazhari/miniconda3/lib/python3.11/site-packages/httpx/_transports/default.py\", line 86, in map_httpcore_exceptions\n    raise mapped_exc(message) from exc\nhttpx.RemoteProtocolError: Server disconnected without sending a response."
     ]
    }
   ],
   "execution_count": 5
  },
  {
   "metadata": {},
   "cell_type": "code",
   "outputs": [],
   "execution_count": null,
   "source": "",
   "id": "3e9047eda6e46720"
  }
 ],
 "metadata": {
  "kernelspec": {
   "display_name": "Python 3",
   "language": "python",
   "name": "python3"
  },
  "language_info": {
   "codemirror_mode": {
    "name": "ipython",
    "version": 2
   },
   "file_extension": ".py",
   "mimetype": "text/x-python",
   "name": "python",
   "nbconvert_exporter": "python",
   "pygments_lexer": "ipython2",
   "version": "2.7.6"
  }
 },
 "nbformat": 4,
 "nbformat_minor": 5
}
