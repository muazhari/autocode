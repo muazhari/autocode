{
 "cells": [
  {
   "metadata": {},
   "cell_type": "code",
   "source": [
    "import uuid\n",
    "\n",
    "from python_on_whales import DockerClient, docker\n",
    "\n",
    "docker_clients = []\n",
    "for i in range(1):\n",
    "    worker_id = uuid.uuid4().hex\n",
    "    docker_client = DockerClient(\n",
    "        compose_project_name=worker_id,\n",
    "        compose_files=[\"client-compose.yml\"],\n",
    "    )\n",
    "    docker_clients.append(docker_client)\n",
    "\n"
   ],
   "id": "8cfa79902bf4963a",
   "outputs": [],
   "execution_count": null
  },
  {
   "metadata": {},
   "cell_type": "code",
   "source": [
    "for docker_client in docker_clients:\n",
    "    docker_client.compose.up(\n",
    "        detach=True,\n",
    "        build=True,\n",
    "    )"
   ],
   "id": "50eabc9a50682b2a",
   "outputs": [],
   "execution_count": null
  },
  {
   "metadata": {},
   "cell_type": "code",
   "source": "docker.image.list()",
   "id": "f01d9c45d2aba040",
   "outputs": [],
   "execution_count": null
  },
  {
   "metadata": {},
   "cell_type": "code",
   "source": [
    "for docker_client in docker_clients:\n",
    "    docker_client.compose.down()"
   ],
   "id": "e1ce045645fccd25",
   "outputs": [],
   "execution_count": null
  },
  {
   "metadata": {},
   "cell_type": "code",
   "source": "list(docker_clients[0].compose.ps()[0].network_settings.networks.values())[0].ip_address",
   "id": "7de84698188aaeca",
   "outputs": [],
   "execution_count": null
  },
  {
   "metadata": {},
   "cell_type": "code",
   "source": [
    "for docker_client in docker_clients:\n",
    "    for container in docker_client.compose.ps():\n",
    "        A_WORKER_ID = docker_client.client_config.compose_project_name\n",
    "        B_WORKER_ID = [env for env in container.config.env if \"WORKER_ID\" in env][0].split(\"=\")[1]\n",
    "        print(A_WORKER_ID, B_WORKER_ID, A_WORKER_ID == B_WORKER_ID, container.name)"
   ],
   "id": "1fcd644a59b4caa8",
   "outputs": [],
   "execution_count": null
  },
  {
   "metadata": {},
   "cell_type": "code",
   "source": "container.name.removeprefix(\"f4425bc7e176405e89ca8af2954caa46-\")",
   "id": "53154861ee5c4004",
   "outputs": [],
   "execution_count": null
  },
  {
   "metadata": {},
   "cell_type": "code",
   "source": [
    "from httpx import Client\n",
    "\n",
    "http_client = Client(\n",
    "    base_url=\"http://172.31.0.3:11000/apis\",\n",
    ")\n",
    "http_client.get(\"/optimizations/evaluates/runs\")"
   ],
   "id": "1a7380e579ec5e38",
   "outputs": [],
   "execution_count": null
  },
  {
   "metadata": {
    "ExecuteTime": {
     "end_time": "2024-08-05T16:58:11.008034Z",
     "start_time": "2024-08-05T16:58:05.319804Z"
    }
   },
   "cell_type": "code",
   "source": [
    "from autocode import Optimization\n",
    "\n",
    "optimization: Optimization = Optimization(\n",
    "    num_cpus=16,\n",
    "    server_host=\"0.0.0.0\",\n",
    "    server_port=10000,\n",
    "    dashboard_port=10001,\n",
    ")"
   ],
   "id": "fe6274905d54ad44",
   "outputs": [
    {
     "name": "stderr",
     "output_type": "stream",
     "text": [
      "2024-08-05 23:58:10,385\tINFO worker.py:1743 -- Started a local Ray instance. View the dashboard at \u001B[1m\u001B[32mhttp://172.25.4.192:8265 \u001B[39m\u001B[22m\n"
     ]
    },
    {
     "name": "stdout",
     "output_type": "stream",
     "text": [
      "Available resources:  {'accelerator_type:G': 1.0, 'node:__internal_head__': 1.0, 'node:172.25.4.192': 1.0, 'CPU': 16.0, 'memory': 8763248640.0, 'object_store_memory': 4381624320.0, 'GPU': 1.0}\n",
      "Server is healthy.\n"
     ]
    }
   ],
   "execution_count": 1
  },
  {
   "metadata": {
    "ExecuteTime": {
     "end_time": "2024-08-05T16:58:11.073316Z",
     "start_time": "2024-08-05T16:58:11.010624Z"
    }
   },
   "cell_type": "code",
   "source": [
    "from autocode import OptimizationUseCase, ApplicationSetting, OneDatastore\n",
    "from autocode.container import ApplicationContainer\n",
    "import os\n",
    "\n",
    "os.environ[\"LANGCHAIN_TRACING_V2\"] = \"true\"\n",
    "os.environ[\"LANGCHAIN_ENDPOINT\"] = \"https://api.smith.langchain.com\"\n",
    "os.environ[\"LANGCHAIN_API_KEY\"] = \"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\"\n",
    "os.environ[\"LANGCHAIN_PROJECT\"] = \"autocode\"\n",
    "\n",
    "application_container: ApplicationContainer = ApplicationContainer()\n",
    "application_setting: ApplicationSetting = application_container.settings.application()\n",
    "application_setting.num_cpus = 16\n",
    "application_setting.server_host = \"0.0.0.0\"\n",
    "application_setting.server_port = 10000\n",
    "application_setting.dashboard_port = 10001\n",
    "optimization_use_case: OptimizationUseCase = application_container.use_cases.optimization()\n",
    "# optimization_use_case.reset()"
   ],
   "id": "e79f7e07e3b46f41",
   "outputs": [],
   "execution_count": 2
  },
  {
   "metadata": {
    "ExecuteTime": {
     "end_time": "2024-08-05T16:58:22.776259Z",
     "start_time": "2024-08-05T16:58:11.074187Z"
    }
   },
   "cell_type": "code",
   "source": [
    "from python_on_whales import DockerClient\n",
    "\n",
    "docker_client: DockerClient = optimization.deploy(\n",
    "    compose_files=[\"./client-compose.yml\"],\n",
    ")"
   ],
   "id": "303433e5ea06bdd4",
   "outputs": [
    {
     "name": "stdout",
     "output_type": "stream",
     "text": [
      "#0 building with \"default\" instance using docker driver\n",
      "\n",
      "#1 [app-account internal] load build definition from .Dockerfile\n",
      "#1 transferring dockerfile: 119B 0.0s done\n",
      "#1 DONE 0.0s\n",
      "\n",
      "#2 [app-product internal] load build definition from .Dockerfile\n",
      "#2 transferring dockerfile: 119B 0.0s done\n",
      "#2 DONE 0.0s\n",
      "\n",
      "#3 [app-product internal] load metadata for docker.io/library/golang:latest\n"
     ]
    },
    {
     "name": "stderr",
     "output_type": "stream",
     "text": [
      "gio: http://localhost:10001: Operation not supported\n"
     ]
    },
    {
     "name": "stdout",
     "output_type": "stream",
     "text": [
      "#3 DONE 1.4s\n",
      "\n",
      "#4 [app-product internal] load .dockerignore\n",
      "#4 transferring context: 2B 0.0s done\n",
      "#4 DONE 0.0s\n",
      "\n",
      "#5 [app-account internal] load .dockerignore\n",
      "#5 transferring context: 2B 0.0s done\n",
      "#5 DONE 0.0s\n",
      "\n",
      "#6 [app-account 1/5] FROM docker.io/library/golang:latest@sha256:86a3c48a61915a8c62c0e1d7594730399caa3feb73655dfe96c7bc17710e96cf\n",
      "#6 DONE 0.0s\n",
      "\n",
      "#7 [app-product internal] load build context\n",
      "#7 transferring context: 335B 0.0s done\n",
      "#7 DONE 0.0s\n",
      "\n",
      "#8 [app-account internal] load build context\n",
      "#8 transferring context: 335B 0.0s done\n",
      "#8 DONE 0.0s\n",
      "\n",
      "#9 [app-product 3/5] COPY . .\n",
      "#9 CACHED\n",
      "\n",
      "#10 [app-product 4/5] RUN go mod tidy\n",
      "#10 CACHED\n",
      "\n",
      "#11 [app-product 5/5] RUN go get ./...\n",
      "#11 CACHED\n",
      "\n",
      "#12 [app-account 2/5] WORKDIR /workdir\n",
      "#12 CACHED\n",
      "\n",
      "#13 [app-account 3/5] COPY . .\n",
      "#13 CACHED\n",
      "\n",
      "#14 [app-account 4/5] RUN go mod tidy\n",
      "#14 CACHED\n",
      "\n",
      "#15 [app-account 5/5] RUN go get ./...\n",
      "#15 CACHED\n",
      "\n",
      "#16 [app-product] exporting to image\n",
      "#16 exporting layers done\n",
      "#16 writing image sha256:47c50e0767e24c09cfb2fff5eb8cf427127e803c9d476a6fab735641de065f3e done\n",
      "#16 naming to docker.io/muazhari/autocode-example-app-product:latest done\n",
      "#16 DONE 0.0s\n",
      "\n",
      "#17 [app-account] exporting to image\n",
      "#17 exporting layers done\n",
      "#17 writing image sha256:85de8159a598041f7ffe4244328775af400e796a746e674d73d172662790f832 done\n",
      "#17 naming to docker.io/muazhari/autocode-example-app-account:latest done\n",
      "#17 DONE 0.0s\n",
      "\n",
      "#18 [app-product] resolving provenance for metadata file\n",
      "#18 DONE 0.0s\n",
      "\n",
      "#19 [app-account] resolving provenance for metadata file\n",
      "#19 DONE 0.0s\n"
     ]
    },
    {
     "name": "stderr",
     "output_type": "stream",
     "text": [
      " Container example-app-product-1  Created\n",
      " Container example-app-product-2  Created\n",
      " Container example-app-product-3  Created\n",
      " Container example-app-product-4  Created\n",
      " Container example-app-account-1  Created\n",
      " Container example-app-account-2  Created\n",
      " Container example-app-account-3  Created\n",
      " Container example-app-account-4  Created\n",
      " Container example-app-account-5  Created\n",
      " Container example-app-account-6  Created\n",
      " Container example-app-account-7  Created\n",
      " Container example-app-account-8  Created\n",
      " Container example-app-account-9  Created\n",
      " Container example-app-account-10  Created\n",
      " Container example-app-account-11  Created\n",
      " Container example-app-account-12  Created\n",
      " Container example-app-account-13  Created\n",
      " Container example-app-account-14  Created\n",
      " Container example-app-account-15  Created\n",
      " Container example-app-account-16  Created\n",
      " Container example-app-product-5  Created\n",
      " Container example-app-product-6  Created\n",
      " Container example-app-product-7  Created\n",
      " Container example-app-product-8  Created\n",
      " Container example-app-product-9  Created\n",
      " Container example-app-product-10  Created\n",
      " Container example-app-product-11  Created\n",
      " Container example-app-product-12  Created\n",
      " Container example-app-product-13  Created\n",
      " Container example-app-product-14  Created\n",
      " Container example-app-product-15  Created\n",
      " Container example-app-product-16  Created\n",
      " Container example-app-product-12  Starting\n",
      " Container example-app-account-16  Starting\n",
      " Container example-app-account-16  Started\n",
      " Container example-app-account-3  Starting\n",
      " Container example-app-product-12  Started\n",
      " Container example-app-product-4  Starting\n",
      " Container example-app-account-3  Started\n",
      " Container example-app-account-12  Starting\n",
      " Container example-app-product-4  Started\n",
      " Container example-app-product-15  Starting\n",
      " Container example-app-account-12  Started\n",
      " Container example-app-account-6  Starting\n",
      " Container example-app-product-15  Started\n",
      " Container example-app-product-10  Starting\n",
      " Container example-app-account-6  Started\n",
      " Container example-app-account-4  Starting\n",
      " Container example-app-product-10  Started\n",
      " Container example-app-product-9  Starting\n",
      " Container example-app-account-4  Started\n",
      " Container example-app-account-8  Starting\n",
      " Container example-app-product-9  Started\n",
      " Container example-app-product-7  Starting\n",
      " Container example-app-account-8  Started\n",
      " Container example-app-account-11  Starting\n",
      " Container example-app-product-7  Started\n",
      " Container example-app-product-8  Starting\n",
      " Container example-app-account-11  Started\n",
      " Container example-app-account-14  Starting\n",
      " Container example-app-product-8  Started\n",
      " Container example-app-product-11  Starting\n",
      " Container example-app-account-14  Started\n",
      " Container example-app-account-13  Starting\n",
      " Container example-app-product-11  Started\n",
      " Container example-app-product-14  Starting\n",
      " Container example-app-account-13  Started\n",
      " Container example-app-account-10  Starting\n",
      " Container example-app-product-14  Started\n",
      " Container example-app-product-5  Starting\n",
      " Container example-app-account-10  Started\n",
      " Container example-app-account-15  Starting\n",
      " Container example-app-product-5  Started\n",
      " Container example-app-product-13  Starting\n",
      " Container example-app-account-15  Started\n",
      " Container example-app-account-9  Starting\n",
      " Container example-app-product-13  Started\n",
      " Container example-app-product-3  Starting\n",
      " Container example-app-account-9  Started\n",
      " Container example-app-account-5  Starting\n",
      " Container example-app-product-3  Started\n",
      " Container example-app-product-16  Starting\n",
      " Container example-app-account-5  Started\n",
      " Container example-app-account-7  Starting\n",
      " Container example-app-product-16  Started\n",
      " Container example-app-product-6  Starting\n",
      " Container example-app-account-7  Started\n",
      " Container example-app-account-2  Starting\n",
      " Container example-app-product-6  Started\n",
      " Container example-app-product-2  Starting\n",
      " Container example-app-account-2  Started\n",
      " Container example-app-account-1  Starting\n",
      " Container example-app-product-2  Started\n",
      " Container example-app-product-1  Starting\n",
      " Container example-app-account-1  Started\n",
      " Container example-app-product-1  Started\n"
     ]
    }
   ],
   "execution_count": 3
  },
  {
   "metadata": {
    "ExecuteTime": {
     "end_time": "2024-08-05T16:54:04.797703Z",
     "start_time": "2024-08-05T16:54:04.794046Z"
    }
   },
   "cell_type": "code",
   "source": [
    "from autocode import OptimizationObjective\n",
    "from typing import Dict, Any, List\n",
    "from autocode import OptimizationEvaluateRunResponse\n",
    "\n",
    "objectives: List[OptimizationObjective] = [\n",
    "    OptimizationObjective(\n",
    "        type=\"minimize\",\n",
    "    ),\n",
    "    OptimizationObjective(\n",
    "        type=\"maximize\",\n",
    "    ),\n",
    "    OptimizationObjective(\n",
    "        type=\"maximize\",\n",
    "    ),\n",
    "    OptimizationObjective(\n",
    "        type=\"minimize\",\n",
    "    ),\n",
    "    OptimizationObjective(\n",
    "        type=\"maximize\",\n",
    "    ),\n",
    "    OptimizationObjective(\n",
    "        type=\"minimize\",\n",
    "    ),\n",
    "    OptimizationObjective(\n",
    "        type=\"maximize\",\n",
    "    ),\n",
    "\n",
    "    OptimizationObjective(\n",
    "        type=\"minimize\",\n",
    "    ),\n",
    "    OptimizationObjective(\n",
    "        type=\"maximize\",\n",
    "    ),\n",
    "    OptimizationObjective(\n",
    "        type=\"maximize\",\n",
    "    ),\n",
    "    OptimizationObjective(\n",
    "        type=\"minimize\",\n",
    "    ),\n",
    "    OptimizationObjective(\n",
    "        type=\"maximize\",\n",
    "    ),\n",
    "    OptimizationObjective(\n",
    "        type=\"minimize\",\n",
    "    ),\n",
    "    OptimizationObjective(\n",
    "        type=\"maximize\",\n",
    "    ),\n",
    "]\n",
    "\n",
    "\n",
    "def evaluator(inputs: List[OptimizationEvaluateRunResponse]) -> Dict[str, Any]:\n",
    "    output: Dict[str, Any] = {\n",
    "        \"F\": inputs[0].objectives + inputs[1].objectives,\n",
    "    }\n",
    "\n",
    "    return output\n"
   ],
   "id": "5daf173cc5c82482",
   "outputs": [],
   "execution_count": 12
  },
  {
   "metadata": {
    "ExecuteTime": {
     "end_time": "2024-08-05T16:55:41.945361Z",
     "start_time": "2024-08-05T16:54:05.137559Z"
    }
   },
   "cell_type": "code",
   "source": [
    "result = optimization.run(\n",
    "    objectives=objectives,\n",
    "    num_inequality_constraints=0,\n",
    "    num_equality_constraints=0,\n",
    "    evaluator=evaluator\n",
    ")"
   ],
   "id": "38bf58746d0b5933",
   "outputs": [
    {
     "ename": "KeyboardInterrupt",
     "evalue": "",
     "output_type": "error",
     "traceback": [
      "\u001B[0;31m---------------------------------------------------------------------------\u001B[0m",
      "\u001B[0;31mKeyboardInterrupt\u001B[0m                         Traceback (most recent call last)",
      "Cell \u001B[0;32mIn[13], line 1\u001B[0m\n\u001B[0;32m----> 1\u001B[0m result \u001B[38;5;241m=\u001B[39m \u001B[43moptimization\u001B[49m\u001B[38;5;241;43m.\u001B[39;49m\u001B[43mrun\u001B[49m\u001B[43m(\u001B[49m\n\u001B[1;32m      2\u001B[0m \u001B[43m    \u001B[49m\u001B[43mobjectives\u001B[49m\u001B[38;5;241;43m=\u001B[39;49m\u001B[43mobjectives\u001B[49m\u001B[43m,\u001B[49m\n\u001B[1;32m      3\u001B[0m \u001B[43m    \u001B[49m\u001B[43mnum_inequality_constraints\u001B[49m\u001B[38;5;241;43m=\u001B[39;49m\u001B[38;5;241;43m0\u001B[39;49m\u001B[43m,\u001B[49m\n\u001B[1;32m      4\u001B[0m \u001B[43m    \u001B[49m\u001B[43mnum_equality_constraints\u001B[49m\u001B[38;5;241;43m=\u001B[39;49m\u001B[38;5;241;43m0\u001B[39;49m\u001B[43m,\u001B[49m\n\u001B[1;32m      5\u001B[0m \u001B[43m    \u001B[49m\u001B[43mevaluator\u001B[49m\u001B[38;5;241;43m=\u001B[39;49m\u001B[43mevaluator\u001B[49m\n\u001B[1;32m      6\u001B[0m \u001B[43m)\u001B[49m\n",
      "File \u001B[0;32m/mnt/c/Data/Apps/autocode/autocode/__init__.py:131\u001B[0m, in \u001B[0;36mOptimization.run\u001B[0;34m(self, objectives, num_inequality_constraints, num_equality_constraints, evaluator)\u001B[0m\n\u001B[1;32m    123\u001B[0m \u001B[38;5;28;01mdef\u001B[39;00m \u001B[38;5;21mrun\u001B[39m(\n\u001B[1;32m    124\u001B[0m         \u001B[38;5;28mself\u001B[39m,\n\u001B[1;32m    125\u001B[0m         objectives: List[OptimizationObjective],\n\u001B[0;32m   (...)\u001B[0m\n\u001B[1;32m    128\u001B[0m         evaluator: Callable[[List[OptimizationEvaluateRunResponse]], Dict[\u001B[38;5;28mstr\u001B[39m, Any]]\n\u001B[1;32m    129\u001B[0m ) \u001B[38;5;241m-\u001B[39m\u001B[38;5;241m>\u001B[39m Result:\n\u001B[1;32m    130\u001B[0m     optimization_use_case: OptimizationUseCase \u001B[38;5;241m=\u001B[39m \u001B[38;5;28mself\u001B[39m\u001B[38;5;241m.\u001B[39mapplication_container\u001B[38;5;241m.\u001B[39muse_cases\u001B[38;5;241m.\u001B[39moptimization()\n\u001B[0;32m--> 131\u001B[0m     \u001B[38;5;28;01mreturn\u001B[39;00m \u001B[43moptimization_use_case\u001B[49m\u001B[38;5;241;43m.\u001B[39;49m\u001B[43mrun\u001B[49m\u001B[43m(\u001B[49m\n\u001B[1;32m    132\u001B[0m \u001B[43m        \u001B[49m\u001B[43mobjectives\u001B[49m\u001B[38;5;241;43m=\u001B[39;49m\u001B[43mobjectives\u001B[49m\u001B[43m,\u001B[49m\n\u001B[1;32m    133\u001B[0m \u001B[43m        \u001B[49m\u001B[43mnum_inequality_constraints\u001B[49m\u001B[38;5;241;43m=\u001B[39;49m\u001B[43mnum_inequality_constraints\u001B[49m\u001B[43m,\u001B[49m\n\u001B[1;32m    134\u001B[0m \u001B[43m        \u001B[49m\u001B[43mnum_equality_constraints\u001B[49m\u001B[38;5;241;43m=\u001B[39;49m\u001B[43mnum_equality_constraints\u001B[49m\u001B[43m,\u001B[49m\n\u001B[1;32m    135\u001B[0m \u001B[43m        \u001B[49m\u001B[43mevaluator\u001B[49m\u001B[38;5;241;43m=\u001B[39;49m\u001B[43mevaluator\u001B[49m\u001B[43m,\u001B[49m\n\u001B[1;32m    136\u001B[0m \u001B[43m    \u001B[49m\u001B[43m)\u001B[49m\n",
      "File \u001B[0;32m/mnt/c/Data/Apps/autocode/autocode/use_case.py:623\u001B[0m, in \u001B[0;36mOptimizationUseCase.run\u001B[0;34m(self, objectives, num_inequality_constraints, num_equality_constraints, evaluator)\u001B[0m\n\u001B[1;32m    620\u001B[0m session\u001B[38;5;241m.\u001B[39mcommit()\n\u001B[1;32m    621\u001B[0m session\u001B[38;5;241m.\u001B[39mclose()\n\u001B[0;32m--> 623\u001B[0m result: Result \u001B[38;5;241m=\u001B[39m \u001B[38;5;28;43mself\u001B[39;49m\u001B[38;5;241;43m.\u001B[39;49m\u001B[43mminimize\u001B[49m\u001B[43m(\u001B[49m\n\u001B[1;32m    624\u001B[0m \u001B[43m    \u001B[49m\u001B[43mobjectives\u001B[49m\u001B[38;5;241;43m=\u001B[39;49m\u001B[43mobjectives\u001B[49m\u001B[43m,\u001B[49m\n\u001B[1;32m    625\u001B[0m \u001B[43m    \u001B[49m\u001B[43mnum_inequality_constraints\u001B[49m\u001B[38;5;241;43m=\u001B[39;49m\u001B[43mnum_inequality_constraints\u001B[49m\u001B[43m,\u001B[49m\n\u001B[1;32m    626\u001B[0m \u001B[43m    \u001B[49m\u001B[43mnum_equality_constraints\u001B[49m\u001B[38;5;241;43m=\u001B[39;49m\u001B[43mnum_equality_constraints\u001B[49m\u001B[43m,\u001B[49m\n\u001B[1;32m    627\u001B[0m \u001B[43m    \u001B[49m\u001B[43mvariables\u001B[49m\u001B[38;5;241;43m=\u001B[39;49m\u001B[43mvariables\u001B[49m\u001B[43m,\u001B[49m\n\u001B[1;32m    628\u001B[0m \u001B[43m    \u001B[49m\u001B[43mevaluator\u001B[49m\u001B[38;5;241;43m=\u001B[39;49m\u001B[43mevaluator\u001B[49m\u001B[43m,\u001B[49m\n\u001B[1;32m    629\u001B[0m \u001B[43m    \u001B[49m\u001B[43mclients\u001B[49m\u001B[38;5;241;43m=\u001B[39;49m\u001B[43mclients\u001B[49m\n\u001B[1;32m    630\u001B[0m \u001B[43m\u001B[49m\u001B[43m)\u001B[49m\n\u001B[1;32m    632\u001B[0m \u001B[38;5;28;01mif\u001B[39;00m \u001B[38;5;28mtype\u001B[39m(result\u001B[38;5;241m.\u001B[39mF) \u001B[38;5;241m!=\u001B[39m np\u001B[38;5;241m.\u001B[39mndarray \u001B[38;5;129;01mor\u001B[39;00m result\u001B[38;5;241m.\u001B[39mF\u001B[38;5;241m.\u001B[39mndim \u001B[38;5;241m==\u001B[39m \u001B[38;5;241m1\u001B[39m:\n\u001B[1;32m    633\u001B[0m     result\u001B[38;5;241m.\u001B[39mF \u001B[38;5;241m=\u001B[39m np\u001B[38;5;241m.\u001B[39marray([result\u001B[38;5;241m.\u001B[39mF])\n",
      "File \u001B[0;32m/mnt/c/Data/Apps/autocode/autocode/use_case.py:687\u001B[0m, in \u001B[0;36mOptimizationUseCase.minimize\u001B[0;34m(self, objectives, num_inequality_constraints, num_equality_constraints, variables, evaluator, clients)\u001B[0m\n\u001B[1;32m    677\u001B[0m algorithm: SMSEMOA \u001B[38;5;241m=\u001B[39m SMSEMOA(\n\u001B[1;32m    678\u001B[0m     sampling\u001B[38;5;241m=\u001B[39mMixedVariableSampling(),\n\u001B[1;32m    679\u001B[0m     mating\u001B[38;5;241m=\u001B[39mMixedVariableMating(eliminate_duplicates\u001B[38;5;241m=\u001B[39mMixedVariableDuplicateElimination()),\n\u001B[1;32m    680\u001B[0m     eliminate_duplicates\u001B[38;5;241m=\u001B[39mMixedVariableDuplicateElimination(),\n\u001B[1;32m    681\u001B[0m )\n\u001B[1;32m    683\u001B[0m callback: OptimizationCallback \u001B[38;5;241m=\u001B[39m OptimizationCallback(\n\u001B[1;32m    684\u001B[0m     one_datastore\u001B[38;5;241m=\u001B[39m\u001B[38;5;28mself\u001B[39m\u001B[38;5;241m.\u001B[39mone_datastore\n\u001B[1;32m    685\u001B[0m )\n\u001B[0;32m--> 687\u001B[0m result: Result \u001B[38;5;241m=\u001B[39m \u001B[43mminimize\u001B[49m\u001B[43m(\u001B[49m\n\u001B[1;32m    688\u001B[0m \u001B[43m    \u001B[49m\u001B[43mproblem\u001B[49m\u001B[38;5;241;43m=\u001B[39;49m\u001B[43mproblem\u001B[49m\u001B[43m,\u001B[49m\n\u001B[1;32m    689\u001B[0m \u001B[43m    \u001B[49m\u001B[43malgorithm\u001B[49m\u001B[38;5;241;43m=\u001B[39;49m\u001B[43malgorithm\u001B[49m\u001B[43m,\u001B[49m\n\u001B[1;32m    690\u001B[0m \u001B[43m    \u001B[49m\u001B[43mcallback\u001B[49m\u001B[38;5;241;43m=\u001B[39;49m\u001B[43mcallback\u001B[49m\u001B[43m,\u001B[49m\n\u001B[1;32m    691\u001B[0m \u001B[43m    \u001B[49m\u001B[43mseed\u001B[49m\u001B[38;5;241;43m=\u001B[39;49m\u001B[38;5;241;43m1\u001B[39;49m\u001B[43m,\u001B[49m\n\u001B[1;32m    692\u001B[0m \u001B[43m    \u001B[49m\u001B[43mverbose\u001B[49m\u001B[38;5;241;43m=\u001B[39;49m\u001B[38;5;28;43;01mTrue\u001B[39;49;00m\n\u001B[1;32m    693\u001B[0m \u001B[43m\u001B[49m\u001B[43m)\u001B[49m\n\u001B[1;32m    695\u001B[0m \u001B[38;5;28;01mreturn\u001B[39;00m result\n",
      "File \u001B[0;32m~/miniconda3/lib/python3.11/site-packages/pymoo/optimize.py:67\u001B[0m, in \u001B[0;36mminimize\u001B[0;34m(problem, algorithm, termination, copy_algorithm, copy_termination, **kwargs)\u001B[0m\n\u001B[1;32m     64\u001B[0m     algorithm\u001B[38;5;241m.\u001B[39msetup(problem, \u001B[38;5;241m*\u001B[39m\u001B[38;5;241m*\u001B[39mkwargs)\n\u001B[1;32m     66\u001B[0m \u001B[38;5;66;03m# actually execute the algorithm\u001B[39;00m\n\u001B[0;32m---> 67\u001B[0m res \u001B[38;5;241m=\u001B[39m \u001B[43malgorithm\u001B[49m\u001B[38;5;241;43m.\u001B[39;49m\u001B[43mrun\u001B[49m\u001B[43m(\u001B[49m\u001B[43m)\u001B[49m\n\u001B[1;32m     69\u001B[0m \u001B[38;5;66;03m# store the deep copied algorithm in the result object\u001B[39;00m\n\u001B[1;32m     70\u001B[0m res\u001B[38;5;241m.\u001B[39malgorithm \u001B[38;5;241m=\u001B[39m algorithm\n",
      "File \u001B[0;32m~/miniconda3/lib/python3.11/site-packages/pymoo/core/algorithm.py:138\u001B[0m, in \u001B[0;36mAlgorithm.run\u001B[0;34m(self)\u001B[0m\n\u001B[1;32m    136\u001B[0m \u001B[38;5;28;01mdef\u001B[39;00m \u001B[38;5;21mrun\u001B[39m(\u001B[38;5;28mself\u001B[39m):\n\u001B[1;32m    137\u001B[0m     \u001B[38;5;28;01mwhile\u001B[39;00m \u001B[38;5;28mself\u001B[39m\u001B[38;5;241m.\u001B[39mhas_next():\n\u001B[0;32m--> 138\u001B[0m         \u001B[38;5;28;43mself\u001B[39;49m\u001B[38;5;241;43m.\u001B[39;49m\u001B[43mnext\u001B[49m\u001B[43m(\u001B[49m\u001B[43m)\u001B[49m\n\u001B[1;32m    139\u001B[0m     \u001B[38;5;28;01mreturn\u001B[39;00m \u001B[38;5;28mself\u001B[39m\u001B[38;5;241m.\u001B[39mresult()\n",
      "File \u001B[0;32m~/miniconda3/lib/python3.11/site-packages/pymoo/core/algorithm.py:158\u001B[0m, in \u001B[0;36mAlgorithm.next\u001B[0;34m(self)\u001B[0m\n\u001B[1;32m    156\u001B[0m \u001B[38;5;66;03m# call the advance with them after evaluation\u001B[39;00m\n\u001B[1;32m    157\u001B[0m \u001B[38;5;28;01mif\u001B[39;00m infills \u001B[38;5;129;01mis\u001B[39;00m \u001B[38;5;129;01mnot\u001B[39;00m \u001B[38;5;28;01mNone\u001B[39;00m:\n\u001B[0;32m--> 158\u001B[0m     \u001B[38;5;28;43mself\u001B[39;49m\u001B[38;5;241;43m.\u001B[39;49m\u001B[43mevaluator\u001B[49m\u001B[38;5;241;43m.\u001B[39;49m\u001B[43meval\u001B[49m\u001B[43m(\u001B[49m\u001B[38;5;28;43mself\u001B[39;49m\u001B[38;5;241;43m.\u001B[39;49m\u001B[43mproblem\u001B[49m\u001B[43m,\u001B[49m\u001B[43m \u001B[49m\u001B[43minfills\u001B[49m\u001B[43m,\u001B[49m\u001B[43m \u001B[49m\u001B[43malgorithm\u001B[49m\u001B[38;5;241;43m=\u001B[39;49m\u001B[38;5;28;43mself\u001B[39;49m\u001B[43m)\u001B[49m\n\u001B[1;32m    159\u001B[0m     \u001B[38;5;28mself\u001B[39m\u001B[38;5;241m.\u001B[39madvance(infills\u001B[38;5;241m=\u001B[39minfills)\n\u001B[1;32m    161\u001B[0m \u001B[38;5;66;03m# if the algorithm does not follow the infill-advance scheme just call advance\u001B[39;00m\n\u001B[1;32m    162\u001B[0m \u001B[38;5;28;01melse\u001B[39;00m:\n",
      "File \u001B[0;32m~/miniconda3/lib/python3.11/site-packages/pymoo/core/evaluator.py:69\u001B[0m, in \u001B[0;36mEvaluator.eval\u001B[0;34m(self, problem, pop, skip_already_evaluated, evaluate_values_of, count_evals, **kwargs)\u001B[0m\n\u001B[1;32m     65\u001B[0m \u001B[38;5;66;03m# evaluate the solutions (if there are any)\u001B[39;00m\n\u001B[1;32m     66\u001B[0m \u001B[38;5;28;01mif\u001B[39;00m \u001B[38;5;28mlen\u001B[39m(I) \u001B[38;5;241m>\u001B[39m \u001B[38;5;241m0\u001B[39m:\n\u001B[1;32m     67\u001B[0m \n\u001B[1;32m     68\u001B[0m     \u001B[38;5;66;03m# do the actual evaluation - call the sub-function to set the corresponding values to the population\u001B[39;00m\n\u001B[0;32m---> 69\u001B[0m     \u001B[38;5;28;43mself\u001B[39;49m\u001B[38;5;241;43m.\u001B[39;49m\u001B[43m_eval\u001B[49m\u001B[43m(\u001B[49m\u001B[43mproblem\u001B[49m\u001B[43m,\u001B[49m\u001B[43m \u001B[49m\u001B[43mpop\u001B[49m\u001B[43m[\u001B[49m\u001B[43mI\u001B[49m\u001B[43m]\u001B[49m\u001B[43m,\u001B[49m\u001B[43m \u001B[49m\u001B[43mevaluate_values_of\u001B[49m\u001B[43m,\u001B[49m\u001B[43m \u001B[49m\u001B[38;5;241;43m*\u001B[39;49m\u001B[38;5;241;43m*\u001B[39;49m\u001B[43mkwargs\u001B[49m\u001B[43m)\u001B[49m\n\u001B[1;32m     71\u001B[0m \u001B[38;5;66;03m# update the function evaluation counter\u001B[39;00m\n\u001B[1;32m     72\u001B[0m \u001B[38;5;28;01mif\u001B[39;00m count_evals:\n",
      "File \u001B[0;32m~/miniconda3/lib/python3.11/site-packages/pymoo/core/evaluator.py:90\u001B[0m, in \u001B[0;36mEvaluator._eval\u001B[0;34m(self, problem, pop, evaluate_values_of, **kwargs)\u001B[0m\n\u001B[1;32m     87\u001B[0m X \u001B[38;5;241m=\u001B[39m pop\u001B[38;5;241m.\u001B[39mget(\u001B[38;5;124m\"\u001B[39m\u001B[38;5;124mX\u001B[39m\u001B[38;5;124m\"\u001B[39m)\n\u001B[1;32m     89\u001B[0m \u001B[38;5;66;03m# call the problem to evaluate the solutions\u001B[39;00m\n\u001B[0;32m---> 90\u001B[0m out \u001B[38;5;241m=\u001B[39m \u001B[43mproblem\u001B[49m\u001B[38;5;241;43m.\u001B[39;49m\u001B[43mevaluate\u001B[49m\u001B[43m(\u001B[49m\u001B[43mX\u001B[49m\u001B[43m,\u001B[49m\u001B[43m \u001B[49m\u001B[43mreturn_values_of\u001B[49m\u001B[38;5;241;43m=\u001B[39;49m\u001B[43mevaluate_values_of\u001B[49m\u001B[43m,\u001B[49m\u001B[43m \u001B[49m\u001B[43mreturn_as_dictionary\u001B[49m\u001B[38;5;241;43m=\u001B[39;49m\u001B[38;5;28;43;01mTrue\u001B[39;49;00m\u001B[43m,\u001B[49m\u001B[43m \u001B[49m\u001B[38;5;241;43m*\u001B[39;49m\u001B[38;5;241;43m*\u001B[39;49m\u001B[43mkwargs\u001B[49m\u001B[43m)\u001B[49m\n\u001B[1;32m     92\u001B[0m \u001B[38;5;66;03m# for each of the attributes set it to the problem\u001B[39;00m\n\u001B[1;32m     93\u001B[0m \u001B[38;5;28;01mfor\u001B[39;00m key, val \u001B[38;5;129;01min\u001B[39;00m out\u001B[38;5;241m.\u001B[39mitems():\n",
      "File \u001B[0;32m~/miniconda3/lib/python3.11/site-packages/pymoo/core/problem.py:257\u001B[0m, in \u001B[0;36mProblem.evaluate\u001B[0;34m(self, X, return_values_of, return_as_dictionary, *args, **kwargs)\u001B[0m\n\u001B[1;32m    254\u001B[0m     only_single_value \u001B[38;5;241m=\u001B[39m \u001B[38;5;129;01mnot\u001B[39;00m (\u001B[38;5;28misinstance\u001B[39m(X, \u001B[38;5;28mlist\u001B[39m) \u001B[38;5;129;01mor\u001B[39;00m \u001B[38;5;28misinstance\u001B[39m(X, np\u001B[38;5;241m.\u001B[39mndarray))\n\u001B[1;32m    256\u001B[0m \u001B[38;5;66;03m# this is where the actual evaluation takes place\u001B[39;00m\n\u001B[0;32m--> 257\u001B[0m _out \u001B[38;5;241m=\u001B[39m \u001B[38;5;28;43mself\u001B[39;49m\u001B[38;5;241;43m.\u001B[39;49m\u001B[43mdo\u001B[49m\u001B[43m(\u001B[49m\u001B[43mX\u001B[49m\u001B[43m,\u001B[49m\u001B[43m \u001B[49m\u001B[43mreturn_values_of\u001B[49m\u001B[43m,\u001B[49m\u001B[43m \u001B[49m\u001B[38;5;241;43m*\u001B[39;49m\u001B[43margs\u001B[49m\u001B[43m,\u001B[49m\u001B[43m \u001B[49m\u001B[38;5;241;43m*\u001B[39;49m\u001B[38;5;241;43m*\u001B[39;49m\u001B[43mkwargs\u001B[49m\u001B[43m)\u001B[49m\n\u001B[1;32m    259\u001B[0m out \u001B[38;5;241m=\u001B[39m {}\n\u001B[1;32m    260\u001B[0m \u001B[38;5;28;01mfor\u001B[39;00m k, v \u001B[38;5;129;01min\u001B[39;00m _out\u001B[38;5;241m.\u001B[39mitems():\n\u001B[1;32m    261\u001B[0m \n\u001B[1;32m    262\u001B[0m     \u001B[38;5;66;03m# copy it to a numpy array (it might be one of jax at this point)\u001B[39;00m\n",
      "File \u001B[0;32m~/miniconda3/lib/python3.11/site-packages/pymoo/core/problem.py:297\u001B[0m, in \u001B[0;36mProblem.do\u001B[0;34m(self, X, return_values_of, *args, **kwargs)\u001B[0m\n\u001B[1;32m    295\u001B[0m \u001B[38;5;66;03m# do the function evaluation\u001B[39;00m\n\u001B[1;32m    296\u001B[0m \u001B[38;5;28;01mif\u001B[39;00m \u001B[38;5;28mself\u001B[39m\u001B[38;5;241m.\u001B[39melementwise:\n\u001B[0;32m--> 297\u001B[0m     \u001B[38;5;28;43mself\u001B[39;49m\u001B[38;5;241;43m.\u001B[39;49m\u001B[43m_evaluate_elementwise\u001B[49m\u001B[43m(\u001B[49m\u001B[43mX\u001B[49m\u001B[43m,\u001B[49m\u001B[43m \u001B[49m\u001B[43mout\u001B[49m\u001B[43m,\u001B[49m\u001B[43m \u001B[49m\u001B[38;5;241;43m*\u001B[39;49m\u001B[43margs\u001B[49m\u001B[43m,\u001B[49m\u001B[43m \u001B[49m\u001B[38;5;241;43m*\u001B[39;49m\u001B[38;5;241;43m*\u001B[39;49m\u001B[43mkwargs\u001B[49m\u001B[43m)\u001B[49m\n\u001B[1;32m    298\u001B[0m \u001B[38;5;28;01melse\u001B[39;00m:\n\u001B[1;32m    299\u001B[0m     \u001B[38;5;28mself\u001B[39m\u001B[38;5;241m.\u001B[39m_evaluate_vectorized(X, out, \u001B[38;5;241m*\u001B[39margs, \u001B[38;5;241m*\u001B[39m\u001B[38;5;241m*\u001B[39mkwargs)\n",
      "File \u001B[0;32m~/miniconda3/lib/python3.11/site-packages/pymoo/core/problem.py:315\u001B[0m, in \u001B[0;36mProblem._evaluate_elementwise\u001B[0;34m(self, X, out, *args, **kwargs)\u001B[0m\n\u001B[1;32m    312\u001B[0m f \u001B[38;5;241m=\u001B[39m \u001B[38;5;28mself\u001B[39m\u001B[38;5;241m.\u001B[39melementwise_func(\u001B[38;5;28mself\u001B[39m, args, kwargs)\n\u001B[1;32m    314\u001B[0m \u001B[38;5;66;03m# execute the runner\u001B[39;00m\n\u001B[0;32m--> 315\u001B[0m elems \u001B[38;5;241m=\u001B[39m \u001B[38;5;28;43mself\u001B[39;49m\u001B[38;5;241;43m.\u001B[39;49m\u001B[43melementwise_runner\u001B[49m\u001B[43m(\u001B[49m\u001B[43mf\u001B[49m\u001B[43m,\u001B[49m\u001B[43m \u001B[49m\u001B[43mX\u001B[49m\u001B[43m)\u001B[49m\n\u001B[1;32m    317\u001B[0m \u001B[38;5;66;03m# for each evaluation call\u001B[39;00m\n\u001B[1;32m    318\u001B[0m \u001B[38;5;28;01mfor\u001B[39;00m elem \u001B[38;5;129;01min\u001B[39;00m elems:\n\u001B[1;32m    319\u001B[0m \n\u001B[1;32m    320\u001B[0m     \u001B[38;5;66;03m# for each key stored for this evaluation\u001B[39;00m\n",
      "File \u001B[0;32m/mnt/c/Data/Apps/autocode/autocode/use_case.py:373\u001B[0m, in \u001B[0;36mOptimizationProblemRunner.__call__\u001B[0;34m(self, f, X)\u001B[0m\n\u001B[1;32m    371\u001B[0m runnable \u001B[38;5;241m=\u001B[39m ray\u001B[38;5;241m.\u001B[39mremote(f\u001B[38;5;241m.\u001B[39m\u001B[38;5;21m__call__\u001B[39m\u001B[38;5;241m.\u001B[39m\u001B[38;5;18m__func__\u001B[39m)\n\u001B[1;32m    372\u001B[0m futures \u001B[38;5;241m=\u001B[39m [runnable\u001B[38;5;241m.\u001B[39mremote(f, x) \u001B[38;5;28;01mfor\u001B[39;00m x \u001B[38;5;129;01min\u001B[39;00m X]\n\u001B[0;32m--> 373\u001B[0m \u001B[38;5;28;01mreturn\u001B[39;00m \u001B[43mray\u001B[49m\u001B[38;5;241;43m.\u001B[39;49m\u001B[43mget\u001B[49m\u001B[43m(\u001B[49m\u001B[43mfutures\u001B[49m\u001B[43m)\u001B[49m\n",
      "File \u001B[0;32m~/miniconda3/lib/python3.11/site-packages/ray/_private/auto_init_hook.py:21\u001B[0m, in \u001B[0;36mwrap_auto_init.<locals>.auto_init_wrapper\u001B[0;34m(*args, **kwargs)\u001B[0m\n\u001B[1;32m     18\u001B[0m \u001B[38;5;129m@wraps\u001B[39m(fn)\n\u001B[1;32m     19\u001B[0m \u001B[38;5;28;01mdef\u001B[39;00m \u001B[38;5;21mauto_init_wrapper\u001B[39m(\u001B[38;5;241m*\u001B[39margs, \u001B[38;5;241m*\u001B[39m\u001B[38;5;241m*\u001B[39mkwargs):\n\u001B[1;32m     20\u001B[0m     auto_init_ray()\n\u001B[0;32m---> 21\u001B[0m     \u001B[38;5;28;01mreturn\u001B[39;00m \u001B[43mfn\u001B[49m\u001B[43m(\u001B[49m\u001B[38;5;241;43m*\u001B[39;49m\u001B[43margs\u001B[49m\u001B[43m,\u001B[49m\u001B[43m \u001B[49m\u001B[38;5;241;43m*\u001B[39;49m\u001B[38;5;241;43m*\u001B[39;49m\u001B[43mkwargs\u001B[49m\u001B[43m)\u001B[49m\n",
      "File \u001B[0;32m~/miniconda3/lib/python3.11/site-packages/ray/_private/client_mode_hook.py:103\u001B[0m, in \u001B[0;36mclient_mode_hook.<locals>.wrapper\u001B[0;34m(*args, **kwargs)\u001B[0m\n\u001B[1;32m    101\u001B[0m     \u001B[38;5;28;01mif\u001B[39;00m func\u001B[38;5;241m.\u001B[39m\u001B[38;5;18m__name__\u001B[39m \u001B[38;5;241m!=\u001B[39m \u001B[38;5;124m\"\u001B[39m\u001B[38;5;124minit\u001B[39m\u001B[38;5;124m\"\u001B[39m \u001B[38;5;129;01mor\u001B[39;00m is_client_mode_enabled_by_default:\n\u001B[1;32m    102\u001B[0m         \u001B[38;5;28;01mreturn\u001B[39;00m \u001B[38;5;28mgetattr\u001B[39m(ray, func\u001B[38;5;241m.\u001B[39m\u001B[38;5;18m__name__\u001B[39m)(\u001B[38;5;241m*\u001B[39margs, \u001B[38;5;241m*\u001B[39m\u001B[38;5;241m*\u001B[39mkwargs)\n\u001B[0;32m--> 103\u001B[0m \u001B[38;5;28;01mreturn\u001B[39;00m \u001B[43mfunc\u001B[49m\u001B[43m(\u001B[49m\u001B[38;5;241;43m*\u001B[39;49m\u001B[43margs\u001B[49m\u001B[43m,\u001B[49m\u001B[43m \u001B[49m\u001B[38;5;241;43m*\u001B[39;49m\u001B[38;5;241;43m*\u001B[39;49m\u001B[43mkwargs\u001B[49m\u001B[43m)\u001B[49m\n",
      "File \u001B[0;32m~/miniconda3/lib/python3.11/site-packages/ray/_private/worker.py:2667\u001B[0m, in \u001B[0;36mget\u001B[0;34m(object_refs, timeout)\u001B[0m\n\u001B[1;32m   2661\u001B[0m     \u001B[38;5;28;01mraise\u001B[39;00m \u001B[38;5;167;01mValueError\u001B[39;00m(\n\u001B[1;32m   2662\u001B[0m         \u001B[38;5;124mf\u001B[39m\u001B[38;5;124m\"\u001B[39m\u001B[38;5;124mInvalid type of object refs, \u001B[39m\u001B[38;5;132;01m{\u001B[39;00m\u001B[38;5;28mtype\u001B[39m(object_refs)\u001B[38;5;132;01m}\u001B[39;00m\u001B[38;5;124m, is given. \u001B[39m\u001B[38;5;124m\"\u001B[39m\n\u001B[1;32m   2663\u001B[0m         \u001B[38;5;124m\"\u001B[39m\u001B[38;5;124m'\u001B[39m\u001B[38;5;124mobject_refs\u001B[39m\u001B[38;5;124m'\u001B[39m\u001B[38;5;124m must either be an ObjectRef or a list of ObjectRefs. \u001B[39m\u001B[38;5;124m\"\u001B[39m\n\u001B[1;32m   2664\u001B[0m     )\n\u001B[1;32m   2666\u001B[0m \u001B[38;5;66;03m# TODO(ujvl): Consider how to allow user to retrieve the ready objects.\u001B[39;00m\n\u001B[0;32m-> 2667\u001B[0m values, debugger_breakpoint \u001B[38;5;241m=\u001B[39m \u001B[43mworker\u001B[49m\u001B[38;5;241;43m.\u001B[39;49m\u001B[43mget_objects\u001B[49m\u001B[43m(\u001B[49m\u001B[43mobject_refs\u001B[49m\u001B[43m,\u001B[49m\u001B[43m \u001B[49m\u001B[43mtimeout\u001B[49m\u001B[38;5;241;43m=\u001B[39;49m\u001B[43mtimeout\u001B[49m\u001B[43m)\u001B[49m\n\u001B[1;32m   2668\u001B[0m \u001B[38;5;28;01mfor\u001B[39;00m i, value \u001B[38;5;129;01min\u001B[39;00m \u001B[38;5;28menumerate\u001B[39m(values):\n\u001B[1;32m   2669\u001B[0m     \u001B[38;5;28;01mif\u001B[39;00m \u001B[38;5;28misinstance\u001B[39m(value, RayError):\n",
      "File \u001B[0;32m~/miniconda3/lib/python3.11/site-packages/ray/_private/worker.py:843\u001B[0m, in \u001B[0;36mWorker.get_objects\u001B[0;34m(self, object_refs, timeout)\u001B[0m\n\u001B[1;32m    837\u001B[0m         \u001B[38;5;28;01mraise\u001B[39;00m \u001B[38;5;167;01mTypeError\u001B[39;00m(\n\u001B[1;32m    838\u001B[0m             \u001B[38;5;124mf\u001B[39m\u001B[38;5;124m\"\u001B[39m\u001B[38;5;124mAttempting to call `get` on the value \u001B[39m\u001B[38;5;132;01m{\u001B[39;00mobject_ref\u001B[38;5;132;01m}\u001B[39;00m\u001B[38;5;124m, \u001B[39m\u001B[38;5;124m\"\u001B[39m\n\u001B[1;32m    839\u001B[0m             \u001B[38;5;124m\"\u001B[39m\u001B[38;5;124mwhich is not an ray.ObjectRef.\u001B[39m\u001B[38;5;124m\"\u001B[39m\n\u001B[1;32m    840\u001B[0m         )\n\u001B[1;32m    842\u001B[0m timeout_ms \u001B[38;5;241m=\u001B[39m \u001B[38;5;28mint\u001B[39m(timeout \u001B[38;5;241m*\u001B[39m \u001B[38;5;241m1000\u001B[39m) \u001B[38;5;28;01mif\u001B[39;00m timeout \u001B[38;5;129;01mis\u001B[39;00m \u001B[38;5;129;01mnot\u001B[39;00m \u001B[38;5;28;01mNone\u001B[39;00m \u001B[38;5;28;01melse\u001B[39;00m \u001B[38;5;241m-\u001B[39m\u001B[38;5;241m1\u001B[39m\n\u001B[0;32m--> 843\u001B[0m data_metadata_pairs \u001B[38;5;241m=\u001B[39m \u001B[38;5;28;43mself\u001B[39;49m\u001B[38;5;241;43m.\u001B[39;49m\u001B[43mcore_worker\u001B[49m\u001B[38;5;241;43m.\u001B[39;49m\u001B[43mget_objects\u001B[49m\u001B[43m(\u001B[49m\n\u001B[1;32m    844\u001B[0m \u001B[43m    \u001B[49m\u001B[43mobject_refs\u001B[49m\u001B[43m,\u001B[49m\n\u001B[1;32m    845\u001B[0m \u001B[43m    \u001B[49m\u001B[38;5;28;43mself\u001B[39;49m\u001B[38;5;241;43m.\u001B[39;49m\u001B[43mcurrent_task_id\u001B[49m\u001B[43m,\u001B[49m\n\u001B[1;32m    846\u001B[0m \u001B[43m    \u001B[49m\u001B[43mtimeout_ms\u001B[49m\u001B[43m,\u001B[49m\n\u001B[1;32m    847\u001B[0m \u001B[43m\u001B[49m\u001B[43m)\u001B[49m\n\u001B[1;32m    848\u001B[0m debugger_breakpoint \u001B[38;5;241m=\u001B[39m \u001B[38;5;124mb\u001B[39m\u001B[38;5;124m\"\u001B[39m\u001B[38;5;124m\"\u001B[39m\n\u001B[1;32m    849\u001B[0m \u001B[38;5;28;01mfor\u001B[39;00m data, metadata \u001B[38;5;129;01min\u001B[39;00m data_metadata_pairs:\n",
      "File \u001B[0;32mpython/ray/_raylet.pyx:3483\u001B[0m, in \u001B[0;36mray._raylet.CoreWorker.get_objects\u001B[0;34m()\u001B[0m\n",
      "File \u001B[0;32mpython/ray/_raylet.pyx:570\u001B[0m, in \u001B[0;36mray._raylet.check_status\u001B[0;34m()\u001B[0m\n",
      "\u001B[0;31mKeyboardInterrupt\u001B[0m: "
     ]
    }
   ],
   "execution_count": 13
  },
  {
   "metadata": {
    "ExecuteTime": {
     "end_time": "2024-08-05T16:22:53.106990Z",
     "start_time": "2024-08-05T16:22:53.099628Z"
    }
   },
   "cell_type": "code",
   "source": [
    "\n",
    "from sqlmodel import Session, select\n",
    "from autocode.model import Cache\n",
    "from typing import List\n",
    "from autocode.model import OptimizationClient\n",
    "import dill\n",
    "import uuid\n",
    "\n",
    "one_datastore: OneDatastore = application_container.datastores.one()\n",
    "session: Session = one_datastore.get_session()\n",
    "client_caches: List[Cache] = list(session.exec(select(Cache).where(Cache.key.startswith(\"clients\"))))\n",
    "for client_cache in client_caches:\n",
    "    client: OptimizationClient = dill.loads(client_cache.value)\n",
    "    print(client.id, client.name, client.host, client.port, client.worker_id, client.is_ready)\n",
    "    for variable_id, variable in client.variables.items():\n",
    "        print(variable.get_client_id(), variable_id)"
   ],
   "id": "3e9047eda6e46720",
   "outputs": [
    {
     "name": "stdout",
     "output_type": "stream",
     "text": [
      "b6bda9d9-80d2-4de4-8cc6-dd67429f9d4c example-app-account 172.18.0.5 11000 1 True\n",
      "b6bda9d9-80d2-4de4-8cc6-dd67429f9d4c 60554fb1-5582-4ad5-bb41-64223ca590ec\n",
      "b6bda9d9-80d2-4de4-8cc6-dd67429f9d4c 8dcd7b8a-6ace-46bf-9ade-f8deb3498663\n",
      "b6bda9d9-80d2-4de4-8cc6-dd67429f9d4c d4fb73b6-c376-4aaf-af58-3a884ceeac3f\n",
      "b6bda9d9-80d2-4de4-8cc6-dd67429f9d4c e7f6b976-fc6c-4f68-b688-db0152bc4dd7\n",
      "61941dec-6cf9-4f05-bc28-ace8fbef985c example-app-account 172.18.0.3 11000 2 True\n",
      "None 60554fb1-5582-4ad5-bb41-64223ca590ec\n",
      "None 8dcd7b8a-6ace-46bf-9ade-f8deb3498663\n",
      "None d4fb73b6-c376-4aaf-af58-3a884ceeac3f\n",
      "None e7f6b976-fc6c-4f68-b688-db0152bc4dd7\n",
      "8748b13a-ed7c-4ae9-b39a-dfd6aca0a16e example-app-product 172.18.0.4 11000 1 True\n",
      "8748b13a-ed7c-4ae9-b39a-dfd6aca0a16e 337fc9c3-2c97-418a-9825-7dc6342f6b7c\n",
      "8748b13a-ed7c-4ae9-b39a-dfd6aca0a16e 85b53332-6d46-4f1b-8691-578904b9cecd\n",
      "8748b13a-ed7c-4ae9-b39a-dfd6aca0a16e 886183d4-371f-45ac-9dfc-c4bcc84aaeb9\n",
      "8748b13a-ed7c-4ae9-b39a-dfd6aca0a16e c6a51220-2971-4ce5-93c0-cd3d1099c0a0\n",
      "b62b94d7-66c5-4b41-86cb-078a74be54d7 example-app-product 172.18.0.2 11000 2 True\n",
      "None 337fc9c3-2c97-418a-9825-7dc6342f6b7c\n",
      "None 85b53332-6d46-4f1b-8691-578904b9cecd\n",
      "None 886183d4-371f-45ac-9dfc-c4bcc84aaeb9\n",
      "None c6a51220-2971-4ce5-93c0-cd3d1099c0a0\n"
     ]
    }
   ],
   "execution_count": 6
  },
  {
   "metadata": {},
   "cell_type": "code",
   "source": [
    "client: OptimizationClient = OptimizationClient(\n",
    "    name=\"app-product\",\n",
    "    host=\"127.0.0.1\",\n",
    "    port=0,\n",
    "    worker_id=uuid.uuid4().hex,\n",
    "    variables={}\n",
    ")\n",
    "\n",
    "client_cache: Cache = Cache(\n",
    "    key=f\"clients_{client.id}\",\n",
    "    value=dill.dumps(client),\n",
    ")\n",
    "\n",
    "session.add(client_cache)\n",
    "\n",
    "session.commit()\n",
    "session.close()"
   ],
   "id": "d1bee9a5d4548781",
   "outputs": [],
   "execution_count": null
  },
  {
   "metadata": {},
   "cell_type": "code",
   "source": "",
   "id": "eac35cb644dff9c0",
   "outputs": [],
   "execution_count": null
  }
 ],
 "metadata": {
  "kernelspec": {
   "display_name": "Python 3",
   "language": "python",
   "name": "python3"
  },
  "language_info": {
   "codemirror_mode": {
    "name": "ipython",
    "version": 2
   },
   "file_extension": ".py",
   "mimetype": "text/x-python",
   "name": "python",
   "nbconvert_exporter": "python",
   "pygments_lexer": "ipython2",
   "version": "2.7.6"
  }
 },
 "nbformat": 4,
 "nbformat_minor": 5
}
